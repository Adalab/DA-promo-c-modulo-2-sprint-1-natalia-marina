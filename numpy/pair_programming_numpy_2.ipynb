{
 "cells": [
  {
   "attachments": {},
   "cell_type": "markdown",
   "metadata": {},
   "source": [
    "## PAIR PROGRAMMING NUMPY II\n",
    "---"
   ]
  },
  {
   "cell_type": "code",
   "execution_count": 1,
   "metadata": {},
   "outputs": [],
   "source": [
    "import numpy as np\n",
    "import random "
   ]
  },
  {
   "attachments": {},
   "cell_type": "markdown",
   "metadata": {},
   "source": [
    "**EJERCICIO 1**\n",
    "\n",
    "Cread un array de dos dimensiones de 5 filas y 3 columnas. Sobre el array creado anteriormente, extraed:\n",
    "- El valor de la primera fila y la segunda columna.\n",
    "- Los valores de la segunda fila y las dos primeras columnas.\n",
    "- Extraed las filas pares (incluyendo la 0) y todas las columnas.\n",
    "- Extraed los valores que sean mayores que 0.5.\n",
    "- Extraed los valores menores que 0.2 o mayores que 0.5"
   ]
  },
  {
   "cell_type": "code",
   "execution_count": 2,
   "metadata": {},
   "outputs": [
    {
     "data": {
      "text/plain": [
       "array([[12, 10, 19],\n",
       "       [ 6, 19, 10],\n",
       "       [ 5,  7,  4],\n",
       "       [ 6,  7, 15],\n",
       "       [ 2, 17,  4]])"
      ]
     },
     "execution_count": 2,
     "metadata": {},
     "output_type": "execute_result"
    }
   ],
   "source": [
    "# Creamos un array de valores tipo integers con el método ramdom.randint\n",
    "array_2d = np.random.randint(0,20, (5,3))\n",
    "array_2d"
   ]
  },
  {
   "cell_type": "code",
   "execution_count": 3,
   "metadata": {},
   "outputs": [
    {
     "data": {
      "text/plain": [
       "10"
      ]
     },
     "execution_count": 3,
     "metadata": {},
     "output_type": "execute_result"
    }
   ],
   "source": [
    "# El valor de la primera fila y la segunda columna.\n",
    "\n",
    "array_2d[0,1]"
   ]
  },
  {
   "cell_type": "code",
   "execution_count": 4,
   "metadata": {},
   "outputs": [
    {
     "data": {
      "text/plain": [
       "array([ 6, 19])"
      ]
     },
     "execution_count": 4,
     "metadata": {},
     "output_type": "execute_result"
    }
   ],
   "source": [
    "# Los valores de la segunda fila y las dos primeras columnas.\n",
    "\n",
    "array_2d[1,:2]"
   ]
  },
  {
   "cell_type": "code",
   "execution_count": 5,
   "metadata": {},
   "outputs": [
    {
     "data": {
      "text/plain": [
       "array([[12, 10, 19],\n",
       "       [ 5,  7,  4],\n",
       "       [ 2, 17,  4]])"
      ]
     },
     "execution_count": 5,
     "metadata": {},
     "output_type": "execute_result"
    }
   ],
   "source": [
    "# Extraed las filas pares (incluyendo la 0) y todas las columnas.\n",
    "\n",
    "array_2d[0::2]"
   ]
  },
  {
   "cell_type": "code",
   "execution_count": 6,
   "metadata": {},
   "outputs": [
    {
     "data": {
      "text/plain": [
       "array([12, 10, 19,  6, 19, 10,  5,  7,  4,  6,  7, 15,  2, 17,  4])"
      ]
     },
     "execution_count": 6,
     "metadata": {},
     "output_type": "execute_result"
    }
   ],
   "source": [
    "# Extraed los valores que sean mayores que 0.5.\n",
    "\n",
    "array_2d[array_2d > 0.5]"
   ]
  },
  {
   "cell_type": "code",
   "execution_count": 7,
   "metadata": {},
   "outputs": [
    {
     "data": {
      "text/plain": [
       "array([12, 10, 19,  6, 19, 10,  5,  7,  4,  6,  7, 15,  2, 17,  4])"
      ]
     },
     "execution_count": 7,
     "metadata": {},
     "output_type": "execute_result"
    }
   ],
   "source": [
    "# Extraed los valores menores que 0.2 o mayores que 0.5\n",
    "\n",
    "array_2d[(array_2d < 0.2) | (array_2d > 0.5)]"
   ]
  },
  {
   "cell_type": "code",
   "execution_count": 8,
   "metadata": {},
   "outputs": [
    {
     "data": {
      "text/plain": [
       "array([[0.49493538, 0.62974127, 0.57287077],\n",
       "       [0.49130225, 0.25529102, 0.64336998],\n",
       "       [0.20481675, 0.06355683, 0.52531031],\n",
       "       [0.46260345, 0.32341308, 0.70807321],\n",
       "       [0.28191082, 0.62664939, 0.47810917]])"
      ]
     },
     "execution_count": 8,
     "metadata": {},
     "output_type": "execute_result"
    }
   ],
   "source": [
    "# Hacemos el ejercicio uno creando un array de valores tipo float con el método ramdom.rand\n",
    "\n",
    "array_decimal = np.random.rand(5,3)\n",
    "array_decimal"
   ]
  },
  {
   "cell_type": "code",
   "execution_count": 9,
   "metadata": {},
   "outputs": [
    {
     "data": {
      "text/plain": [
       "0.629741273930009"
      ]
     },
     "execution_count": 9,
     "metadata": {},
     "output_type": "execute_result"
    }
   ],
   "source": [
    "array_decimal[0,1]"
   ]
  },
  {
   "cell_type": "code",
   "execution_count": 10,
   "metadata": {},
   "outputs": [
    {
     "data": {
      "text/plain": [
       "array([0.49130225, 0.25529102])"
      ]
     },
     "execution_count": 10,
     "metadata": {},
     "output_type": "execute_result"
    }
   ],
   "source": [
    "array_decimal[1,:2]"
   ]
  },
  {
   "cell_type": "code",
   "execution_count": 11,
   "metadata": {},
   "outputs": [
    {
     "data": {
      "text/plain": [
       "array([[0.49493538, 0.62974127, 0.57287077],\n",
       "       [0.20481675, 0.06355683, 0.52531031],\n",
       "       [0.28191082, 0.62664939, 0.47810917]])"
      ]
     },
     "execution_count": 11,
     "metadata": {},
     "output_type": "execute_result"
    }
   ],
   "source": [
    "array_decimal[0::2]"
   ]
  },
  {
   "cell_type": "code",
   "execution_count": 12,
   "metadata": {},
   "outputs": [
    {
     "data": {
      "text/plain": [
       "array([0.62974127, 0.57287077, 0.64336998, 0.52531031, 0.70807321,\n",
       "       0.62664939])"
      ]
     },
     "execution_count": 12,
     "metadata": {},
     "output_type": "execute_result"
    }
   ],
   "source": [
    "array_decimal[array_decimal > 0.5]"
   ]
  },
  {
   "cell_type": "code",
   "execution_count": 13,
   "metadata": {},
   "outputs": [
    {
     "data": {
      "text/plain": [
       "array([0.62974127, 0.57287077, 0.64336998, 0.06355683, 0.52531031,\n",
       "       0.70807321, 0.62664939])"
      ]
     },
     "execution_count": 13,
     "metadata": {},
     "output_type": "execute_result"
    }
   ],
   "source": [
    "array_decimal[(array_decimal < 0.2) | (array_decimal > 0.5)]"
   ]
  },
  {
   "cell_type": "markdown",
   "metadata": {},
   "source": [
    "---"
   ]
  },
  {
   "attachments": {},
   "cell_type": "markdown",
   "metadata": {},
   "source": [
    "**EJERCICIO 2**\n",
    "\n",
    "Cread dos array de tres dimensiones:\n",
    "- El primero de 2 matrices, 5 filas y 3 columnas.\n",
    "- El segundo de 3 matrices, 2 filas y 5 columnas.\n",
    "- Haced un análisis exploratorio de los array creados. Recordad que en el ejercicio de ayer nos creamos una función para esto.\n",
    "- Sumad los dos arrays. ¿Podéis? ¿Por qué?\n",
    "- Para cambiar la forma de un array y poder hacer operaciones entre arrays que tienen distintas formas hemos aprendido dos métodos:\n",
    "    - .reshape()\n",
    "    - .transpose()\n",
    "    \n",
    "    Utiliza estas dos funciones para cambiar la forma de los array y hacer operaciones entre ellos."
   ]
  },
  {
   "cell_type": "code",
   "execution_count": 14,
   "metadata": {},
   "outputs": [
    {
     "data": {
      "text/plain": [
       "array([[[0.6057395 , 0.14886757, 0.45888219],\n",
       "        [0.04055505, 0.4758217 , 0.21438178],\n",
       "        [0.49758851, 0.21878025, 0.41141364],\n",
       "        [0.50458413, 0.49837026, 0.4412849 ],\n",
       "        [0.63587788, 0.09116866, 0.76412324]],\n",
       "\n",
       "       [[0.61635949, 0.94690285, 0.65368822],\n",
       "        [0.52718572, 0.31329497, 0.48281566],\n",
       "        [0.19070509, 0.27563542, 0.29007822],\n",
       "        [0.71213072, 0.91205708, 0.87756922],\n",
       "        [0.31247038, 0.90180535, 0.0132278 ]]])"
      ]
     },
     "execution_count": 14,
     "metadata": {},
     "output_type": "execute_result"
    }
   ],
   "source": [
    "# Creamos el array de 2 matrices, 5 filas y 3 columnas\n",
    "\n",
    "array_3d = np.random.rand(2,5,3)\n",
    "array_3d"
   ]
  },
  {
   "cell_type": "code",
   "execution_count": 15,
   "metadata": {},
   "outputs": [
    {
     "data": {
      "text/plain": [
       "array([[[0.86197116, 0.40979041],\n",
       "        [0.43740122, 0.29316054],\n",
       "        [0.42181227, 0.77143172],\n",
       "        [0.28422838, 0.1213745 ],\n",
       "        [0.60717951, 0.83998237]],\n",
       "\n",
       "       [[0.54608244, 0.21200874],\n",
       "        [0.42749795, 0.69658878],\n",
       "        [0.84847901, 0.09890141],\n",
       "        [0.49895059, 0.27044072],\n",
       "        [0.52719132, 0.59670251]],\n",
       "\n",
       "       [[0.7416032 , 0.0760308 ],\n",
       "        [0.75728095, 0.11569678],\n",
       "        [0.98569154, 0.50683623],\n",
       "        [0.35623486, 0.76257421],\n",
       "        [0.4544456 , 0.46929593]]])"
      ]
     },
     "execution_count": 15,
     "metadata": {},
     "output_type": "execute_result"
    }
   ],
   "source": [
    "# El segundo de 3 matrices, 2 filas y 5 columnas\n",
    "\n",
    "array2_3d= np.random.rand(3,5,2)\n",
    "array2_3d"
   ]
  },
  {
   "cell_type": "code",
   "execution_count": 18,
   "metadata": {},
   "outputs": [],
   "source": [
    "# Análisis exploratorio de los array con una función creada para ello\n",
    "\n",
    "def propiedades_array(array):\n",
    "    array.shape\n",
    "    array.size\n",
    "    array.ndim\n",
    "    array.dtype\n",
    "    return f'La forma del array es {array.shape}, el numero de elementos es {array.size}, las dimensiones son {array.ndim} y el tipo de dato contenido es {array.dtype}'\n"
   ]
  },
  {
   "cell_type": "code",
   "execution_count": 19,
   "metadata": {},
   "outputs": [
    {
     "data": {
      "text/plain": [
       "'La forma del array es (2, 5, 3), el numero de elementos es 30, las dimensiones son 3 y el tipo de dato contenido es float64'"
      ]
     },
     "execution_count": 19,
     "metadata": {},
     "output_type": "execute_result"
    }
   ],
   "source": [
    "propiedades_array(array_3d)"
   ]
  },
  {
   "cell_type": "code",
   "execution_count": null,
   "metadata": {},
   "outputs": [
    {
     "data": {
      "text/plain": [
       "'La forma del array es (3, 5, 2), el numero de elementos es 30, las dimensiones son 3 y el tipo de dato contenido es float64'"
      ]
     },
     "execution_count": 25,
     "metadata": {},
     "output_type": "execute_result"
    }
   ],
   "source": [
    "propiedades_array(array2_3d)"
   ]
  },
  {
   "cell_type": "code",
   "execution_count": null,
   "metadata": {},
   "outputs": [
    {
     "ename": "ValueError",
     "evalue": "operands could not be broadcast together with shapes (2,5,3) (3,5,2) ",
     "output_type": "error",
     "traceback": [
      "\u001b[0;31m---------------------------------------------------------------------------\u001b[0m",
      "\u001b[0;31mValueError\u001b[0m                                Traceback (most recent call last)",
      "\u001b[0;32m/tmp/ipykernel_456/2621196760.py\u001b[0m in \u001b[0;36m<module>\u001b[0;34m\u001b[0m\n\u001b[0;32m----> 1\u001b[0;31m \u001b[0mnp\u001b[0m\u001b[0;34m.\u001b[0m\u001b[0madd\u001b[0m\u001b[0;34m(\u001b[0m\u001b[0marray_3d\u001b[0m\u001b[0;34m,\u001b[0m \u001b[0marray2_3d\u001b[0m\u001b[0;34m)\u001b[0m\u001b[0;34m\u001b[0m\u001b[0;34m\u001b[0m\u001b[0m\n\u001b[0m",
      "\u001b[0;31mValueError\u001b[0m: operands could not be broadcast together with shapes (2,5,3) (3,5,2) "
     ]
    }
   ],
   "source": [
    "np.add(array_3d, array2_3d) #No podemos sumarlo por tener formas diferentes."
   ]
  },
  {
   "cell_type": "code",
   "execution_count": null,
   "metadata": {},
   "outputs": [
    {
     "data": {
      "text/plain": [
       "array([[[0.23507125, 0.45423736, 0.71914445],\n",
       "        [0.50160988, 0.97648517, 0.51895234],\n",
       "        [0.73595618, 0.12119883, 0.36712574],\n",
       "        [0.2770729 , 0.3158952 , 0.57367003],\n",
       "        [0.81977586, 0.2251486 , 0.70808563]],\n",
       "\n",
       "       [[0.89796823, 0.95905481, 0.38371504],\n",
       "        [0.27334711, 0.12978778, 0.85244976],\n",
       "        [0.49505768, 0.6869492 , 0.73812282],\n",
       "        [0.55736212, 0.76327337, 0.32444272],\n",
       "        [0.39653569, 0.7217564 , 0.58849597]]])"
      ]
     },
     "execution_count": 29,
     "metadata": {},
     "output_type": "execute_result"
    }
   ],
   "source": [
    "# Cambiamos la forma del segundo array, array2_3d, con el método transpose y lo guardamos en la \n",
    "# variable arraytrans, igualándolo a la forma del array_3d para poder sumarlos en la siguiente celda.\n",
    "\n",
    "arraytrans= np.transpose(array2_3d, (2,1,0))\n",
    "arraytrans"
   ]
  },
  {
   "cell_type": "code",
   "execution_count": null,
   "metadata": {},
   "outputs": [
    {
     "data": {
      "text/plain": [
       "array([[[0.97329431, 0.97140151, 1.18680852],\n",
       "        [0.61829027, 1.06522447, 1.17595373],\n",
       "        [1.64558956, 0.8257412 , 0.97860088],\n",
       "        [1.13904977, 0.75554344, 1.38460986],\n",
       "        [1.04983196, 0.72665097, 0.963906  ]],\n",
       "\n",
       "       [[1.05785114, 1.94410845, 0.66045052],\n",
       "        [0.78692346, 0.14678149, 1.74171388],\n",
       "        [1.42183759, 1.00810916, 1.28818433],\n",
       "        [0.75386045, 1.3072462 , 0.48013092],\n",
       "        [0.64989754, 1.57086887, 1.3133057 ]]])"
      ]
     },
     "execution_count": 30,
     "metadata": {},
     "output_type": "execute_result"
    }
   ],
   "source": [
    "# Sumamos los dos arrays.\n",
    "\n",
    "np.add(array_3d, arraytrans)"
   ]
  },
  {
   "cell_type": "code",
   "execution_count": null,
   "metadata": {},
   "outputs": [
    {
     "data": {
      "text/plain": [
       "array([[[0.24706445, 0.31298815],\n",
       "        [0.37260427, 0.00373906],\n",
       "        [0.20119273, 0.16589038],\n",
       "        [0.58972437, 0.48373422],\n",
       "        [0.0413657 , 0.87627672]],\n",
       "\n",
       "       [[0.71506673, 0.99643391],\n",
       "        [0.66632568, 0.33265652],\n",
       "        [0.04971185, 0.65897798],\n",
       "        [0.61309578, 0.26204148],\n",
       "        [0.19182756, 0.54493866]],\n",
       "\n",
       "       [[0.38013675, 0.70586496],\n",
       "        [0.18309636, 0.40902662],\n",
       "        [0.89492177, 0.0469691 ],\n",
       "        [0.03687116, 0.98101362],\n",
       "        [0.56306695, 0.26578889]]])"
      ]
     },
     "execution_count": 35,
     "metadata": {},
     "output_type": "execute_result"
    }
   ],
   "source": [
    "# Cambiamos la forma del array, array_3d, con el método reshape y lo guardamos en la variable \n",
    "# arraysha, igualándolo a la forma del array_3d para poder sumarlos en la siguiente celda.\n",
    "\n",
    "arraysha= array_3d = np.reshape(array_3d, (3, 5, 2))\n",
    "arraysha"
   ]
  },
  {
   "cell_type": "code",
   "execution_count": null,
   "metadata": {},
   "outputs": [
    {
     "data": {
      "text/plain": [
       "array([[[0.4821357 , 1.21095638],\n",
       "        [0.87421415, 0.27708617],\n",
       "        [0.93714891, 0.66094807],\n",
       "        [0.86679728, 1.04109634],\n",
       "        [0.86114156, 1.2728124 ]],\n",
       "\n",
       "       [[1.16930409, 1.95548872],\n",
       "        [1.64281085, 0.4624443 ],\n",
       "        [0.17091067, 1.34592718],\n",
       "        [0.92899098, 1.02531486],\n",
       "        [0.41697616, 1.26669505]],\n",
       "\n",
       "       [[1.09928119, 1.08958001],\n",
       "        [0.70204869, 1.26147637],\n",
       "        [1.26204751, 0.78509192],\n",
       "        [0.61054119, 1.30545633],\n",
       "        [1.27115258, 0.85428486]]])"
      ]
     },
     "execution_count": 36,
     "metadata": {},
     "output_type": "execute_result"
    }
   ],
   "source": [
    "# Sumamos\n",
    "\n",
    "np.add(array2_3d, arraysha)"
   ]
  }
 ],
 "metadata": {
  "kernelspec": {
   "display_name": "Python 3.9.7 ('base': conda)",
   "language": "python",
   "name": "python3"
  },
  "language_info": {
   "codemirror_mode": {
    "name": "ipython",
    "version": 3
   },
   "file_extension": ".py",
   "mimetype": "text/x-python",
   "name": "python",
   "nbconvert_exporter": "python",
   "pygments_lexer": "ipython3",
   "version": "3.9.7"
  },
  "orig_nbformat": 4,
  "vscode": {
   "interpreter": {
    "hash": "819a5c43c1fad9e35c5b1180124e231b422fc24c453463d400a90e0aae1b9c8c"
   }
  }
 },
 "nbformat": 4,
 "nbformat_minor": 2
}
