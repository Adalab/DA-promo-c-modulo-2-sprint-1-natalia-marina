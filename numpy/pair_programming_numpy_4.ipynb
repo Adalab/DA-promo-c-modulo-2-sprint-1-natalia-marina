{
 "cells": [
  {
   "attachments": {},
   "cell_type": "markdown",
   "metadata": {},
   "source": [
    "## PAIR PROGRAMMING NUMPY IV\n",
    "---"
   ]
  },
  {
   "cell_type": "code",
   "execution_count": 2,
   "metadata": {},
   "outputs": [],
   "source": [
    "import numpy as np\n",
    "import pandas as pd\n",
    "import random"
   ]
  },
  {
   "attachments": {},
   "cell_type": "markdown",
   "metadata": {},
   "source": [
    "**EJERCICIO 1**\n",
    "\n",
    "¿Cómo podemos crear dos arrays de dos dimensiones usando el método random_sample que tengan los mismos valores?"
   ]
  },
  {
   "cell_type": "code",
   "execution_count": 3,
   "metadata": {},
   "outputs": [
    {
     "data": {
      "text/plain": [
       "array([[[4.17022005e-01, 7.20324493e-01, 1.14374817e-04, 3.02332573e-01,\n",
       "         1.46755891e-01],\n",
       "        [9.23385948e-02, 1.86260211e-01, 3.45560727e-01, 3.96767474e-01,\n",
       "         5.38816734e-01],\n",
       "        [4.19194514e-01, 6.85219500e-01, 2.04452250e-01, 8.78117436e-01,\n",
       "         2.73875932e-02]],\n",
       "\n",
       "       [[6.70467510e-01, 4.17304802e-01, 5.58689828e-01, 1.40386939e-01,\n",
       "         1.98101489e-01],\n",
       "        [8.00744569e-01, 9.68261576e-01, 3.13424178e-01, 6.92322616e-01,\n",
       "         8.76389152e-01],\n",
       "        [8.94606664e-01, 8.50442114e-02, 3.90547832e-02, 1.69830420e-01,\n",
       "         8.78142503e-01]]])"
      ]
     },
     "execution_count": 3,
     "metadata": {},
     "output_type": "execute_result"
    }
   ],
   "source": [
    "# Generamos dos arrays con los mismo valores utilizamos random.seed\n",
    "\n",
    "np.random.seed(1)\n",
    "array1 = np.random.random_sample((2,3,5))\n",
    "array1"
   ]
  },
  {
   "cell_type": "code",
   "execution_count": 4,
   "metadata": {},
   "outputs": [
    {
     "data": {
      "text/plain": [
       "array([[[4.17022005e-01, 7.20324493e-01, 1.14374817e-04, 3.02332573e-01,\n",
       "         1.46755891e-01],\n",
       "        [9.23385948e-02, 1.86260211e-01, 3.45560727e-01, 3.96767474e-01,\n",
       "         5.38816734e-01],\n",
       "        [4.19194514e-01, 6.85219500e-01, 2.04452250e-01, 8.78117436e-01,\n",
       "         2.73875932e-02]],\n",
       "\n",
       "       [[6.70467510e-01, 4.17304802e-01, 5.58689828e-01, 1.40386939e-01,\n",
       "         1.98101489e-01],\n",
       "        [8.00744569e-01, 9.68261576e-01, 3.13424178e-01, 6.92322616e-01,\n",
       "         8.76389152e-01],\n",
       "        [8.94606664e-01, 8.50442114e-02, 3.90547832e-02, 1.69830420e-01,\n",
       "         8.78142503e-01]]])"
      ]
     },
     "execution_count": 4,
     "metadata": {},
     "output_type": "execute_result"
    }
   ],
   "source": [
    "np.random.seed(1)\n",
    "array2 = np.random.random_sample((2,3,5))\n",
    "array2"
   ]
  },
  {
   "attachments": {},
   "cell_type": "markdown",
   "metadata": {},
   "source": [
    "---"
   ]
  },
  {
   "attachments": {},
   "cell_type": "markdown",
   "metadata": {},
   "source": [
    "**EJERCICIO 2**\n",
    "\n",
    "Cread los siguientes arrays:\n",
    "- Un array de tres dimensiones con distribución uniforme de 2 x 3 x 5, con números entre 0 y 10, que no tengan decimales y extrae sus valores únicos almacenándolos en una variable.\n",
    "\n",
    "\n",
    "\n"
   ]
  },
  {
   "cell_type": "code",
   "execution_count": 12,
   "metadata": {},
   "outputs": [
    {
     "data": {
      "text/plain": [
       "array([[[ 0.,  0.,  0.,  2.,  9.],\n",
       "        [ 5.,  6.,  8.,  1.,  3.],\n",
       "        [ 6., 10.,  6.,  0.,  8.]],\n",
       "\n",
       "       [[ 2.,  8.,  4.,  9.,  7.],\n",
       "        [ 6.,  1.,  1.,  1.,  0.],\n",
       "        [ 1.,  2.,  7.,  6.,  0.]]])"
      ]
     },
     "execution_count": 12,
     "metadata": {},
     "output_type": "execute_result"
    }
   ],
   "source": [
    "# Creamos el array con el método np.random.uniform\n",
    "\n",
    "array3 = np.random.uniform(0,10, size = (2,3,5))\n",
    "array3= array3.round(0)\n",
    "array3"
   ]
  },
  {
   "cell_type": "code",
   "execution_count": 13,
   "metadata": {},
   "outputs": [
    {
     "data": {
      "text/plain": [
       "array([ 0.,  1.,  2.,  3.,  4.,  5.,  6.,  7.,  8.,  9., 10.])"
      ]
     },
     "execution_count": 13,
     "metadata": {},
     "output_type": "execute_result"
    }
   ],
   "source": [
    "# Extraemos y almacenamos los valores únicos del array con el método np.unique\n",
    "\n",
    "array3_unicos = np.unique(array3)\n",
    "array3_unicos"
   ]
  },
  {
   "attachments": {},
   "cell_type": "markdown",
   "metadata": {},
   "source": [
    "- Un array de tres dimensiones con distribución binomial de 2 x 3 x 5, con probabilidad de 0.3 y número de pruebas igual a 10. Igual que antes, extrae sus valores únicos y guarda los datos en una variable."
   ]
  },
  {
   "cell_type": "code",
   "execution_count": 18,
   "metadata": {},
   "outputs": [
    {
     "data": {
      "text/plain": [
       "array([[[3, 2, 4, 1, 2],\n",
       "        [4, 2, 3, 3, 5],\n",
       "        [2, 1, 4, 4, 5]],\n",
       "\n",
       "       [[5, 0, 2, 3, 5],\n",
       "        [5, 3, 5, 3, 3],\n",
       "        [3, 3, 3, 5, 5]]])"
      ]
     },
     "execution_count": 18,
     "metadata": {},
     "output_type": "execute_result"
    }
   ],
   "source": [
    "# Creamos el array con el método np.random.binomial\n",
    "\n",
    "array_binomial = np.random.binomial(10, 0.3, size = (2,3,5))\n",
    "array_binomial"
   ]
  },
  {
   "cell_type": "code",
   "execution_count": 19,
   "metadata": {},
   "outputs": [
    {
     "data": {
      "text/plain": [
       "array([0, 1, 2, 3, 4, 5])"
      ]
     },
     "execution_count": 19,
     "metadata": {},
     "output_type": "execute_result"
    }
   ],
   "source": [
    "# Extraemos y almacenamos los valores únicos del array con el método np.unique\n",
    "\n",
    "array_binomial_unicos = np.unique(array_binomial)\n",
    "array_binomial_unicos"
   ]
  },
  {
   "attachments": {},
   "cell_type": "markdown",
   "metadata": {},
   "source": [
    "---"
   ]
  },
  {
   "attachments": {},
   "cell_type": "markdown",
   "metadata": {},
   "source": [
    "**EJERCICIO 3**\n",
    " \n",
    "En esta lección hemos aprendido algunos métodos de teórias de conjuntos. Usando los arrays de elementos únicos obtenidos en el ejercicio anterior realizad las siguientes operaciones:\n",
    "\n",
    "\n",
    "Elementos comunes entre los dos arrays\n",
    "\n",
    "Unión de los dos arrays\n",
    "\n",
    "\n",
    "¿Qué elementos están en el array derivado de la distribución uniforme y no en los únicos de la distribución binomial? Extrae los valores númericos\n",
    "\n",
    "\n",
    "⚠️ Explicar cada uno de los outputs que os salgan. Que significa cada una de estas operaciones que hemos ido extrayendo?"
   ]
  },
  {
   "cell_type": "code",
   "execution_count": 20,
   "metadata": {},
   "outputs": [
    {
     "data": {
      "text/plain": [
       "array([0., 1., 2., 3., 4., 5.])"
      ]
     },
     "execution_count": 20,
     "metadata": {},
     "output_type": "execute_result"
    }
   ],
   "source": [
    "# Extraemos los elementos comunes entre los dos arrays con el método np.intersect1d, \n",
    "# nos devuelve en orden ascendente los valores que se encuentran en los dos arrays sin duplicados.\n",
    "\n",
    "comunes = np.intersect1d(array3_unicos, array_binomial_unicos)\n",
    "comunes"
   ]
  },
  {
   "cell_type": "code",
   "execution_count": 21,
   "metadata": {},
   "outputs": [
    {
     "data": {
      "text/plain": [
       "array([ 0.,  1.,  2.,  3.,  4.,  5.,  6.,  7.,  8.,  9., 10.])"
      ]
     },
     "execution_count": 21,
     "metadata": {},
     "output_type": "execute_result"
    }
   ],
   "source": [
    "# Realizamos la unión de los dos arrays con el método np.union1d, \n",
    "# obteniendo en orden ascendente los valores de los dos arrays sin duplicados\n",
    "union = np.union1d(array3_unicos, array_binomial_unicos)\n",
    "union"
   ]
  },
  {
   "cell_type": "code",
   "execution_count": 23,
   "metadata": {},
   "outputs": [
    {
     "data": {
      "text/plain": [
       "array([ 6.,  7.,  8.,  9., 10.])"
      ]
     },
     "execution_count": 23,
     "metadata": {},
     "output_type": "execute_result"
    }
   ],
   "source": [
    "# Extraemos los valores numéricos que están en el array uniforme(poniéndolo en primera posición)\n",
    "# y no en los del array binomial(segunda posición), con el método np. setdiff1d\n",
    "\n",
    "extraccion = np.setdiff1d(array3 , array_binomial_unicos)\n",
    "extraccion"
   ]
  },
  {
   "attachments": {},
   "cell_type": "markdown",
   "metadata": {},
   "source": [
    "---"
   ]
  },
  {
   "attachments": {},
   "cell_type": "markdown",
   "metadata": {},
   "source": [
    "**EJERCICIO 4**\n",
    "\n",
    "- Cread dos arrays usando el método random.randint de Numpy con 80 elementos cada uno con números \n",
    "del 1-100, con los siguientes nombres array1 y array2.\n"
   ]
  },
  {
   "cell_type": "code",
   "execution_count": 42,
   "metadata": {},
   "outputs": [
    {
     "data": {
      "text/plain": [
       "array([26, 78, 17,  5, 89, 28, 51, 69,  4, 59, 13,  3, 77, 97, 97, 62, 16,\n",
       "       75, 13, 19, 31, 60,  6, 17, 96, 97, 61, 44, 32, 45, 25, 63, 80, 22,\n",
       "       20, 78, 34,  5, 40, 68, 35, 35, 43, 79, 83, 39, 49, 82,  6, 92,  9,\n",
       "       41, 70,  6,  8, 79, 38, 79, 34, 28, 52, 78, 31, 44, 47, 10, 68,  4,\n",
       "       68, 55, 98, 64, 81, 29, 38, 65, 38, 94, 19, 79])"
      ]
     },
     "execution_count": 42,
     "metadata": {},
     "output_type": "execute_result"
    }
   ],
   "source": [
    "array1 = np.random.randint(1, 100, (80))\n",
    "array1"
   ]
  },
  {
   "cell_type": "code",
   "execution_count": 43,
   "metadata": {},
   "outputs": [
    {
     "data": {
      "text/plain": [
       "array([71, 93, 53, 11, 33, 47, 64, 94, 19, 37, 30, 40, 29, 55, 30, 56, 91,\n",
       "       28, 61, 13, 18, 72, 92,  8, 84, 57, 52, 33, 77, 63, 52, 97, 31, 23,\n",
       "        6, 92, 96, 23, 77, 23, 19, 94, 30, 19, 53, 32, 50, 99, 84, 94, 46,\n",
       "       52, 87, 16, 72, 49, 29, 84, 28, 44, 20, 80, 71, 89, 87, 12, 66, 94,\n",
       "       16, 52, 99, 87, 46, 64, 43, 23, 83, 41, 45, 17])"
      ]
     },
     "execution_count": 43,
     "metadata": {},
     "output_type": "execute_result"
    }
   ],
   "source": [
    "array2 = np.random.randint(1, 100, (80))\n",
    "array2"
   ]
  },
  {
   "attachments": {},
   "cell_type": "markdown",
   "metadata": {},
   "source": [
    "- Extraed los valores únicos de cada uno de los arrays y los guardáis en variables en las que se les llame array1 y array2."
   ]
  },
  {
   "cell_type": "code",
   "execution_count": 47,
   "metadata": {},
   "outputs": [
    {
     "name": "stdout",
     "output_type": "stream",
     "text": [
      "[ 3  4  5  6  8  9 10 13 16 17 19 20 22 25 26 28 29 31 32 34 35 38 39 40\n",
      " 41 43 44 45 47 49 51 52 55 59 60 61 62 63 64 65 68 69 70 75 77 78 79 80\n",
      " 81 82 83 89 92 94 96 97 98]\n",
      "------------------------------------------------------------------------\n",
      "[ 6  8 11 12 13 16 17 18 19 20 23 28 29 30 31 32 33 37 40 41 43 44 45 46\n",
      " 47 49 50 52 53 55 56 57 61 63 64 66 71 72 77 80 83 84 87 89 91 92 93 94\n",
      " 96 97 99]\n"
     ]
    }
   ],
   "source": [
    "array1 = np.unique(array1)\n",
    "print(array1)\n",
    "print('------------------------------------------------------------------------')\n",
    "array2 = np.unique(array2)\n",
    "print(array2)"
   ]
  },
  {
   "attachments": {},
   "cell_type": "markdown",
   "metadata": {},
   "source": [
    "- Identificad los elementos presentes en el array1 pero no en el array2 y asiganarlo a una variable que se llame array3.\n",
    "\n",
    "\n"
   ]
  },
  {
   "cell_type": "code",
   "execution_count": 48,
   "metadata": {},
   "outputs": [
    {
     "data": {
      "text/plain": [
       "array([ 3,  4,  5,  9, 10, 22, 25, 26, 34, 35, 38, 39, 51, 59, 60, 62, 65,\n",
       "       68, 69, 70, 75, 78, 79, 81, 82, 98])"
      ]
     },
     "execution_count": 48,
     "metadata": {},
     "output_type": "execute_result"
    }
   ],
   "source": [
    "array3 = np.setdiff1d(array1, array2)\n",
    "array3"
   ]
  },
  {
   "attachments": {},
   "cell_type": "markdown",
   "metadata": {},
   "source": [
    "- Identificad los elementos presentes en el array2 pero no en el array1 y asiganarlo a una variable que se llame array4.\n",
    "\n"
   ]
  },
  {
   "cell_type": "code",
   "execution_count": 49,
   "metadata": {},
   "outputs": [
    {
     "data": {
      "text/plain": [
       "array([11, 12, 18, 23, 30, 33, 37, 46, 50, 53, 56, 57, 66, 71, 72, 84, 87,\n",
       "       91, 93, 99])"
      ]
     },
     "execution_count": 49,
     "metadata": {},
     "output_type": "execute_result"
    }
   ],
   "source": [
    "array4 = np.setdiff1d(array2, array1)\n",
    "array4"
   ]
  },
  {
   "attachments": {},
   "cell_type": "markdown",
   "metadata": {},
   "source": [
    "- Identificad los elementos presentes en ambos arrays y asiganarlos a una variable que se llame array5.\n",
    "\n"
   ]
  },
  {
   "cell_type": "code",
   "execution_count": 57,
   "metadata": {},
   "outputs": [
    {
     "data": {
      "text/plain": [
       "array([ 3,  4,  5,  6,  8,  9, 10, 11, 12, 13, 16, 17, 18, 19, 20, 22, 23,\n",
       "       25, 26, 28, 29, 30, 31, 32, 33, 34, 35, 37, 38, 39, 40, 41, 43, 44,\n",
       "       45, 46, 47, 49, 50, 51, 52, 53, 55, 56, 57, 59, 60, 61, 62, 63, 64,\n",
       "       65, 66, 68, 69, 70, 71, 72, 75, 77, 78, 79, 80, 81, 82, 83, 84, 87,\n",
       "       89, 91, 92, 93, 94, 96, 97, 98, 99])"
      ]
     },
     "execution_count": 57,
     "metadata": {},
     "output_type": "execute_result"
    }
   ],
   "source": [
    "array5 =np.union1d(array1,array2)\n",
    "array5"
   ]
  },
  {
   "attachments": {},
   "cell_type": "markdown",
   "metadata": {},
   "source": [
    "- ¿Cuál es la relación que existe entre todos estos arrays? 💡 Pista 💡 Tendréis que usar las longitudes de cada uno de los arrays creados."
   ]
  },
  {
   "cell_type": "code",
   "execution_count": 58,
   "metadata": {},
   "outputs": [
    {
     "name": "stdout",
     "output_type": "stream",
     "text": [
      "La longitud del array 1 es 57\n",
      "------------------------------\n",
      "La longitud del array 2 es 51\n",
      "------------------------------\n",
      "La longitud del array 3 es 26\n",
      "------------------------------\n",
      "La longitud del array 4 es 20\n",
      "------------------------------\n",
      "La longitud del array 5 es 77\n",
      "------------------------------\n"
     ]
    }
   ],
   "source": [
    "print(f'La longitud del array 1 es {len(array1)}') # Valores únicos del array 1\n",
    "print('------------------------------')\n",
    "print(f'La longitud del array 2 es {len(array2)}') # Valores únicos del array 2\n",
    "print('------------------------------')\n",
    "print(f'La longitud del array 3 es {len(array3)}') # Los valores que están en el 1 pero no en el 2\n",
    "print('------------------------------')\n",
    "print(f'La longitud del array 4 es {len(array4)}') # Los valores que están en el 2 pero no en el 1\n",
    "print('------------------------------')\n",
    "print(f'La longitud del array 5 es {len(array5)}') # La unión ambos arrays\n",
    "print('------------------------------')\n"
   ]
  },
  {
   "cell_type": "code",
   "execution_count": 59,
   "metadata": {},
   "outputs": [
    {
     "data": {
      "text/plain": [
       "True"
      ]
     },
     "execution_count": 59,
     "metadata": {},
     "output_type": "execute_result"
    }
   ],
   "source": [
    "# La longitud del array1 sumado a lo que está en el array2 pero no lo que está en el array1,\n",
    "# es igual a la longitud de la unión de ambos\n",
    "\n",
    "len(array1) + len(array4) == len(array5)"
   ]
  },
  {
   "cell_type": "code",
   "execution_count": 60,
   "metadata": {},
   "outputs": [
    {
     "data": {
      "text/plain": [
       "True"
      ]
     },
     "execution_count": 60,
     "metadata": {},
     "output_type": "execute_result"
    }
   ],
   "source": [
    "# La longitud del array2 sumado a lo que está en el array1 pero no lo que está en el array2,\n",
    "# es igual a la longitud de la unión de ambos\n",
    "\n",
    "len(array2) + len(array3) == len(array5)"
   ]
  },
  {
   "attachments": {},
   "cell_type": "markdown",
   "metadata": {},
   "source": [
    "Con los métodos obtenemos resultados, con unión (union1d) se suma en un nuevo array los valores de los dos arrays y con la diferencia (setdiff1d) se resta los arrays según el orden de insercción del array.\n",
    "\n",
    "Entonces vemos con las longitudes que al unirlos se corresponde con la suma de la longitud del array1 y de la longitud de la diferencia del array2 con el array1, y con las longitudes del array2 y de la diferencia del array 1 con el array2."
   ]
  }
 ],
 "metadata": {
  "kernelspec": {
   "display_name": "base",
   "language": "python",
   "name": "python3"
  },
  "language_info": {
   "codemirror_mode": {
    "name": "ipython",
    "version": 3
   },
   "file_extension": ".py",
   "mimetype": "text/x-python",
   "name": "python",
   "nbconvert_exporter": "python",
   "pygments_lexer": "ipython3",
   "version": "3.9.7 (default, Sep 16 2021, 13:09:58) \n[GCC 7.5.0]"
  },
  "orig_nbformat": 4,
  "vscode": {
   "interpreter": {
    "hash": "819a5c43c1fad9e35c5b1180124e231b422fc24c453463d400a90e0aae1b9c8c"
   }
  }
 },
 "nbformat": 4,
 "nbformat_minor": 2
}
