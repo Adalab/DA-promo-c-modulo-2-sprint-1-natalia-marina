{
 "cells": [
  {
   "attachments": {},
   "cell_type": "markdown",
   "metadata": {},
   "source": [
    "## PAIR PROGRAMMING VISUALIZACIÓN II\n",
    "---"
   ]
  },
  {
   "attachments": {},
   "cell_type": "markdown",
   "metadata": {},
   "source": [
    "Sigamos con más visualizaciones. En este caso trabajaremos con el csv que generamos en el ejercicio de pair programming de Pandas V, ese en el que habíamos unido distintos csv en uno.\n",
    "\n",
    "Las preguntas que tendréis que contestar son:"
   ]
  },
  {
   "cell_type": "code",
   "execution_count": 2,
   "metadata": {},
   "outputs": [],
   "source": [
    "import seaborn as sns\n",
    "import pandas as pd\n",
    "import matplotlib.pyplot as plt"
   ]
  },
  {
   "cell_type": "code",
   "execution_count": 3,
   "metadata": {},
   "outputs": [],
   "source": [
    "df = pd.read_csv(\"attacks5.csv\", index_col = 0 )"
   ]
  },
  {
   "attachments": {},
   "cell_type": "markdown",
   "metadata": {},
   "source": [
    "**EJERCICIO 1** \n",
    "\n",
    "Ayer creamos un par de gráficas para USA y España, donde visualizamos el número de ataques en cada país a lo largo de los años y el tipo de los ataques. Hoy tendréis que hacer dos gráficas con subplots:\n",
    "\n",
    "- En la primera debéis mostrar los tipos ataques en USA y España, cada subplot corresponderá a un país. Debéis:\n",
    "\n",
    "    - Poner nombre a los ejes de cada uno de los subplots\n",
    "    - Poner un títulos a cada uno de los subplots\n",
    "    - Poner el color de las líneas en negro.\n",
    "    - Establecer el tamaño de la gráfica a 15 x 5\n",
    "    - Ponerle marcadores a las gráficas\n",
    "    - No incluir leyenda\n",
    "\n",
    "- En la segunda debéis mostrar los ataques por año para cada uno de los países.\n",
    "\n",
    "    - De nuevo tendréis que ponerle nombre a los ejes y título a cada gráfica.\n",
    "    - En este caso el subplot deberá tener dos filas y una columna\n",
    "    - No incluir leyenda\n",
    "    - Cambiar el color de las barras\n"
   ]
  },
  {
   "cell_type": "code",
   "execution_count": 4,
   "metadata": {},
   "outputs": [],
   "source": [
    "#Creamos los df filtrados por EEUU y España"
   ]
  },
  {
   "cell_type": "code",
   "execution_count": 5,
   "metadata": {},
   "outputs": [
    {
     "data": {
      "text/html": [
       "<div>\n",
       "<style scoped>\n",
       "    .dataframe tbody tr th:only-of-type {\n",
       "        vertical-align: middle;\n",
       "    }\n",
       "\n",
       "    .dataframe tbody tr th {\n",
       "        vertical-align: top;\n",
       "    }\n",
       "\n",
       "    .dataframe thead th {\n",
       "        text-align: right;\n",
       "    }\n",
       "</style>\n",
       "<table border=\"1\" class=\"dataframe\">\n",
       "  <thead>\n",
       "    <tr style=\"text-align: right;\">\n",
       "      <th></th>\n",
       "      <th>case_number</th>\n",
       "      <th>year</th>\n",
       "      <th>type</th>\n",
       "      <th>country</th>\n",
       "      <th>area</th>\n",
       "      <th>location</th>\n",
       "      <th>activity</th>\n",
       "      <th>name</th>\n",
       "      <th>sex_</th>\n",
       "      <th>age</th>\n",
       "      <th>time</th>\n",
       "      <th>species_</th>\n",
       "      <th>href</th>\n",
       "      <th>fatal_(y/n)</th>\n",
       "      <th>injury</th>\n",
       "      <th>date</th>\n",
       "    </tr>\n",
       "  </thead>\n",
       "  <tbody>\n",
       "    <tr>\n",
       "      <th>10</th>\n",
       "      <td>1780.08.08</td>\n",
       "      <td>1780.0</td>\n",
       "      <td>Unprovoked</td>\n",
       "      <td>USA</td>\n",
       "      <td>Florida</td>\n",
       "      <td>Pensacola Harbor, Escambia County</td>\n",
       "      <td>Swimming</td>\n",
       "      <td>Joseph Feron</td>\n",
       "      <td>M</td>\n",
       "      <td>NaN</td>\n",
       "      <td>NaN</td>\n",
       "      <td>NaN</td>\n",
       "      <td>http://sharkattackfile.net/spreadsheets/pdf_di...</td>\n",
       "      <td>Y</td>\n",
       "      <td>FATAL</td>\n",
       "      <td>08-Aug-1780</td>\n",
       "    </tr>\n",
       "  </tbody>\n",
       "</table>\n",
       "</div>"
      ],
      "text/plain": [
       "   case_number    year        type country     area  \\\n",
       "10  1780.08.08  1780.0  Unprovoked     USA  Florida   \n",
       "\n",
       "                             location  activity          name sex_  age time  \\\n",
       "10  Pensacola Harbor, Escambia County  Swimming  Joseph Feron    M  NaN  NaN   \n",
       "\n",
       "   species_                                               href fatal_(y/n)  \\\n",
       "10      NaN  http://sharkattackfile.net/spreadsheets/pdf_di...           Y   \n",
       "\n",
       "   injury         date  \n",
       "10  FATAL  08-Aug-1780  "
      ]
     },
     "execution_count": 5,
     "metadata": {},
     "output_type": "execute_result"
    }
   ],
   "source": [
    "df_eeuu= df[(df[\"country\"]==\"USA\")]\n",
    "df_eeuu.head(1)"
   ]
  },
  {
   "cell_type": "code",
   "execution_count": 6,
   "metadata": {},
   "outputs": [
    {
     "data": {
      "text/html": [
       "<div>\n",
       "<style scoped>\n",
       "    .dataframe tbody tr th:only-of-type {\n",
       "        vertical-align: middle;\n",
       "    }\n",
       "\n",
       "    .dataframe tbody tr th {\n",
       "        vertical-align: top;\n",
       "    }\n",
       "\n",
       "    .dataframe thead th {\n",
       "        text-align: right;\n",
       "    }\n",
       "</style>\n",
       "<table border=\"1\" class=\"dataframe\">\n",
       "  <thead>\n",
       "    <tr style=\"text-align: right;\">\n",
       "      <th></th>\n",
       "      <th>case_number</th>\n",
       "      <th>year</th>\n",
       "      <th>type</th>\n",
       "      <th>country</th>\n",
       "      <th>area</th>\n",
       "      <th>location</th>\n",
       "      <th>activity</th>\n",
       "      <th>name</th>\n",
       "      <th>sex_</th>\n",
       "      <th>age</th>\n",
       "      <th>time</th>\n",
       "      <th>species_</th>\n",
       "      <th>href</th>\n",
       "      <th>fatal_(y/n)</th>\n",
       "      <th>injury</th>\n",
       "      <th>date</th>\n",
       "    </tr>\n",
       "  </thead>\n",
       "  <tbody>\n",
       "    <tr>\n",
       "      <th>16</th>\n",
       "      <td>1764.00.00</td>\n",
       "      <td>1764.0</td>\n",
       "      <td>Unprovoked</td>\n",
       "      <td>SPAIN</td>\n",
       "      <td>NaN</td>\n",
       "      <td>Guadalquivir River</td>\n",
       "      <td>Swimming</td>\n",
       "      <td>male</td>\n",
       "      <td>M</td>\n",
       "      <td>NaN</td>\n",
       "      <td>NaN</td>\n",
       "      <td>NaN</td>\n",
       "      <td>http://sharkattackfile.net/spreadsheets/pdf_di...</td>\n",
       "      <td>Y</td>\n",
       "      <td>FATAL</td>\n",
       "      <td>1764</td>\n",
       "    </tr>\n",
       "  </tbody>\n",
       "</table>\n",
       "</div>"
      ],
      "text/plain": [
       "   case_number    year        type country area            location  activity  \\\n",
       "16  1764.00.00  1764.0  Unprovoked   SPAIN  NaN  Guadalquivir River  Swimming   \n",
       "\n",
       "    name sex_  age time species_  \\\n",
       "16  male    M  NaN  NaN      NaN   \n",
       "\n",
       "                                                 href fatal_(y/n) injury  date  \n",
       "16  http://sharkattackfile.net/spreadsheets/pdf_di...           Y  FATAL  1764  "
      ]
     },
     "execution_count": 6,
     "metadata": {},
     "output_type": "execute_result"
    }
   ],
   "source": [
    "df_españa = df[(df[\"country\"]==\"SPAIN\")]\n",
    "df_españa.head(1)"
   ]
  },
  {
   "cell_type": "code",
   "execution_count": 7,
   "metadata": {},
   "outputs": [],
   "source": [
    "#Filtramos por tipo y contamos el numero de casos, lo convertimos a df ya que el groupby devuelve series. "
   ]
  },
  {
   "cell_type": "code",
   "execution_count": 8,
   "metadata": {},
   "outputs": [],
   "source": [
    "df_eeuu_tipo = pd.DataFrame(df_eeuu.groupby('type')['case_number'].count())"
   ]
  },
  {
   "cell_type": "code",
   "execution_count": 9,
   "metadata": {},
   "outputs": [],
   "source": [
    "df_españa_tipo  =pd.DataFrame(df_españa.groupby('type')['case_number'].count())"
   ]
  },
  {
   "cell_type": "code",
   "execution_count": 10,
   "metadata": {},
   "outputs": [
    {
     "data": {
      "image/png": "[encoded data removed]",
      "text/plain": [
       "<Figure size 1080x360 with 2 Axes>"
      ]
     },
     "metadata": {
      "needs_background": "light"
     },
     "output_type": "display_data"
    }
   ],
   "source": [
    "#Establecemos la gráfica\n",
    "fig,ax = plt.subplots(1,2, figsize=(15,5))\n",
    "\n",
    "ax[0].plot(df_españa_tipo, color = 'black', marker='^') \n",
    "ax[1].plot(df_eeuu_tipo, color='red', marker='^')\n",
    "\n",
    "ax[0].set_title(label='Ataques tiburones en España') \n",
    "ax[1].set_title(label='Ataques tiburones en Eeuu')\n",
    "\n",
    "ax[0].set_xlabel('Tipo de ataques')\n",
    "ax[1].set_xlabel('Tipos de ataques')\n",
    "\n",
    "ax[0].set_ylabel('Numero de ataques')\n",
    "ax[1].set_ylabel('Numero de ataques')\n",
    "\n",
    "plt.savefig('Visualizacion-II/ataques_EEUU_España_x_tipo_2000.jpg')\n",
    "\n",
    "plt.show();\n"
   ]
  },
  {
   "attachments": {},
   "cell_type": "markdown",
   "metadata": {},
   "source": [
    "---"
   ]
  },
  {
   "attachments": {},
   "cell_type": "markdown",
   "metadata": {},
   "source": [
    "**EJERCICIO 2** \n",
    "\n",
    "Cread un único gráfico donde juntéis las gráficas de los tipos de ataques en una sola. Debéis:\n",
    "\n",
    "- Poner leyenda a la gráfica\n",
    "- Cada línea debe ir en un color\n",
    "- Ponerle nombre a los ejes y a la gráfica.\n",
    "- Poner marcadores a las lineas."
   ]
  },
  {
   "cell_type": "code",
   "execution_count": 13,
   "metadata": {},
   "outputs": [
    {
     "data": {
      "image/png": "[encoded data removed]",
      "text/plain": [
       "<Figure size 720x360 with 1 Axes>"
      ]
     },
     "metadata": {
      "needs_background": "light"
     },
     "output_type": "display_data"
    }
   ],
   "source": [
    "\n",
    "fig3, ax=plt.subplots(figsize=(10,5))\n",
    "x= df_eeuu_tipo.index\n",
    "y= df_eeuu_tipo.values\n",
    "x1= df_españa_tipo.index\n",
    "y1= df_españa_tipo.values\n",
    "plt.plot(x,y, marker = '.') \n",
    "plt.plot(x1,y1, marker = '.')\t \n",
    "plt.title('Ataques tiburones por paises') \n",
    "plt.xlabel('Tipo de ataque')\n",
    "plt.ylabel('Numero de ataques') \n",
    "ax.legend(labels=['EEUU','España']) \n",
    "plt.savefig('Visualizacion-II/subplots_unidos.jpg')\n",
    "plt.show()"
   ]
  },
  {
   "attachments": {},
   "cell_type": "markdown",
   "metadata": {},
   "source": [
    "---"
   ]
  },
  {
   "attachments": {},
   "cell_type": "markdown",
   "metadata": {},
   "source": [
    "**EJERCICIO 3** \n",
    "\n",
    "Guardad las figuras creadas en cada caso. Podéis usar el formato que queráis. Guarda todas las fotos en una carpeta llamada Visualizacion-II."
   ]
  },
  {
   "cell_type": "code",
   "execution_count": 12,
   "metadata": {},
   "outputs": [],
   "source": [
    "#Hemmos ido guardando las figuras antes de plt.show() para evitar posibles conflictos"
   ]
  }
 ],
 "metadata": {
  "kernelspec": {
   "display_name": "base",
   "language": "python",
   "name": "python3"
  },
  "language_info": {
   "codemirror_mode": {
    "name": "ipython",
    "version": 3
   },
   "file_extension": ".py",
   "mimetype": "text/x-python",
   "name": "python",
   "nbconvert_exporter": "python",
   "pygments_lexer": "ipython3",
   "version": "3.9.7"
  },
  "orig_nbformat": 4,
  "vscode": {
   "interpreter": {
    "hash": "ebacf0c690606339d2819fda86ce84d5dc8f19bdafd30d1cf039ac39003e3ee9"
   }
  }
 },
 "nbformat": 4,
 "nbformat_minor": 2
}
