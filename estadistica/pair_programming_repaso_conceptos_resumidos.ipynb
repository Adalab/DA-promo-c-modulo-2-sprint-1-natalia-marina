{
 "cells": [
  {
   "attachments": {},
   "cell_type": "markdown",
   "metadata": {},
   "source": [
    "## Pair Programming Repaso Conceptos Resumidos\n",
    "---\n",
    "Al igual que en los ejercicios de pair programming de estadística, deberéis elegir un set de datos, puede ser de cualquier tipo. El objetivo de este pair programming es:\n",
    "\n",
    "\n",
    "Hacer una exploración inicial del dataframe.\n",
    "\n",
    "\n",
    "Plantead una serie de preguntas como las que fuimos contestando en la clase invertida.\n",
    "\n",
    "\n",
    "Contestad a las preguntas planteadas usando los principales estadísticos que hemos aprendido y gráficas que mejor se ajusten."
   ]
  },
  {
   "cell_type": "code",
   "execution_count": 23,
   "metadata": {},
   "outputs": [],
   "source": [
    "#importamos librerías\n",
    "import numpy as np\n",
    "import pandas as pd\n",
    "import seaborn as sns\n",
    "from scipy.stats import skew\n",
    "from pydataset import data"
   ]
  },
  {
   "cell_type": "code",
   "execution_count": 24,
   "metadata": {},
   "outputs": [
    {
     "name": "stderr",
     "output_type": "stream",
     "text": [
      "/tmp/ipykernel_921/1052372828.py:1: DtypeWarning: Columns (5,12,15,18) have mixed types. Specify dtype option on import or set low_memory=False.\n",
      "  df = pd.read_csv('spotify_features.csv')\n"
     ]
    },
    {
     "data": {
      "text/html": [
       "<div>\n",
       "<style scoped>\n",
       "    .dataframe tbody tr th:only-of-type {\n",
       "        vertical-align: middle;\n",
       "    }\n",
       "\n",
       "    .dataframe tbody tr th {\n",
       "        vertical-align: top;\n",
       "    }\n",
       "\n",
       "    .dataframe thead th {\n",
       "        text-align: right;\n",
       "    }\n",
       "</style>\n",
       "<table border=\"1\" class=\"dataframe\">\n",
       "  <thead>\n",
       "    <tr style=\"text-align: right;\">\n",
       "      <th></th>\n",
       "      <th>genre</th>\n",
       "      <th>artist_name</th>\n",
       "      <th>track_name</th>\n",
       "      <th>track_id</th>\n",
       "      <th>popularity</th>\n",
       "      <th>acousticness</th>\n",
       "      <th>danceability</th>\n",
       "      <th>duration_ms</th>\n",
       "      <th>energy</th>\n",
       "      <th>instrumentalness</th>\n",
       "      <th>key</th>\n",
       "      <th>liveness</th>\n",
       "      <th>loudness</th>\n",
       "      <th>mode</th>\n",
       "      <th>speechiness</th>\n",
       "      <th>tempo</th>\n",
       "      <th>time_signature</th>\n",
       "      <th>valence</th>\n",
       "      <th>Unnamed: 18</th>\n",
       "      <th>Unnamed: 19</th>\n",
       "    </tr>\n",
       "  </thead>\n",
       "  <tbody>\n",
       "    <tr>\n",
       "      <th>0</th>\n",
       "      <td>Movie</td>\n",
       "      <td>Henri Salvador</td>\n",
       "      <td>C'est beau de faire un Show</td>\n",
       "      <td>0BRjO6ga9RKCKjfDqeFgWV</td>\n",
       "      <td>0</td>\n",
       "      <td>611.0</td>\n",
       "      <td>389.00</td>\n",
       "      <td>99373.0</td>\n",
       "      <td>0.91</td>\n",
       "      <td>0.0</td>\n",
       "      <td>C#</td>\n",
       "      <td>346</td>\n",
       "      <td>-1828.0</td>\n",
       "      <td>Major</td>\n",
       "      <td>0.0525</td>\n",
       "      <td>166969.0</td>\n",
       "      <td>4/4</td>\n",
       "      <td>814</td>\n",
       "      <td>NaN</td>\n",
       "      <td>NaN</td>\n",
       "    </tr>\n",
       "    <tr>\n",
       "      <th>1</th>\n",
       "      <td>Movie</td>\n",
       "      <td>Martin &amp; les fées</td>\n",
       "      <td>Perdu d'avance (par Gad Elmaleh)</td>\n",
       "      <td>0BjC1NfoEOOusryehmNudP</td>\n",
       "      <td>1</td>\n",
       "      <td>246.0</td>\n",
       "      <td>0.59</td>\n",
       "      <td>137373.0</td>\n",
       "      <td>737.00</td>\n",
       "      <td>0.0</td>\n",
       "      <td>F#</td>\n",
       "      <td>151</td>\n",
       "      <td>-5559.0</td>\n",
       "      <td>Minor</td>\n",
       "      <td>0.0868</td>\n",
       "      <td>174003.0</td>\n",
       "      <td>4/4</td>\n",
       "      <td>816</td>\n",
       "      <td>NaN</td>\n",
       "      <td>NaN</td>\n",
       "    </tr>\n",
       "    <tr>\n",
       "      <th>2</th>\n",
       "      <td>Movie</td>\n",
       "      <td>Joseph Williams</td>\n",
       "      <td>Don't Let Me Be Lonely Tonight</td>\n",
       "      <td>0CoSDzoNIKCRs124s9uTVy</td>\n",
       "      <td>3</td>\n",
       "      <td>952.0</td>\n",
       "      <td>663.00</td>\n",
       "      <td>170267.0</td>\n",
       "      <td>131.00</td>\n",
       "      <td>0.0</td>\n",
       "      <td>C</td>\n",
       "      <td>103</td>\n",
       "      <td>-13879.0</td>\n",
       "      <td>Minor</td>\n",
       "      <td>0.0362</td>\n",
       "      <td>99488.0</td>\n",
       "      <td>5/4</td>\n",
       "      <td>368</td>\n",
       "      <td>NaN</td>\n",
       "      <td>NaN</td>\n",
       "    </tr>\n",
       "    <tr>\n",
       "      <th>3</th>\n",
       "      <td>Movie</td>\n",
       "      <td>Henri Salvador</td>\n",
       "      <td>Dis-moi Monsieur Gordon Cooper</td>\n",
       "      <td>0Gc6TVm52BwZD07Ki6tIvf</td>\n",
       "      <td>0</td>\n",
       "      <td>703.0</td>\n",
       "      <td>0.24</td>\n",
       "      <td>152427.0</td>\n",
       "      <td>326.00</td>\n",
       "      <td>0.0</td>\n",
       "      <td>C#</td>\n",
       "      <td>0.0985</td>\n",
       "      <td>-12178.0</td>\n",
       "      <td>Major</td>\n",
       "      <td>0.0395</td>\n",
       "      <td>171758.0</td>\n",
       "      <td>4/4</td>\n",
       "      <td>227</td>\n",
       "      <td>NaN</td>\n",
       "      <td>NaN</td>\n",
       "    </tr>\n",
       "    <tr>\n",
       "      <th>4</th>\n",
       "      <td>Movie</td>\n",
       "      <td>Fabien Nataf</td>\n",
       "      <td>Ouverture</td>\n",
       "      <td>0IuslXpMROHdEPvSl1fTQK</td>\n",
       "      <td>4</td>\n",
       "      <td>0.95</td>\n",
       "      <td>331.00</td>\n",
       "      <td>82625.0</td>\n",
       "      <td>225.00</td>\n",
       "      <td>123.0</td>\n",
       "      <td>F</td>\n",
       "      <td>202</td>\n",
       "      <td>-21.15</td>\n",
       "      <td>Major</td>\n",
       "      <td>0.0456</td>\n",
       "      <td>140576.0</td>\n",
       "      <td>4/4</td>\n",
       "      <td>0.39</td>\n",
       "      <td>NaN</td>\n",
       "      <td>NaN</td>\n",
       "    </tr>\n",
       "  </tbody>\n",
       "</table>\n",
       "</div>"
      ],
      "text/plain": [
       "   genre        artist_name                        track_name  \\\n",
       "0  Movie     Henri Salvador       C'est beau de faire un Show   \n",
       "1  Movie  Martin & les fées  Perdu d'avance (par Gad Elmaleh)   \n",
       "2  Movie    Joseph Williams    Don't Let Me Be Lonely Tonight   \n",
       "3  Movie     Henri Salvador    Dis-moi Monsieur Gordon Cooper   \n",
       "4  Movie       Fabien Nataf                         Ouverture   \n",
       "\n",
       "                 track_id popularity acousticness  danceability  duration_ms  \\\n",
       "0  0BRjO6ga9RKCKjfDqeFgWV          0        611.0        389.00      99373.0   \n",
       "1  0BjC1NfoEOOusryehmNudP          1        246.0          0.59     137373.0   \n",
       "2  0CoSDzoNIKCRs124s9uTVy          3        952.0        663.00     170267.0   \n",
       "3  0Gc6TVm52BwZD07Ki6tIvf          0        703.0          0.24     152427.0   \n",
       "4  0IuslXpMROHdEPvSl1fTQK          4         0.95        331.00      82625.0   \n",
       "\n",
       "   energy  instrumentalness key liveness loudness   mode speechiness  \\\n",
       "0    0.91               0.0  C#      346  -1828.0  Major      0.0525   \n",
       "1  737.00               0.0  F#      151  -5559.0  Minor      0.0868   \n",
       "2  131.00               0.0   C      103 -13879.0  Minor      0.0362   \n",
       "3  326.00               0.0  C#   0.0985 -12178.0  Major      0.0395   \n",
       "4  225.00             123.0   F      202   -21.15  Major      0.0456   \n",
       "\n",
       "      tempo time_signature valence Unnamed: 18  Unnamed: 19  \n",
       "0  166969.0            4/4     814         NaN          NaN  \n",
       "1  174003.0            4/4     816         NaN          NaN  \n",
       "2   99488.0            5/4     368         NaN          NaN  \n",
       "3  171758.0            4/4     227         NaN          NaN  \n",
       "4  140576.0            4/4    0.39         NaN          NaN  "
      ]
     },
     "execution_count": 24,
     "metadata": {},
     "output_type": "execute_result"
    }
   ],
   "source": [
    "df = pd.read_csv('spotify_features.csv')\n",
    "df.head()"
   ]
  },
  {
   "attachments": {},
   "cell_type": "markdown",
   "metadata": {},
   "source": [
    "- ¿Cuántas filas tiene?\n",
    "\n",
    "- ¿Cuántas nulos tiene?\n",
    "\n",
    "- ¿Y duplicados?\n",
    "\n",
    "\n",
    "- ¿Qué tipo de datos tenemos en el dataframe?\n",
    "etc.\n"
   ]
  },
  {
   "cell_type": "code",
   "execution_count": 25,
   "metadata": {},
   "outputs": [
    {
     "data": {
      "text/plain": [
       "'Nuestro Data Frame tiene 232725 filas y 20 columnas '"
      ]
     },
     "execution_count": 25,
     "metadata": {},
     "output_type": "execute_result"
    }
   ],
   "source": [
    "df.shape\n",
    "f'Nuestro Data Frame tiene {df.shape[0]} filas y {df.shape[1]} columnas '"
   ]
  },
  {
   "cell_type": "code",
   "execution_count": 26,
   "metadata": {},
   "outputs": [
    {
     "data": {
      "text/plain": [
       "genre                    0\n",
       "artist_name              0\n",
       "track_name               0\n",
       "track_id                 3\n",
       "popularity               0\n",
       "acousticness             0\n",
       "danceability             0\n",
       "duration_ms              0\n",
       "energy                   0\n",
       "instrumentalness         0\n",
       "key                      0\n",
       "liveness                 0\n",
       "loudness                 0\n",
       "mode                     0\n",
       "speechiness              0\n",
       "tempo                    0\n",
       "time_signature           0\n",
       "valence                  0\n",
       "Unnamed: 18         232603\n",
       "Unnamed: 19         232714\n",
       "dtype: int64"
      ]
     },
     "execution_count": 26,
     "metadata": {},
     "output_type": "execute_result"
    }
   ],
   "source": [
    "df.isnull().sum()"
   ]
  },
  {
   "cell_type": "code",
   "execution_count": 27,
   "metadata": {},
   "outputs": [
    {
     "data": {
      "text/plain": [
       "'Nuestro df tiene 0 filas duplicadas'"
      ]
     },
     "execution_count": 27,
     "metadata": {},
     "output_type": "execute_result"
    }
   ],
   "source": [
    "f'Nuestro df tiene {df.duplicated().sum()} filas duplicadas'"
   ]
  },
  {
   "cell_type": "code",
   "execution_count": 28,
   "metadata": {},
   "outputs": [
    {
     "name": "stdout",
     "output_type": "stream",
     "text": [
      "<class 'pandas.core.frame.DataFrame'>\n",
      "RangeIndex: 232725 entries, 0 to 232724\n",
      "Data columns (total 20 columns):\n",
      " #   Column            Non-Null Count   Dtype  \n",
      "---  ------            --------------   -----  \n",
      " 0   genre             232725 non-null  object \n",
      " 1   artist_name       232725 non-null  object \n",
      " 2   track_name        232725 non-null  object \n",
      " 3   track_id          232722 non-null  object \n",
      " 4   popularity        232725 non-null  object \n",
      " 5   acousticness      232725 non-null  object \n",
      " 6   danceability      232725 non-null  float64\n",
      " 7   duration_ms       232725 non-null  float64\n",
      " 8   energy            232725 non-null  float64\n",
      " 9   instrumentalness  232725 non-null  float64\n",
      " 10  key               232725 non-null  object \n",
      " 11  liveness          232725 non-null  object \n",
      " 12  loudness          232725 non-null  object \n",
      " 13  mode              232725 non-null  object \n",
      " 14  speechiness       232725 non-null  object \n",
      " 15  tempo             232725 non-null  object \n",
      " 16  time_signature    232725 non-null  object \n",
      " 17  valence           232725 non-null  object \n",
      " 18  Unnamed: 18       122 non-null     object \n",
      " 19  Unnamed: 19       11 non-null      float64\n",
      "dtypes: float64(5), object(15)\n",
      "memory usage: 35.5+ MB\n"
     ]
    }
   ],
   "source": [
    "df.info()"
   ]
  },
  {
   "cell_type": "code",
   "execution_count": 29,
   "metadata": {},
   "outputs": [
    {
     "data": {
      "text/html": [
       "<div>\n",
       "<style scoped>\n",
       "    .dataframe tbody tr th:only-of-type {\n",
       "        vertical-align: middle;\n",
       "    }\n",
       "\n",
       "    .dataframe tbody tr th {\n",
       "        vertical-align: top;\n",
       "    }\n",
       "\n",
       "    .dataframe thead th {\n",
       "        text-align: right;\n",
       "    }\n",
       "</style>\n",
       "<table border=\"1\" class=\"dataframe\">\n",
       "  <thead>\n",
       "    <tr style=\"text-align: right;\">\n",
       "      <th></th>\n",
       "      <th>genre</th>\n",
       "      <th>artist_name</th>\n",
       "      <th>track_name</th>\n",
       "      <th>track_id</th>\n",
       "      <th>popularity</th>\n",
       "      <th>acousticness</th>\n",
       "      <th>danceability</th>\n",
       "      <th>duration_ms</th>\n",
       "      <th>energy</th>\n",
       "      <th>instrumentalness</th>\n",
       "      <th>key</th>\n",
       "      <th>liveness</th>\n",
       "      <th>loudness</th>\n",
       "      <th>mode</th>\n",
       "      <th>speechiness</th>\n",
       "      <th>tempo</th>\n",
       "      <th>time_signature</th>\n",
       "      <th>valence</th>\n",
       "      <th>Unnamed: 18</th>\n",
       "      <th>Unnamed: 19</th>\n",
       "    </tr>\n",
       "  </thead>\n",
       "  <tbody>\n",
       "    <tr>\n",
       "      <th>12646</th>\n",
       "      <td>Alternative</td>\n",
       "      <td>Basement</td>\n",
       "      <td>Promise Everything</td>\n",
       "      <td>1KdeXVG6x4MsjbAnjiAzbT</td>\n",
       "      <td>43</td>\n",
       "      <td>0.000027</td>\n",
       "      <td>0.30</td>\n",
       "      <td>157080.0</td>\n",
       "      <td>957.0</td>\n",
       "      <td>0.000016</td>\n",
       "      <td>E</td>\n",
       "      <td>266</td>\n",
       "      <td>-5993.0</td>\n",
       "      <td>Major</td>\n",
       "      <td>112</td>\n",
       "      <td>76256.0</td>\n",
       "      <td>4/4</td>\n",
       "      <td>352</td>\n",
       "      <td>NaN</td>\n",
       "      <td>NaN</td>\n",
       "    </tr>\n",
       "    <tr>\n",
       "      <th>166243</th>\n",
       "      <td>Rock</td>\n",
       "      <td>Mitchell Tenpenny</td>\n",
       "      <td>Drunk Me</td>\n",
       "      <td>1G4cdOtF36ZCs6i2dZoC87</td>\n",
       "      <td>73</td>\n",
       "      <td>199</td>\n",
       "      <td>499.00</td>\n",
       "      <td>211768.0</td>\n",
       "      <td>797.0</td>\n",
       "      <td>0.000000</td>\n",
       "      <td>D</td>\n",
       "      <td>0.0933</td>\n",
       "      <td>-3.77</td>\n",
       "      <td>Major</td>\n",
       "      <td>0.0554</td>\n",
       "      <td>176024</td>\n",
       "      <td>4/4</td>\n",
       "      <td>408</td>\n",
       "      <td>NaN</td>\n",
       "      <td>NaN</td>\n",
       "    </tr>\n",
       "    <tr>\n",
       "      <th>132125</th>\n",
       "      <td>Reggae</td>\n",
       "      <td>Xavier Rudd</td>\n",
       "      <td>Storm Boy</td>\n",
       "      <td>5eH5Sz2mBFVifIjTE8nLa6</td>\n",
       "      <td>51</td>\n",
       "      <td>782</td>\n",
       "      <td>0.51</td>\n",
       "      <td>239084.0</td>\n",
       "      <td>532.0</td>\n",
       "      <td>0.000000</td>\n",
       "      <td>G</td>\n",
       "      <td>119</td>\n",
       "      <td>-10408</td>\n",
       "      <td>Major</td>\n",
       "      <td>0.0385</td>\n",
       "      <td>131864</td>\n",
       "      <td>4/4</td>\n",
       "      <td>426</td>\n",
       "      <td>NaN</td>\n",
       "      <td>NaN</td>\n",
       "    </tr>\n",
       "    <tr>\n",
       "      <th>13295</th>\n",
       "      <td>Alternative</td>\n",
       "      <td>Collective Soul</td>\n",
       "      <td>Better Now</td>\n",
       "      <td>0xqcypl9a1proZeZLmMJMN</td>\n",
       "      <td>36</td>\n",
       "      <td>0.0107</td>\n",
       "      <td>673.00</td>\n",
       "      <td>194533.0</td>\n",
       "      <td>809.0</td>\n",
       "      <td>0.000825</td>\n",
       "      <td>B</td>\n",
       "      <td>0.0212</td>\n",
       "      <td>-5.28</td>\n",
       "      <td>Minor</td>\n",
       "      <td>0.0362</td>\n",
       "      <td>123018.0</td>\n",
       "      <td>4/4</td>\n",
       "      <td>964</td>\n",
       "      <td>NaN</td>\n",
       "      <td>NaN</td>\n",
       "    </tr>\n",
       "    <tr>\n",
       "      <th>172865</th>\n",
       "      <td>Comedy</td>\n",
       "      <td>Moshe Kasher</td>\n",
       "      <td>Magum Openis (The Revelation) - Live</td>\n",
       "      <td>2pP1M0F22ZppcIeADr6S6r</td>\n",
       "      <td>19</td>\n",
       "      <td>838</td>\n",
       "      <td>587.00</td>\n",
       "      <td>166760.0</td>\n",
       "      <td>953.0</td>\n",
       "      <td>0.000006</td>\n",
       "      <td>D</td>\n",
       "      <td>662</td>\n",
       "      <td>-3548</td>\n",
       "      <td>Minor</td>\n",
       "      <td>715</td>\n",
       "      <td>75684</td>\n",
       "      <td>4/4</td>\n",
       "      <td>677</td>\n",
       "      <td>NaN</td>\n",
       "      <td>NaN</td>\n",
       "    </tr>\n",
       "    <tr>\n",
       "      <th>80489</th>\n",
       "      <td>Opera</td>\n",
       "      <td>Giuseppe Verdi</td>\n",
       "      <td>Nabucco / Act 1: Gli arredi festivi giù cadano infranti</td>\n",
       "      <td>18T63HAyqxr4TVwUfO2uhx</td>\n",
       "      <td>23</td>\n",
       "      <td>0.97</td>\n",
       "      <td>168.00</td>\n",
       "      <td>341733.0</td>\n",
       "      <td>124.0</td>\n",
       "      <td>883.000000</td>\n",
       "      <td>E</td>\n",
       "      <td>78</td>\n",
       "      <td>-16055.0</td>\n",
       "      <td>Major</td>\n",
       "      <td>0.0344</td>\n",
       "      <td>89381.0</td>\n",
       "      <td>3/4</td>\n",
       "      <td>143</td>\n",
       "      <td>NaN</td>\n",
       "      <td>NaN</td>\n",
       "    </tr>\n",
       "    <tr>\n",
       "      <th>12429</th>\n",
       "      <td>Alternative</td>\n",
       "      <td>Black Pistol Fire</td>\n",
       "      <td>Lost Cause</td>\n",
       "      <td>7ne867SdHbopGYjxVNyRFM</td>\n",
       "      <td>47</td>\n",
       "      <td>0.00265</td>\n",
       "      <td>324.00</td>\n",
       "      <td>212120.0</td>\n",
       "      <td>863.0</td>\n",
       "      <td>463.000000</td>\n",
       "      <td>G</td>\n",
       "      <td>115</td>\n",
       "      <td>-4199.0</td>\n",
       "      <td>Minor</td>\n",
       "      <td>0.0646</td>\n",
       "      <td>166482.0</td>\n",
       "      <td>4/4</td>\n",
       "      <td>548</td>\n",
       "      <td>NaN</td>\n",
       "      <td>NaN</td>\n",
       "    </tr>\n",
       "    <tr>\n",
       "      <th>200265</th>\n",
       "      <td>Soundtrack</td>\n",
       "      <td>John Williams</td>\n",
       "      <td>Sayuri's Theme and End Credits</td>\n",
       "      <td>1RQY1ZTZxZ9IRN2b7aYUr6</td>\n",
       "      <td>37</td>\n",
       "      <td>939.0</td>\n",
       "      <td>294.00</td>\n",
       "      <td>306480.0</td>\n",
       "      <td>238.0</td>\n",
       "      <td>884.000000</td>\n",
       "      <td>C</td>\n",
       "      <td>621</td>\n",
       "      <td>-16622.0</td>\n",
       "      <td>Minor</td>\n",
       "      <td>0.0365</td>\n",
       "      <td>124016.0</td>\n",
       "      <td>3/4</td>\n",
       "      <td>164</td>\n",
       "      <td>NaN</td>\n",
       "      <td>NaN</td>\n",
       "    </tr>\n",
       "    <tr>\n",
       "      <th>34882</th>\n",
       "      <td>Anime</td>\n",
       "      <td>Nobuo Uematsu</td>\n",
       "      <td>Shop</td>\n",
       "      <td>5mjldutViiF8kVVcf12dqw</td>\n",
       "      <td>14</td>\n",
       "      <td>0.00379</td>\n",
       "      <td>0.41</td>\n",
       "      <td>59800.0</td>\n",
       "      <td>257.0</td>\n",
       "      <td>0.980000</td>\n",
       "      <td>C</td>\n",
       "      <td>394</td>\n",
       "      <td>-12722</td>\n",
       "      <td>Major</td>\n",
       "      <td>0.0414</td>\n",
       "      <td>100201</td>\n",
       "      <td>4/4</td>\n",
       "      <td>967</td>\n",
       "      <td>NaN</td>\n",
       "      <td>NaN</td>\n",
       "    </tr>\n",
       "    <tr>\n",
       "      <th>2961</th>\n",
       "      <td>Alternative</td>\n",
       "      <td>The Neighbourhood</td>\n",
       "      <td>Wires</td>\n",
       "      <td>4ObATYHHvXXlJJQ4rPKU2s</td>\n",
       "      <td>57</td>\n",
       "      <td>0.000439</td>\n",
       "      <td>553.00</td>\n",
       "      <td>192600.0</td>\n",
       "      <td>587.0</td>\n",
       "      <td>326.000000</td>\n",
       "      <td>G</td>\n",
       "      <td>329</td>\n",
       "      <td>-5924.0</td>\n",
       "      <td>Minor</td>\n",
       "      <td>0.0327</td>\n",
       "      <td>146045.0</td>\n",
       "      <td>4/4</td>\n",
       "      <td>0.28</td>\n",
       "      <td>NaN</td>\n",
       "      <td>NaN</td>\n",
       "    </tr>\n",
       "  </tbody>\n",
       "</table>\n",
       "</div>"
      ],
      "text/plain": [
       "              genre        artist_name  \\\n",
       "12646   Alternative           Basement   \n",
       "166243         Rock  Mitchell Tenpenny   \n",
       "132125       Reggae        Xavier Rudd   \n",
       "13295   Alternative    Collective Soul   \n",
       "172865       Comedy       Moshe Kasher   \n",
       "80489         Opera     Giuseppe Verdi   \n",
       "12429   Alternative  Black Pistol Fire   \n",
       "200265   Soundtrack      John Williams   \n",
       "34882         Anime      Nobuo Uematsu   \n",
       "2961    Alternative  The Neighbourhood   \n",
       "\n",
       "                                                     track_name  \\\n",
       "12646                                        Promise Everything   \n",
       "166243                                                 Drunk Me   \n",
       "132125                                                Storm Boy   \n",
       "13295                                                Better Now   \n",
       "172865                     Magum Openis (The Revelation) - Live   \n",
       "80489   Nabucco / Act 1: Gli arredi festivi giù cadano infranti   \n",
       "12429                                                Lost Cause   \n",
       "200265                           Sayuri's Theme and End Credits   \n",
       "34882                                                      Shop   \n",
       "2961                                                      Wires   \n",
       "\n",
       "                      track_id popularity acousticness  danceability  \\\n",
       "12646   1KdeXVG6x4MsjbAnjiAzbT         43     0.000027          0.30   \n",
       "166243  1G4cdOtF36ZCs6i2dZoC87         73          199        499.00   \n",
       "132125  5eH5Sz2mBFVifIjTE8nLa6         51          782          0.51   \n",
       "13295   0xqcypl9a1proZeZLmMJMN         36       0.0107        673.00   \n",
       "172865  2pP1M0F22ZppcIeADr6S6r         19          838        587.00   \n",
       "80489   18T63HAyqxr4TVwUfO2uhx         23         0.97        168.00   \n",
       "12429   7ne867SdHbopGYjxVNyRFM         47      0.00265        324.00   \n",
       "200265  1RQY1ZTZxZ9IRN2b7aYUr6         37        939.0        294.00   \n",
       "34882   5mjldutViiF8kVVcf12dqw         14      0.00379          0.41   \n",
       "2961    4ObATYHHvXXlJJQ4rPKU2s         57     0.000439        553.00   \n",
       "\n",
       "        duration_ms  energy  instrumentalness key liveness loudness   mode  \\\n",
       "12646      157080.0   957.0          0.000016   E      266  -5993.0  Major   \n",
       "166243     211768.0   797.0          0.000000   D   0.0933    -3.77  Major   \n",
       "132125     239084.0   532.0          0.000000   G      119   -10408  Major   \n",
       "13295      194533.0   809.0          0.000825   B   0.0212    -5.28  Minor   \n",
       "172865     166760.0   953.0          0.000006   D      662    -3548  Minor   \n",
       "80489      341733.0   124.0        883.000000   E       78 -16055.0  Major   \n",
       "12429      212120.0   863.0        463.000000   G      115  -4199.0  Minor   \n",
       "200265     306480.0   238.0        884.000000   C      621 -16622.0  Minor   \n",
       "34882       59800.0   257.0          0.980000   C      394   -12722  Major   \n",
       "2961       192600.0   587.0        326.000000   G      329  -5924.0  Minor   \n",
       "\n",
       "       speechiness     tempo time_signature valence Unnamed: 18  Unnamed: 19  \n",
       "12646          112   76256.0            4/4     352         NaN          NaN  \n",
       "166243      0.0554    176024            4/4     408         NaN          NaN  \n",
       "132125      0.0385    131864            4/4     426         NaN          NaN  \n",
       "13295       0.0362  123018.0            4/4     964         NaN          NaN  \n",
       "172865         715     75684            4/4     677         NaN          NaN  \n",
       "80489       0.0344   89381.0            3/4     143         NaN          NaN  \n",
       "12429       0.0646  166482.0            4/4     548         NaN          NaN  \n",
       "200265      0.0365  124016.0            3/4     164         NaN          NaN  \n",
       "34882       0.0414    100201            4/4     967         NaN          NaN  \n",
       "2961        0.0327  146045.0            4/4    0.28         NaN          NaN  "
      ]
     },
     "execution_count": 29,
     "metadata": {},
     "output_type": "execute_result"
    }
   ],
   "source": [
    "df.sample(10)"
   ]
  },
  {
   "cell_type": "code",
   "execution_count": 30,
   "metadata": {},
   "outputs": [
    {
     "data": {
      "text/plain": [
       "Index(['genre', 'artist_name', 'track_name', 'track_id', 'popularity',\n",
       "       'acousticness', 'danceability', 'duration_ms', 'energy',\n",
       "       'instrumentalness', 'key', 'liveness', 'loudness', 'mode',\n",
       "       'speechiness', 'tempo', 'time_signature', 'valence', 'Unnamed: 18',\n",
       "       'Unnamed: 19'],\n",
       "      dtype='object')"
      ]
     },
     "execution_count": 30,
     "metadata": {},
     "output_type": "execute_result"
    }
   ],
   "source": [
    "df.columns"
   ]
  },
  {
   "attachments": {},
   "cell_type": "markdown",
   "metadata": {},
   "source": [
    "- Preguntas que podríamos contestar:\n",
    "1. Canciones mas escuchadas\n",
    "2. Cual es el genero mas escuchado\n",
    "3. Cual es el artista del momento?\n",
    "\n",
    "1. Canciones que mas duran\n",
    "2. Media de duración de las canciones\n"
   ]
  },
  {
   "attachments": {},
   "cell_type": "markdown",
   "metadata": {},
   "source": [
    "Contestad a las preguntas planteadas usando los principales estadísticos que hemos aprendido y gráficas que mejor se ajusten."
   ]
  },
  {
   "cell_type": "code",
   "execution_count": 38,
   "metadata": {},
   "outputs": [
    {
     "data": {
      "text/plain": [
       "240000.0    138\n",
       "180000.0    120\n",
       "192000.0    115\n",
       "216000.0     99\n",
       "200000.0     85\n",
       "           ... \n",
       "227887.0      1\n",
       "162367.0      1\n",
       "134638.0      1\n",
       "220929.0      1\n",
       "282447.0      1\n",
       "Name: duration_ms, Length: 70821, dtype: int64"
      ]
     },
     "execution_count": 38,
     "metadata": {},
     "output_type": "execute_result"
    }
   ],
   "source": [
    "df['duration_ms'].value_counts()\n"
   ]
  },
  {
   "cell_type": "code",
   "execution_count": 39,
   "metadata": {},
   "outputs": [
    {
     "data": {
      "text/plain": [
       "5552917.0"
      ]
     },
     "execution_count": 39,
     "metadata": {},
     "output_type": "execute_result"
    }
   ],
   "source": [
    "#La duracion maxima de las canciones\n",
    "df['duration_ms'].max()"
   ]
  },
  {
   "cell_type": "code",
   "execution_count": 63,
   "metadata": {},
   "outputs": [
    {
     "data": {
      "text/plain": [
       "4000.0"
      ]
     },
     "execution_count": 63,
     "metadata": {},
     "output_type": "execute_result"
    }
   ],
   "source": [
    "#Sacamos la moda \n",
    "df['duration_ms'].mode()[0] / 60\n"
   ]
  },
  {
   "cell_type": "code",
   "execution_count": 48,
   "metadata": {},
   "outputs": [],
   "source": [
    "#Media de la duración de las canciones \n",
    "media = df['duration_ms'].mean()"
   ]
  },
  {
   "cell_type": "code",
   "execution_count": 45,
   "metadata": {},
   "outputs": [
    {
     "name": "stdout",
     "output_type": "stream",
     "text": [
      "235025.85253603014\n"
     ]
    }
   ],
   "source": [
    "#Sacamos la media ponderada añadiendo pesos aleatorios\n",
    "w = np.random.randint(0,100, df.shape[0])\n",
    "\n",
    "avg = np.average(df['duration_ms'], weights=w)\n",
    "print(avg)"
   ]
  },
  {
   "cell_type": "code",
   "execution_count": 46,
   "metadata": {},
   "outputs": [
    {
     "data": {
      "text/plain": [
       "220387.0"
      ]
     },
     "execution_count": 46,
     "metadata": {},
     "output_type": "execute_result"
    }
   ],
   "source": [
    "f'La mediana es {df['duration_ms'].median()}'"
   ]
  },
  {
   "cell_type": "code",
   "execution_count": 61,
   "metadata": {},
   "outputs": [],
   "source": [
    "#f'La desviacion estándar es \n",
    "desviacion_estandar = df['duration_ms'].std()"
   ]
  },
  {
   "cell_type": "code",
   "execution_count": null,
   "metadata": {},
   "outputs": [],
   "source": [
    "#La varianza es \n",
    "df['duration_ms'].var()"
   ]
  },
  {
   "cell_type": "code",
   "execution_count": 49,
   "metadata": {},
   "outputs": [
    {
     "name": "stdout",
     "output_type": "stream",
     "text": [
      "0         135607.196238\n",
      "1          97607.196238\n",
      "2          64713.196238\n",
      "3          82553.196238\n",
      "4         152355.196238\n",
      "              ...      \n",
      "232720     91259.803762\n",
      "232721     47466.803762\n",
      "232722     68020.196238\n",
      "232723     12538.196238\n",
      "232724     88046.803762\n",
      "Name: duration_ms, Length: 232725, dtype: float64\n"
     ]
    }
   ],
   "source": [
    "#Desviacion respecto a la media de cada canción\n",
    "diferencias = df['duration_ms'] - media\n",
    "desviacion_media = np.abs(diferencias)\n",
    "print(desviacion_media)"
   ]
  },
  {
   "cell_type": "code",
   "execution_count": 59,
   "metadata": {},
   "outputs": [
    {
     "data": {
      "text/plain": [
       "4.296916962079708e-06"
      ]
     },
     "execution_count": 59,
     "metadata": {},
     "output_type": "execute_result"
    }
   ],
   "source": [
    "#Robustez\n",
    "1/df.shape[0]"
   ]
  },
  {
   "cell_type": "code",
   "execution_count": 62,
   "metadata": {},
   "outputs": [
    {
     "data": {
      "text/plain": [
       "1.9771932087663138"
      ]
     },
     "execution_count": 62,
     "metadata": {},
     "output_type": "execute_result"
    }
   ],
   "source": [
    "#Coeficiente de variación \n",
    "cof = media / desviacion_estandar\n",
    "cof"
   ]
  }
 ],
 "metadata": {
  "kernelspec": {
   "display_name": "base",
   "language": "python",
   "name": "python3"
  },
  "language_info": {
   "codemirror_mode": {
    "name": "ipython",
    "version": 3
   },
   "file_extension": ".py",
   "mimetype": "text/x-python",
   "name": "python",
   "nbconvert_exporter": "python",
   "pygments_lexer": "ipython3",
   "version": "3.9.7"
  },
  "orig_nbformat": 4,
  "vscode": {
   "interpreter": {
    "hash": "ebacf0c690606339d2819fda86ce84d5dc8f19bdafd30d1cf039ac39003e3ee9"
   }
  }
 },
 "nbformat": 4,
 "nbformat_minor": 2
}
