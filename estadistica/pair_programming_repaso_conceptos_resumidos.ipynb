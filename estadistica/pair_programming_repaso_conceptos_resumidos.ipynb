{
 "cells": [
  {
   "attachments": {},
   "cell_type": "markdown",
   "metadata": {},
   "source": [
    "## Pair Programming Repaso Conceptos Resumidos\n",
    "---\n",
    "Al igual que en los ejercicios de pair programming de estadística, deberéis elegir un set de datos, puede ser de cualquier tipo. El objetivo de este pair programming es:\n",
    "\n",
    "\n",
    "Hacer una exploración inicial del dataframe.\n",
    "\n",
    "\n",
    "Plantead una serie de preguntas como las que fuimos contestando en la clase invertida.\n",
    "\n",
    "\n",
    "Contestad a las preguntas planteadas usando los principales estadísticos que hemos aprendido y gráficas que mejor se ajusten."
   ]
  },
  {
   "cell_type": "code",
   "execution_count": 4,
   "metadata": {},
   "outputs": [],
   "source": [
    "#importamos librerías\n",
    "import numpy as np\n",
    "import pandas as pd\n",
    "import seaborn as sns\n",
    "from scipy.stats import skew\n",
    "from pydataset import data"
   ]
  },
  {
   "cell_type": "code",
   "execution_count": 5,
   "metadata": {},
   "outputs": [
    {
     "data": {
      "text/html": [
       "<div>\n",
       "<style scoped>\n",
       "    .dataframe tbody tr th:only-of-type {\n",
       "        vertical-align: middle;\n",
       "    }\n",
       "\n",
       "    .dataframe tbody tr th {\n",
       "        vertical-align: top;\n",
       "    }\n",
       "\n",
       "    .dataframe thead th {\n",
       "        text-align: right;\n",
       "    }\n",
       "</style>\n",
       "<table border=\"1\" class=\"dataframe\">\n",
       "  <thead>\n",
       "    <tr style=\"text-align: right;\">\n",
       "      <th></th>\n",
       "      <th>genre</th>\n",
       "      <th>artist_name</th>\n",
       "      <th>track_name</th>\n",
       "      <th>track_id</th>\n",
       "      <th>popularity</th>\n",
       "      <th>acousticness</th>\n",
       "      <th>danceability</th>\n",
       "      <th>duration_ms</th>\n",
       "      <th>energy</th>\n",
       "      <th>instrumentalness</th>\n",
       "      <th>key</th>\n",
       "      <th>liveness</th>\n",
       "      <th>loudness</th>\n",
       "      <th>mode</th>\n",
       "      <th>speechiness</th>\n",
       "      <th>tempo</th>\n",
       "      <th>time_signature</th>\n",
       "      <th>valence</th>\n",
       "    </tr>\n",
       "  </thead>\n",
       "  <tbody>\n",
       "    <tr>\n",
       "      <th>0</th>\n",
       "      <td>Movie</td>\n",
       "      <td>Henri Salvador</td>\n",
       "      <td>C'est beau de faire un Show</td>\n",
       "      <td>0BRjO6ga9RKCKjfDqeFgWV</td>\n",
       "      <td>0</td>\n",
       "      <td>0.611</td>\n",
       "      <td>0.389</td>\n",
       "      <td>99373</td>\n",
       "      <td>0.910</td>\n",
       "      <td>0.000</td>\n",
       "      <td>C#</td>\n",
       "      <td>0.3460</td>\n",
       "      <td>-1.828</td>\n",
       "      <td>Major</td>\n",
       "      <td>0.0525</td>\n",
       "      <td>166.969</td>\n",
       "      <td>4/4</td>\n",
       "      <td>0.814</td>\n",
       "    </tr>\n",
       "    <tr>\n",
       "      <th>1</th>\n",
       "      <td>Movie</td>\n",
       "      <td>Martin &amp; les fées</td>\n",
       "      <td>Perdu d'avance (par Gad Elmaleh)</td>\n",
       "      <td>0BjC1NfoEOOusryehmNudP</td>\n",
       "      <td>1</td>\n",
       "      <td>0.246</td>\n",
       "      <td>0.590</td>\n",
       "      <td>137373</td>\n",
       "      <td>0.737</td>\n",
       "      <td>0.000</td>\n",
       "      <td>F#</td>\n",
       "      <td>0.1510</td>\n",
       "      <td>-5.559</td>\n",
       "      <td>Minor</td>\n",
       "      <td>0.0868</td>\n",
       "      <td>174.003</td>\n",
       "      <td>4/4</td>\n",
       "      <td>0.816</td>\n",
       "    </tr>\n",
       "    <tr>\n",
       "      <th>2</th>\n",
       "      <td>Movie</td>\n",
       "      <td>Joseph Williams</td>\n",
       "      <td>Don't Let Me Be Lonely Tonight</td>\n",
       "      <td>0CoSDzoNIKCRs124s9uTVy</td>\n",
       "      <td>3</td>\n",
       "      <td>0.952</td>\n",
       "      <td>0.663</td>\n",
       "      <td>170267</td>\n",
       "      <td>0.131</td>\n",
       "      <td>0.000</td>\n",
       "      <td>C</td>\n",
       "      <td>0.1030</td>\n",
       "      <td>-13.879</td>\n",
       "      <td>Minor</td>\n",
       "      <td>0.0362</td>\n",
       "      <td>99.488</td>\n",
       "      <td>5/4</td>\n",
       "      <td>0.368</td>\n",
       "    </tr>\n",
       "    <tr>\n",
       "      <th>3</th>\n",
       "      <td>Movie</td>\n",
       "      <td>Henri Salvador</td>\n",
       "      <td>Dis-moi Monsieur Gordon Cooper</td>\n",
       "      <td>0Gc6TVm52BwZD07Ki6tIvf</td>\n",
       "      <td>0</td>\n",
       "      <td>0.703</td>\n",
       "      <td>0.240</td>\n",
       "      <td>152427</td>\n",
       "      <td>0.326</td>\n",
       "      <td>0.000</td>\n",
       "      <td>C#</td>\n",
       "      <td>0.0985</td>\n",
       "      <td>-12.178</td>\n",
       "      <td>Major</td>\n",
       "      <td>0.0395</td>\n",
       "      <td>171.758</td>\n",
       "      <td>4/4</td>\n",
       "      <td>0.227</td>\n",
       "    </tr>\n",
       "    <tr>\n",
       "      <th>4</th>\n",
       "      <td>Movie</td>\n",
       "      <td>Fabien Nataf</td>\n",
       "      <td>Ouverture</td>\n",
       "      <td>0IuslXpMROHdEPvSl1fTQK</td>\n",
       "      <td>4</td>\n",
       "      <td>0.950</td>\n",
       "      <td>0.331</td>\n",
       "      <td>82625</td>\n",
       "      <td>0.225</td>\n",
       "      <td>0.123</td>\n",
       "      <td>F</td>\n",
       "      <td>0.2020</td>\n",
       "      <td>-21.150</td>\n",
       "      <td>Major</td>\n",
       "      <td>0.0456</td>\n",
       "      <td>140.576</td>\n",
       "      <td>4/4</td>\n",
       "      <td>0.390</td>\n",
       "    </tr>\n",
       "  </tbody>\n",
       "</table>\n",
       "</div>"
      ],
      "text/plain": [
       "   genre        artist_name                        track_name  \\\n",
       "0  Movie     Henri Salvador       C'est beau de faire un Show   \n",
       "1  Movie  Martin & les fées  Perdu d'avance (par Gad Elmaleh)   \n",
       "2  Movie    Joseph Williams    Don't Let Me Be Lonely Tonight   \n",
       "3  Movie     Henri Salvador    Dis-moi Monsieur Gordon Cooper   \n",
       "4  Movie       Fabien Nataf                         Ouverture   \n",
       "\n",
       "                 track_id  popularity  acousticness  danceability  \\\n",
       "0  0BRjO6ga9RKCKjfDqeFgWV           0         0.611         0.389   \n",
       "1  0BjC1NfoEOOusryehmNudP           1         0.246         0.590   \n",
       "2  0CoSDzoNIKCRs124s9uTVy           3         0.952         0.663   \n",
       "3  0Gc6TVm52BwZD07Ki6tIvf           0         0.703         0.240   \n",
       "4  0IuslXpMROHdEPvSl1fTQK           4         0.950         0.331   \n",
       "\n",
       "   duration_ms  energy  instrumentalness key  liveness  loudness   mode  \\\n",
       "0        99373   0.910             0.000  C#    0.3460    -1.828  Major   \n",
       "1       137373   0.737             0.000  F#    0.1510    -5.559  Minor   \n",
       "2       170267   0.131             0.000   C    0.1030   -13.879  Minor   \n",
       "3       152427   0.326             0.000  C#    0.0985   -12.178  Major   \n",
       "4        82625   0.225             0.123   F    0.2020   -21.150  Major   \n",
       "\n",
       "   speechiness    tempo time_signature  valence  \n",
       "0       0.0525  166.969            4/4    0.814  \n",
       "1       0.0868  174.003            4/4    0.816  \n",
       "2       0.0362   99.488            5/4    0.368  \n",
       "3       0.0395  171.758            4/4    0.227  \n",
       "4       0.0456  140.576            4/4    0.390  "
      ]
     },
     "execution_count": 5,
     "metadata": {},
     "output_type": "execute_result"
    }
   ],
   "source": [
    "df = pd.read_csv('spotifyFeatures.csv')\n",
    "df.head()"
   ]
  },
  {
   "attachments": {},
   "cell_type": "markdown",
   "metadata": {},
   "source": [
    "- ¿Cuántas filas tiene?\n",
    "\n",
    "- ¿Cuántas nulos tiene?\n",
    "\n",
    "- ¿Y duplicados?\n",
    "\n",
    "\n",
    "- ¿Qué tipo de datos tenemos en el dataframe?\n",
    "etc.\n"
   ]
  },
  {
   "cell_type": "code",
   "execution_count": 6,
   "metadata": {},
   "outputs": [
    {
     "data": {
      "text/plain": [
       "'Nuestro Data Frame tiene 232725 filas y 18 columnas '"
      ]
     },
     "execution_count": 6,
     "metadata": {},
     "output_type": "execute_result"
    }
   ],
   "source": [
    "df.shape\n",
    "f'Nuestro Data Frame tiene {df.shape[0]} filas y {df.shape[1]} columnas '"
   ]
  },
  {
   "cell_type": "code",
   "execution_count": 7,
   "metadata": {},
   "outputs": [
    {
     "data": {
      "text/plain": [
       "genre               0\n",
       "artist_name         0\n",
       "track_name          0\n",
       "track_id            0\n",
       "popularity          0\n",
       "acousticness        0\n",
       "danceability        0\n",
       "duration_ms         0\n",
       "energy              0\n",
       "instrumentalness    0\n",
       "key                 0\n",
       "liveness            0\n",
       "loudness            0\n",
       "mode                0\n",
       "speechiness         0\n",
       "tempo               0\n",
       "time_signature      0\n",
       "valence             0\n",
       "dtype: int64"
      ]
     },
     "execution_count": 7,
     "metadata": {},
     "output_type": "execute_result"
    }
   ],
   "source": [
    "df.isnull().sum()"
   ]
  },
  {
   "cell_type": "code",
   "execution_count": 8,
   "metadata": {},
   "outputs": [
    {
     "data": {
      "text/plain": [
       "'Nuestro df tiene 0 filas duplicadas'"
      ]
     },
     "execution_count": 8,
     "metadata": {},
     "output_type": "execute_result"
    }
   ],
   "source": [
    "f'Nuestro df tiene {df.duplicated().sum()} filas duplicadas'"
   ]
  },
  {
   "cell_type": "code",
   "execution_count": 9,
   "metadata": {},
   "outputs": [
    {
     "name": "stdout",
     "output_type": "stream",
     "text": [
      "<class 'pandas.core.frame.DataFrame'>\n",
      "RangeIndex: 232725 entries, 0 to 232724\n",
      "Data columns (total 18 columns):\n",
      " #   Column            Non-Null Count   Dtype  \n",
      "---  ------            --------------   -----  \n",
      " 0   genre             232725 non-null  object \n",
      " 1   artist_name       232725 non-null  object \n",
      " 2   track_name        232725 non-null  object \n",
      " 3   track_id          232725 non-null  object \n",
      " 4   popularity        232725 non-null  int64  \n",
      " 5   acousticness      232725 non-null  float64\n",
      " 6   danceability      232725 non-null  float64\n",
      " 7   duration_ms       232725 non-null  int64  \n",
      " 8   energy            232725 non-null  float64\n",
      " 9   instrumentalness  232725 non-null  float64\n",
      " 10  key               232725 non-null  object \n",
      " 11  liveness          232725 non-null  float64\n",
      " 12  loudness          232725 non-null  float64\n",
      " 13  mode              232725 non-null  object \n",
      " 14  speechiness       232725 non-null  float64\n",
      " 15  tempo             232725 non-null  float64\n",
      " 16  time_signature    232725 non-null  object \n",
      " 17  valence           232725 non-null  float64\n",
      "dtypes: float64(9), int64(2), object(7)\n",
      "memory usage: 32.0+ MB\n"
     ]
    }
   ],
   "source": [
    "df.info()"
   ]
  },
  {
   "cell_type": "code",
   "execution_count": 10,
   "metadata": {},
   "outputs": [
    {
     "data": {
      "text/html": [
       "<div>\n",
       "<style scoped>\n",
       "    .dataframe tbody tr th:only-of-type {\n",
       "        vertical-align: middle;\n",
       "    }\n",
       "\n",
       "    .dataframe tbody tr th {\n",
       "        vertical-align: top;\n",
       "    }\n",
       "\n",
       "    .dataframe thead th {\n",
       "        text-align: right;\n",
       "    }\n",
       "</style>\n",
       "<table border=\"1\" class=\"dataframe\">\n",
       "  <thead>\n",
       "    <tr style=\"text-align: right;\">\n",
       "      <th></th>\n",
       "      <th>genre</th>\n",
       "      <th>artist_name</th>\n",
       "      <th>track_name</th>\n",
       "      <th>track_id</th>\n",
       "      <th>popularity</th>\n",
       "      <th>acousticness</th>\n",
       "      <th>danceability</th>\n",
       "      <th>duration_ms</th>\n",
       "      <th>energy</th>\n",
       "      <th>instrumentalness</th>\n",
       "      <th>key</th>\n",
       "      <th>liveness</th>\n",
       "      <th>loudness</th>\n",
       "      <th>mode</th>\n",
       "      <th>speechiness</th>\n",
       "      <th>tempo</th>\n",
       "      <th>time_signature</th>\n",
       "      <th>valence</th>\n",
       "    </tr>\n",
       "  </thead>\n",
       "  <tbody>\n",
       "    <tr>\n",
       "      <th>84120</th>\n",
       "      <td>R&amp;B</td>\n",
       "      <td>Jorja Smith</td>\n",
       "      <td>Let Me Down - Shy FX Remix</td>\n",
       "      <td>4Qt4enkYft1kDnQOqeNLjK</td>\n",
       "      <td>55</td>\n",
       "      <td>0.0330</td>\n",
       "      <td>0.755</td>\n",
       "      <td>208000</td>\n",
       "      <td>0.526</td>\n",
       "      <td>0.002100</td>\n",
       "      <td>C#</td>\n",
       "      <td>0.3820</td>\n",
       "      <td>-7.757</td>\n",
       "      <td>Major</td>\n",
       "      <td>0.0319</td>\n",
       "      <td>124.946</td>\n",
       "      <td>4/4</td>\n",
       "      <td>0.592</td>\n",
       "    </tr>\n",
       "    <tr>\n",
       "      <th>47858</th>\n",
       "      <td>Blues</td>\n",
       "      <td>Ted Nugent</td>\n",
       "      <td>Stormtroopin'</td>\n",
       "      <td>0jeQNQBZ6YAxOauixu73an</td>\n",
       "      <td>40</td>\n",
       "      <td>0.0142</td>\n",
       "      <td>0.490</td>\n",
       "      <td>189627</td>\n",
       "      <td>0.829</td>\n",
       "      <td>0.198000</td>\n",
       "      <td>E</td>\n",
       "      <td>0.0619</td>\n",
       "      <td>-8.296</td>\n",
       "      <td>Minor</td>\n",
       "      <td>0.0428</td>\n",
       "      <td>155.707</td>\n",
       "      <td>4/4</td>\n",
       "      <td>0.824</td>\n",
       "    </tr>\n",
       "    <tr>\n",
       "      <th>132183</th>\n",
       "      <td>Reggae</td>\n",
       "      <td>Vybz Kartel</td>\n",
       "      <td>Pandora - RD Mix</td>\n",
       "      <td>7aoIu5Je1FY1pFygN6C80d</td>\n",
       "      <td>45</td>\n",
       "      <td>0.0621</td>\n",
       "      <td>0.594</td>\n",
       "      <td>201509</td>\n",
       "      <td>0.827</td>\n",
       "      <td>0.000000</td>\n",
       "      <td>F#</td>\n",
       "      <td>0.2840</td>\n",
       "      <td>-3.812</td>\n",
       "      <td>Major</td>\n",
       "      <td>0.1820</td>\n",
       "      <td>105.969</td>\n",
       "      <td>4/4</td>\n",
       "      <td>0.649</td>\n",
       "    </tr>\n",
       "    <tr>\n",
       "      <th>78356</th>\n",
       "      <td>Children’s Music</td>\n",
       "      <td>Spoon</td>\n",
       "      <td>Inside Out</td>\n",
       "      <td>7qCZgvV98j6RjUULW1s1it</td>\n",
       "      <td>60</td>\n",
       "      <td>0.4270</td>\n",
       "      <td>0.637</td>\n",
       "      <td>301960</td>\n",
       "      <td>0.618</td>\n",
       "      <td>0.097100</td>\n",
       "      <td>C</td>\n",
       "      <td>0.0704</td>\n",
       "      <td>-4.746</td>\n",
       "      <td>Major</td>\n",
       "      <td>0.0296</td>\n",
       "      <td>176.141</td>\n",
       "      <td>4/4</td>\n",
       "      <td>0.499</td>\n",
       "    </tr>\n",
       "    <tr>\n",
       "      <th>143456</th>\n",
       "      <td>Indie</td>\n",
       "      <td>Benjamin Francis Leftwich</td>\n",
       "      <td>Pictures</td>\n",
       "      <td>2cEBG31c2Y7mfRlLY8g1ah</td>\n",
       "      <td>47</td>\n",
       "      <td>0.9350</td>\n",
       "      <td>0.547</td>\n",
       "      <td>177533</td>\n",
       "      <td>0.313</td>\n",
       "      <td>0.000006</td>\n",
       "      <td>C#</td>\n",
       "      <td>0.1000</td>\n",
       "      <td>-10.313</td>\n",
       "      <td>Major</td>\n",
       "      <td>0.0352</td>\n",
       "      <td>141.177</td>\n",
       "      <td>4/4</td>\n",
       "      <td>0.328</td>\n",
       "    </tr>\n",
       "    <tr>\n",
       "      <th>190082</th>\n",
       "      <td>Ska</td>\n",
       "      <td>Tim Timebomb</td>\n",
       "      <td>Corazon De Oro</td>\n",
       "      <td>7xvtiET61kugAJP9JWGvwI</td>\n",
       "      <td>20</td>\n",
       "      <td>0.6150</td>\n",
       "      <td>0.589</td>\n",
       "      <td>230090</td>\n",
       "      <td>0.572</td>\n",
       "      <td>0.000000</td>\n",
       "      <td>G</td>\n",
       "      <td>0.3280</td>\n",
       "      <td>-7.152</td>\n",
       "      <td>Major</td>\n",
       "      <td>0.0374</td>\n",
       "      <td>82.490</td>\n",
       "      <td>4/4</td>\n",
       "      <td>0.566</td>\n",
       "    </tr>\n",
       "    <tr>\n",
       "      <th>195112</th>\n",
       "      <td>Movie</td>\n",
       "      <td>Riders In The Sky</td>\n",
       "      <td>River of Mystery</td>\n",
       "      <td>6dOZ9TvbHVnlppTQaHvEch</td>\n",
       "      <td>2</td>\n",
       "      <td>0.8000</td>\n",
       "      <td>0.442</td>\n",
       "      <td>202960</td>\n",
       "      <td>0.214</td>\n",
       "      <td>0.000001</td>\n",
       "      <td>A#</td>\n",
       "      <td>0.1090</td>\n",
       "      <td>-10.526</td>\n",
       "      <td>Major</td>\n",
       "      <td>0.0333</td>\n",
       "      <td>132.195</td>\n",
       "      <td>3/4</td>\n",
       "      <td>0.312</td>\n",
       "    </tr>\n",
       "    <tr>\n",
       "      <th>182650</th>\n",
       "      <td>Movie</td>\n",
       "      <td>Dick Van Dyke</td>\n",
       "      <td>We're Going Caroling</td>\n",
       "      <td>4BZpLLzvftoCFJgbQnjWkz</td>\n",
       "      <td>31</td>\n",
       "      <td>0.7340</td>\n",
       "      <td>0.660</td>\n",
       "      <td>145456</td>\n",
       "      <td>0.428</td>\n",
       "      <td>0.000000</td>\n",
       "      <td>C</td>\n",
       "      <td>0.1720</td>\n",
       "      <td>-6.865</td>\n",
       "      <td>Major</td>\n",
       "      <td>0.0320</td>\n",
       "      <td>125.689</td>\n",
       "      <td>4/4</td>\n",
       "      <td>0.780</td>\n",
       "    </tr>\n",
       "    <tr>\n",
       "      <th>158167</th>\n",
       "      <td>Ska</td>\n",
       "      <td>Sublime</td>\n",
       "      <td>Get Out! - Acoustic Version</td>\n",
       "      <td>6ofRvafRFZuJnbLXUWJeLj</td>\n",
       "      <td>27</td>\n",
       "      <td>0.0106</td>\n",
       "      <td>0.602</td>\n",
       "      <td>85547</td>\n",
       "      <td>0.329</td>\n",
       "      <td>0.000037</td>\n",
       "      <td>C</td>\n",
       "      <td>0.4850</td>\n",
       "      <td>-12.088</td>\n",
       "      <td>Major</td>\n",
       "      <td>0.0344</td>\n",
       "      <td>90.877</td>\n",
       "      <td>4/4</td>\n",
       "      <td>0.709</td>\n",
       "    </tr>\n",
       "    <tr>\n",
       "      <th>164683</th>\n",
       "      <td>Reggaeton</td>\n",
       "      <td>Daddy Yankee</td>\n",
       "      <td>Outro</td>\n",
       "      <td>7bQOz6cU8p6UUk3NDfnGuJ</td>\n",
       "      <td>25</td>\n",
       "      <td>0.8160</td>\n",
       "      <td>0.587</td>\n",
       "      <td>190955</td>\n",
       "      <td>0.653</td>\n",
       "      <td>0.000120</td>\n",
       "      <td>A</td>\n",
       "      <td>0.0547</td>\n",
       "      <td>-7.044</td>\n",
       "      <td>Minor</td>\n",
       "      <td>0.2790</td>\n",
       "      <td>191.849</td>\n",
       "      <td>4/4</td>\n",
       "      <td>0.831</td>\n",
       "    </tr>\n",
       "  </tbody>\n",
       "</table>\n",
       "</div>"
      ],
      "text/plain": [
       "                   genre                artist_name  \\\n",
       "84120                R&B                Jorja Smith   \n",
       "47858              Blues                 Ted Nugent   \n",
       "132183            Reggae                Vybz Kartel   \n",
       "78356   Children’s Music                      Spoon   \n",
       "143456             Indie  Benjamin Francis Leftwich   \n",
       "190082               Ska               Tim Timebomb   \n",
       "195112             Movie          Riders In The Sky   \n",
       "182650             Movie              Dick Van Dyke   \n",
       "158167               Ska                    Sublime   \n",
       "164683         Reggaeton               Daddy Yankee   \n",
       "\n",
       "                         track_name                track_id  popularity  \\\n",
       "84120    Let Me Down - Shy FX Remix  4Qt4enkYft1kDnQOqeNLjK          55   \n",
       "47858                 Stormtroopin'  0jeQNQBZ6YAxOauixu73an          40   \n",
       "132183             Pandora - RD Mix  7aoIu5Je1FY1pFygN6C80d          45   \n",
       "78356                    Inside Out  7qCZgvV98j6RjUULW1s1it          60   \n",
       "143456                     Pictures  2cEBG31c2Y7mfRlLY8g1ah          47   \n",
       "190082               Corazon De Oro  7xvtiET61kugAJP9JWGvwI          20   \n",
       "195112             River of Mystery  6dOZ9TvbHVnlppTQaHvEch           2   \n",
       "182650         We're Going Caroling  4BZpLLzvftoCFJgbQnjWkz          31   \n",
       "158167  Get Out! - Acoustic Version  6ofRvafRFZuJnbLXUWJeLj          27   \n",
       "164683                        Outro  7bQOz6cU8p6UUk3NDfnGuJ          25   \n",
       "\n",
       "        acousticness  danceability  duration_ms  energy  instrumentalness key  \\\n",
       "84120         0.0330         0.755       208000   0.526          0.002100  C#   \n",
       "47858         0.0142         0.490       189627   0.829          0.198000   E   \n",
       "132183        0.0621         0.594       201509   0.827          0.000000  F#   \n",
       "78356         0.4270         0.637       301960   0.618          0.097100   C   \n",
       "143456        0.9350         0.547       177533   0.313          0.000006  C#   \n",
       "190082        0.6150         0.589       230090   0.572          0.000000   G   \n",
       "195112        0.8000         0.442       202960   0.214          0.000001  A#   \n",
       "182650        0.7340         0.660       145456   0.428          0.000000   C   \n",
       "158167        0.0106         0.602        85547   0.329          0.000037   C   \n",
       "164683        0.8160         0.587       190955   0.653          0.000120   A   \n",
       "\n",
       "        liveness  loudness   mode  speechiness    tempo time_signature  \\\n",
       "84120     0.3820    -7.757  Major       0.0319  124.946            4/4   \n",
       "47858     0.0619    -8.296  Minor       0.0428  155.707            4/4   \n",
       "132183    0.2840    -3.812  Major       0.1820  105.969            4/4   \n",
       "78356     0.0704    -4.746  Major       0.0296  176.141            4/4   \n",
       "143456    0.1000   -10.313  Major       0.0352  141.177            4/4   \n",
       "190082    0.3280    -7.152  Major       0.0374   82.490            4/4   \n",
       "195112    0.1090   -10.526  Major       0.0333  132.195            3/4   \n",
       "182650    0.1720    -6.865  Major       0.0320  125.689            4/4   \n",
       "158167    0.4850   -12.088  Major       0.0344   90.877            4/4   \n",
       "164683    0.0547    -7.044  Minor       0.2790  191.849            4/4   \n",
       "\n",
       "        valence  \n",
       "84120     0.592  \n",
       "47858     0.824  \n",
       "132183    0.649  \n",
       "78356     0.499  \n",
       "143456    0.328  \n",
       "190082    0.566  \n",
       "195112    0.312  \n",
       "182650    0.780  \n",
       "158167    0.709  \n",
       "164683    0.831  "
      ]
     },
     "execution_count": 10,
     "metadata": {},
     "output_type": "execute_result"
    }
   ],
   "source": [
    "df.sample(10)"
   ]
  },
  {
   "cell_type": "code",
   "execution_count": 11,
   "metadata": {},
   "outputs": [
    {
     "data": {
      "text/plain": [
       "Index(['genre', 'artist_name', 'track_name', 'track_id', 'popularity',\n",
       "       'acousticness', 'danceability', 'duration_ms', 'energy',\n",
       "       'instrumentalness', 'key', 'liveness', 'loudness', 'mode',\n",
       "       'speechiness', 'tempo', 'time_signature', 'valence'],\n",
       "      dtype='object')"
      ]
     },
     "execution_count": 11,
     "metadata": {},
     "output_type": "execute_result"
    }
   ],
   "source": [
    "df.columns"
   ]
  },
  {
   "attachments": {},
   "cell_type": "markdown",
   "metadata": {},
   "source": [
    "- Preguntas que podríamos contestar:\n",
    "1. Canciones mas escuchadas\n",
    "2. Cual es el genero mas escuchado\n",
    "3. Cual es el artista del momento?\n",
    "\n",
    "1. Canciones que mas duran\n",
    "2. Media de duración de las canciones\n"
   ]
  },
  {
   "attachments": {},
   "cell_type": "markdown",
   "metadata": {},
   "source": [
    "Contestad a las preguntas planteadas usando los principales estadísticos que hemos aprendido y gráficas que mejor se ajusten."
   ]
  },
  {
   "cell_type": "code",
   "execution_count": 12,
   "metadata": {},
   "outputs": [],
   "source": [
    "def convertir_ms_a_minutos (col):\n",
    "    return (col*0.001)/60"
   ]
  },
  {
   "cell_type": "code",
   "execution_count": 24,
   "metadata": {},
   "outputs": [],
   "source": [
    "df = df['duration_ms'].apply(convertir_ms_a_minutos).reset_index()"
   ]
  },
  {
   "cell_type": "code",
   "execution_count": 25,
   "metadata": {},
   "outputs": [
    {
     "data": {
      "text/plain": [
       "4.000000    138\n",
       "3.000000    120\n",
       "3.200000    115\n",
       "3.600000     99\n",
       "3.333333     85\n",
       "           ... \n",
       "3.344983      1\n",
       "4.958350      1\n",
       "4.266083      1\n",
       "3.891700      1\n",
       "4.707450      1\n",
       "Name: duration_ms, Length: 70749, dtype: int64"
      ]
     },
     "execution_count": 25,
     "metadata": {},
     "output_type": "execute_result"
    }
   ],
   "source": [
    "df['duration_ms'].value_counts()\n"
   ]
  },
  {
   "cell_type": "code",
   "execution_count": 26,
   "metadata": {},
   "outputs": [
    {
     "data": {
      "text/plain": [
       "92.54861666666667"
      ]
     },
     "execution_count": 26,
     "metadata": {},
     "output_type": "execute_result"
    }
   ],
   "source": [
    "#La duracion maxima de las canciones\n",
    "df['duration_ms'].max()"
   ]
  },
  {
   "cell_type": "code",
   "execution_count": 27,
   "metadata": {},
   "outputs": [
    {
     "data": {
      "text/plain": [
       "0.06666666666666667"
      ]
     },
     "execution_count": 27,
     "metadata": {},
     "output_type": "execute_result"
    }
   ],
   "source": [
    "#Sacamos la moda \n",
    "df['duration_ms'].mode()[0] / 60\n"
   ]
  },
  {
   "cell_type": "code",
   "execution_count": 28,
   "metadata": {},
   "outputs": [],
   "source": [
    "#Media de la duración de las canciones \n",
    "media = df['duration_ms'].mean()"
   ]
  },
  {
   "cell_type": "code",
   "execution_count": 29,
   "metadata": {},
   "outputs": [
    {
     "name": "stdout",
     "output_type": "stream",
     "text": [
      "3.9132475695248528\n"
     ]
    }
   ],
   "source": [
    "#Sacamos la media ponderada añadiendo pesos aleatorios\n",
    "w = np.random.randint(0,100, df.shape[0])\n",
    "\n",
    "avg = np.average(df['duration_ms'], weights=w)\n",
    "print(avg)"
   ]
  },
  {
   "cell_type": "code",
   "execution_count": 32,
   "metadata": {},
   "outputs": [],
   "source": [
    "mediana = df['duration_ms'].median()"
   ]
  },
  {
   "cell_type": "code",
   "execution_count": 33,
   "metadata": {},
   "outputs": [],
   "source": [
    "#f'La desviacion estándar es \n",
    "desviacion_estandar = df['duration_ms'].std()"
   ]
  },
  {
   "cell_type": "code",
   "execution_count": 34,
   "metadata": {},
   "outputs": [
    {
     "data": {
      "text/plain": [
       "3.929375144668982"
      ]
     },
     "execution_count": 34,
     "metadata": {},
     "output_type": "execute_result"
    }
   ],
   "source": [
    "#La varianza es \n",
    "df['duration_ms'].var()"
   ]
  },
  {
   "cell_type": "code",
   "execution_count": 35,
   "metadata": {},
   "outputs": [
    {
     "name": "stdout",
     "output_type": "stream",
     "text": [
      "0         2.262489\n",
      "1         1.629156\n",
      "2         1.080922\n",
      "3         1.378256\n",
      "4         2.541622\n",
      "            ...   \n",
      "232720    1.518628\n",
      "232721    0.788744\n",
      "232722    1.136039\n",
      "232723    0.211339\n",
      "232724    1.465078\n",
      "Name: duration_ms, Length: 232725, dtype: float64\n"
     ]
    }
   ],
   "source": [
    "#Desviacion respecto a la media de cada canción\n",
    "diferencias = df['duration_ms'] - media\n",
    "desviacion_media = np.abs(diferencias)\n",
    "print(desviacion_media)"
   ]
  },
  {
   "cell_type": "code",
   "execution_count": 36,
   "metadata": {},
   "outputs": [
    {
     "data": {
      "text/plain": [
       "4.296916962079708e-06"
      ]
     },
     "execution_count": 36,
     "metadata": {},
     "output_type": "execute_result"
    }
   ],
   "source": [
    "#Robustez\n",
    "1/df.shape[0]"
   ]
  },
  {
   "cell_type": "code",
   "execution_count": 37,
   "metadata": {},
   "outputs": [
    {
     "data": {
      "text/plain": [
       "1.976882681535012"
      ]
     },
     "execution_count": 37,
     "metadata": {},
     "output_type": "execute_result"
    }
   ],
   "source": [
    "#Coeficiente de variación \n",
    "cof = media / desviacion_estandar\n",
    "cof"
   ]
  },
  {
   "attachments": {},
   "cell_type": "markdown",
   "metadata": {},
   "source": [
    "**RESPUESTA A PREGUNTAS**\n",
    "---"
   ]
  }
 ],
 "metadata": {
  "kernelspec": {
   "display_name": "base",
   "language": "python",
   "name": "python3"
  },
  "language_info": {
   "codemirror_mode": {
    "name": "ipython",
    "version": 3
   },
   "file_extension": ".py",
   "mimetype": "text/x-python",
   "name": "python",
   "nbconvert_exporter": "python",
   "pygments_lexer": "ipython3",
   "version": "3.9.7"
  },
  "orig_nbformat": 4,
  "vscode": {
   "interpreter": {
    "hash": "ebacf0c690606339d2819fda86ce84d5dc8f19bdafd30d1cf039ac39003e3ee9"
   }
  }
 },
 "nbformat": 4,
 "nbformat_minor": 2
}
