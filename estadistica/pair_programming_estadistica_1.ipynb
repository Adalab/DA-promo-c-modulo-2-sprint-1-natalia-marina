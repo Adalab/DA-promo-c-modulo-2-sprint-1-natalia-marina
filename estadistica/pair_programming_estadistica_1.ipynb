{
 "cells": [
  {
   "attachments": {},
   "cell_type": "markdown",
   "metadata": {},
   "source": [
    "## PAIR PROGRAMMING ESTADÍSTICA I\n",
    "---"
   ]
  },
  {
   "attachments": {},
   "cell_type": "markdown",
   "metadata": {},
   "source": [
    "Buscar un dataset que os guste, por ejemplo de Kaggle o de donde queráis extraerlo. De esta forma vamos a estudiar los diferentes estadísiticos que contiene en dataset seleccionado Para todas los ejercicios de pair programming de Estadística I, II y III usaremos el dataframe que se tome para el desarrollo de este ejercicio de pair programming."
   ]
  },
  {
   "cell_type": "code",
   "execution_count": 2,
   "metadata": {},
   "outputs": [],
   "source": [
    "# Importamos las librerias\n",
    "\n",
    "import numpy as np\n",
    "from scipy import stats \n",
    "import seaborn as sns\n",
    "import pandas as pd\n",
    "import matplotlib.pyplot as plt\n",
    "from pydataset import data\n"
   ]
  },
  {
   "attachments": {},
   "cell_type": "markdown",
   "metadata": {},
   "source": [
    "Los objetivos de hoy son:"
   ]
  },
  {
   "attachments": {},
   "cell_type": "markdown",
   "metadata": {},
   "source": [
    "**EJERCICIO 1**\n",
    "\n",
    "Buscar un conjunto de datos a analizar:\n",
    "- Se recomienda que el conjunto de datos a analizar tenga variables numéricas y categóricas. \n",
    "Ya que también se analizarán."
   ]
  },
  {
   "cell_type": "code",
   "execution_count": 3,
   "metadata": {},
   "outputs": [
    {
     "data": {
      "text/html": [
       "<div>\n",
       "<style scoped>\n",
       "    .dataframe tbody tr th:only-of-type {\n",
       "        vertical-align: middle;\n",
       "    }\n",
       "\n",
       "    .dataframe tbody tr th {\n",
       "        vertical-align: top;\n",
       "    }\n",
       "\n",
       "    .dataframe thead th {\n",
       "        text-align: right;\n",
       "    }\n",
       "</style>\n",
       "<table border=\"1\" class=\"dataframe\">\n",
       "  <thead>\n",
       "    <tr style=\"text-align: right;\">\n",
       "      <th></th>\n",
       "      <th>Unnamed: 0</th>\n",
       "      <th>city</th>\n",
       "      <th>country</th>\n",
       "      <th>x1</th>\n",
       "      <th>x2</th>\n",
       "      <th>x3</th>\n",
       "      <th>x4</th>\n",
       "      <th>x5</th>\n",
       "      <th>x6</th>\n",
       "      <th>x7</th>\n",
       "      <th>...</th>\n",
       "      <th>x47</th>\n",
       "      <th>x48</th>\n",
       "      <th>x49</th>\n",
       "      <th>x50</th>\n",
       "      <th>x51</th>\n",
       "      <th>x52</th>\n",
       "      <th>x53</th>\n",
       "      <th>x54</th>\n",
       "      <th>x55</th>\n",
       "      <th>data_quality</th>\n",
       "    </tr>\n",
       "  </thead>\n",
       "  <tbody>\n",
       "    <tr>\n",
       "      <th>0</th>\n",
       "      <td>0</td>\n",
       "      <td>Delhi</td>\n",
       "      <td>India</td>\n",
       "      <td>4.90</td>\n",
       "      <td>22.04</td>\n",
       "      <td>4.28</td>\n",
       "      <td>1.84</td>\n",
       "      <td>3.67</td>\n",
       "      <td>1.78</td>\n",
       "      <td>0.48</td>\n",
       "      <td>...</td>\n",
       "      <td>36.26</td>\n",
       "      <td>223.87</td>\n",
       "      <td>133.38</td>\n",
       "      <td>596.16</td>\n",
       "      <td>325.82</td>\n",
       "      <td>2619.46</td>\n",
       "      <td>1068.90</td>\n",
       "      <td>586.35</td>\n",
       "      <td>7.96</td>\n",
       "      <td>1</td>\n",
       "    </tr>\n",
       "    <tr>\n",
       "      <th>1</th>\n",
       "      <td>1</td>\n",
       "      <td>Shanghai</td>\n",
       "      <td>China</td>\n",
       "      <td>5.59</td>\n",
       "      <td>40.51</td>\n",
       "      <td>5.59</td>\n",
       "      <td>1.12</td>\n",
       "      <td>4.19</td>\n",
       "      <td>3.96</td>\n",
       "      <td>0.52</td>\n",
       "      <td>...</td>\n",
       "      <td>121.19</td>\n",
       "      <td>1080.07</td>\n",
       "      <td>564.30</td>\n",
       "      <td>2972.57</td>\n",
       "      <td>1532.23</td>\n",
       "      <td>17333.09</td>\n",
       "      <td>9174.88</td>\n",
       "      <td>1382.83</td>\n",
       "      <td>5.01</td>\n",
       "      <td>1</td>\n",
       "    </tr>\n",
       "    <tr>\n",
       "      <th>2</th>\n",
       "      <td>2</td>\n",
       "      <td>Jakarta</td>\n",
       "      <td>Indonesia</td>\n",
       "      <td>2.54</td>\n",
       "      <td>22.25</td>\n",
       "      <td>3.50</td>\n",
       "      <td>2.02</td>\n",
       "      <td>3.18</td>\n",
       "      <td>2.19</td>\n",
       "      <td>0.59</td>\n",
       "      <td>...</td>\n",
       "      <td>80.32</td>\n",
       "      <td>482.85</td>\n",
       "      <td>270.15</td>\n",
       "      <td>1117.69</td>\n",
       "      <td>584.37</td>\n",
       "      <td>2694.05</td>\n",
       "      <td>1269.44</td>\n",
       "      <td>483.19</td>\n",
       "      <td>9.15</td>\n",
       "      <td>1</td>\n",
       "    </tr>\n",
       "    <tr>\n",
       "      <th>3</th>\n",
       "      <td>3</td>\n",
       "      <td>Manila</td>\n",
       "      <td>Philippines</td>\n",
       "      <td>3.54</td>\n",
       "      <td>27.40</td>\n",
       "      <td>3.54</td>\n",
       "      <td>1.24</td>\n",
       "      <td>1.90</td>\n",
       "      <td>2.91</td>\n",
       "      <td>0.93</td>\n",
       "      <td>...</td>\n",
       "      <td>61.82</td>\n",
       "      <td>559.52</td>\n",
       "      <td>281.78</td>\n",
       "      <td>1754.40</td>\n",
       "      <td>684.81</td>\n",
       "      <td>3536.04</td>\n",
       "      <td>2596.44</td>\n",
       "      <td>419.02</td>\n",
       "      <td>7.80</td>\n",
       "      <td>1</td>\n",
       "    </tr>\n",
       "    <tr>\n",
       "      <th>4</th>\n",
       "      <td>4</td>\n",
       "      <td>Seoul</td>\n",
       "      <td>South Korea</td>\n",
       "      <td>7.16</td>\n",
       "      <td>52.77</td>\n",
       "      <td>6.03</td>\n",
       "      <td>3.02</td>\n",
       "      <td>4.52</td>\n",
       "      <td>3.86</td>\n",
       "      <td>1.46</td>\n",
       "      <td>...</td>\n",
       "      <td>108.30</td>\n",
       "      <td>809.83</td>\n",
       "      <td>583.60</td>\n",
       "      <td>2621.05</td>\n",
       "      <td>1683.74</td>\n",
       "      <td>21847.94</td>\n",
       "      <td>10832.90</td>\n",
       "      <td>2672.23</td>\n",
       "      <td>3.47</td>\n",
       "      <td>1</td>\n",
       "    </tr>\n",
       "  </tbody>\n",
       "</table>\n",
       "<p>5 rows × 59 columns</p>\n",
       "</div>"
      ],
      "text/plain": [
       "   Unnamed: 0      city      country    x1     x2    x3    x4    x5    x6  \\\n",
       "0           0     Delhi        India  4.90  22.04  4.28  1.84  3.67  1.78   \n",
       "1           1  Shanghai        China  5.59  40.51  5.59  1.12  4.19  3.96   \n",
       "2           2   Jakarta    Indonesia  2.54  22.25  3.50  2.02  3.18  2.19   \n",
       "3           3    Manila  Philippines  3.54  27.40  3.54  1.24  1.90  2.91   \n",
       "4           4     Seoul  South Korea  7.16  52.77  6.03  3.02  4.52  3.86   \n",
       "\n",
       "     x7  ...     x47      x48     x49      x50      x51       x52       x53  \\\n",
       "0  0.48  ...   36.26   223.87  133.38   596.16   325.82   2619.46   1068.90   \n",
       "1  0.52  ...  121.19  1080.07  564.30  2972.57  1532.23  17333.09   9174.88   \n",
       "2  0.59  ...   80.32   482.85  270.15  1117.69   584.37   2694.05   1269.44   \n",
       "3  0.93  ...   61.82   559.52  281.78  1754.40   684.81   3536.04   2596.44   \n",
       "4  1.46  ...  108.30   809.83  583.60  2621.05  1683.74  21847.94  10832.90   \n",
       "\n",
       "       x54   x55  data_quality  \n",
       "0   586.35  7.96             1  \n",
       "1  1382.83  5.01             1  \n",
       "2   483.19  9.15             1  \n",
       "3   419.02  7.80             1  \n",
       "4  2672.23  3.47             1  \n",
       "\n",
       "[5 rows x 59 columns]"
      ]
     },
     "execution_count": 3,
     "metadata": {},
     "output_type": "execute_result"
    }
   ],
   "source": [
    "# Cargamos y abrimos el archivo\n",
    "\n",
    "df = pd.read_csv('cost-of-living.csv')\n",
    "df.head()\n"
   ]
  },
  {
   "attachments": {},
   "cell_type": "markdown",
   "metadata": {},
   "source": [
    "### Análisis exploratorio del df 'cost-of-living'"
   ]
  },
  {
   "cell_type": "code",
   "execution_count": 4,
   "metadata": {},
   "outputs": [
    {
     "data": {
      "text/plain": [
       "Index(['Unnamed: 0', 'city', 'country', 'x1', 'x2', 'x3', 'x4', 'x5', 'x6',\n",
       "       'x7', 'x8', 'x9', 'x10', 'x11', 'x12', 'x13', 'x14', 'x15', 'x16',\n",
       "       'x17', 'x18', 'x19', 'x20', 'x21', 'x22', 'x23', 'x24', 'x25', 'x26',\n",
       "       'x27', 'x28', 'x29', 'x30', 'x31', 'x32', 'x33', 'x34', 'x35', 'x36',\n",
       "       'x37', 'x38', 'x39', 'x40', 'x41', 'x42', 'x43', 'x44', 'x45', 'x46',\n",
       "       'x47', 'x48', 'x49', 'x50', 'x51', 'x52', 'x53', 'x54', 'x55',\n",
       "       'data_quality'],\n",
       "      dtype='object')"
      ]
     },
     "execution_count": 4,
     "metadata": {},
     "output_type": "execute_result"
    }
   ],
   "source": [
    "# Nombres de las columnas\n",
    "\n",
    "df.columns\n"
   ]
  },
  {
   "cell_type": "code",
   "execution_count": 5,
   "metadata": {},
   "outputs": [],
   "source": [
    "# Renombramos las columnas\n",
    "\n",
    "df.rename(columns = {\"Unnamed: 0\":\"indice\",'city': 'ciudad', 'country': 'pais', \"x1\":\"comida_x1_rest\", \"x2\":\"comida_x2_rest\", \"x3\":\"menu_mcdonals\", \"x4\":\"cerveza_nac_rest_0.5cl\", \"x5\":\"cerveza_imp_rest_0.33cl\", \"x6\":\"capuccino_rest\",\n",
    "       \"x7\":\"coke_rest_0.33cl\", \"x8\": \"agua_rest_0.33cl\", \"x9\":\"leche_1l\", \"x10\":\"barra_pan\", \"x11\":\"arroz_1kg\", \"x12\":\"huevos_12ud\", \"x13\":\"queso_1kg\", \"x14\":\"pollo_1kg\", \"x15\":\"ternera_1kg\", \n",
    "       \"x16\":\"manzanas_1kg\", 'x17':\"platanos_1kg\", 'x18':\"orange_1kg\", 'x19':\"tomates_1kg\", 'x20':\"patatas_1kg\", 'x21':\"cebollas_1kg\", 'x22':\"lechuga\", 'x23':\"agua_super_1.5l\", 'x24':\"botella_vino_super\", \n",
    "       'x25':\"cerveza_nac_super_0.5cl\", 'x26':\"cerveza_imp_super_0.33cl\",'x27':\"tabaco_paq_20ud\", 'x28':\"billete_transporte_pub\", 'x29':\"abono_transporte_pub\", 'x30':\"taxi_start\", 'x31': \"taxi_1km\", \n",
    "       'x32':\"taxi_1h\", 'x33':\"gasolina_1l\", 'x34':\"volkswagen_coche_nuevo\", 'x35':\"toyota_coche_nuevo\", 'x36':\"gastos_basicos_apartamento\",'x37':\"precio_movil_1min\", 'x38':\"internet_mensual\", \n",
    "       'x39':\"cuota_gym\", 'x40':\"alq_pista_tenis\", 'x41':\"entrada_cine\", 'x42':\"guarderia_mensual\", 'x43':\"colegio_anual\", 'x44':\"vaqueros_levis\", 'x45':\"vestido_verano\", 'x46':\"deportivas_nike\",\n",
    "       'x47':\"zapatos_cuero_homb\", 'x48':\"apart_1hab_centro\", 'x49':\"apart_1hab_periferia\", 'x50':\"apart_3hab_centro\", 'x51':\"apart_3hab_periferia\", 'x52':\"m2_centro\", 'x53':\"m2_periferias\", \n",
    "       'x54':\"media_pond_salario_neto\", 'x55':\"interes_hipoteca\"}, inplace = True)"
   ]
  },
  {
   "cell_type": "code",
   "execution_count": 6,
   "metadata": {},
   "outputs": [
    {
     "data": {
      "text/plain": [
       "Index(['indice', 'ciudad', 'pais', 'comida_x1_rest', 'comida_x2_rest',\n",
       "       'menu_mcdonals', 'cerveza_nac_rest_0.5cl', 'cerveza_imp_rest_0.33cl',\n",
       "       'capuccino_rest', 'coke_rest_0.33cl', 'agua_rest_0.33cl', 'leche_1l',\n",
       "       'barra_pan', 'arroz_1kg', 'huevos_12ud', 'queso_1kg', 'pollo_1kg',\n",
       "       'ternera_1kg', 'manzanas_1kg', 'platanos_1kg', 'orange_1kg',\n",
       "       'tomates_1kg', 'patatas_1kg', 'cebollas_1kg', 'lechuga',\n",
       "       'agua_super_1.5l', 'botella_vino_super', 'cerveza_nac_super_0.5cl',\n",
       "       'cerveza_imp_super_0.33cl', 'tabaco_paq_20ud', 'billete_transporte_pub',\n",
       "       'abono_transporte_pub', 'taxi_start', 'taxi_1km', 'taxi_1h',\n",
       "       'gasolina_1l', 'volkswagen_coche_nuevo', 'toyota_coche_nuevo',\n",
       "       'gastos_basicos_apartamento', 'precio_movil_1min', 'internet_mensual',\n",
       "       'cuota_gym', 'alq_pista_tenis', 'entrada_cine', 'guarderia_mensual',\n",
       "       'colegio_anual', 'vaqueros_levis', 'vestido_verano', 'deportivas_nike',\n",
       "       'zapatos_cuero_homb', 'apart_1hab_centro', 'apart_1hab_periferia',\n",
       "       'apart_3hab_centro', 'apart_3hab_periferia', 'm2_centro',\n",
       "       'm2_periferias', 'media_pond_salario_neto', 'interes_hipoteca',\n",
       "       'data_quality'],\n",
       "      dtype='object')"
      ]
     },
     "execution_count": 6,
     "metadata": {},
     "output_type": "execute_result"
    }
   ],
   "source": [
    "df.columns"
   ]
  },
  {
   "cell_type": "code",
   "execution_count": 7,
   "metadata": {},
   "outputs": [],
   "source": [
    "# Para ver todas las columnas\n",
    "\n",
    "pd.options.display.max_columns= None "
   ]
  },
  {
   "cell_type": "code",
   "execution_count": 8,
   "metadata": {},
   "outputs": [
    {
     "data": {
      "text/html": [
       "<div>\n",
       "<style scoped>\n",
       "    .dataframe tbody tr th:only-of-type {\n",
       "        vertical-align: middle;\n",
       "    }\n",
       "\n",
       "    .dataframe tbody tr th {\n",
       "        vertical-align: top;\n",
       "    }\n",
       "\n",
       "    .dataframe thead th {\n",
       "        text-align: right;\n",
       "    }\n",
       "</style>\n",
       "<table border=\"1\" class=\"dataframe\">\n",
       "  <thead>\n",
       "    <tr style=\"text-align: right;\">\n",
       "      <th></th>\n",
       "      <th>indice</th>\n",
       "      <th>ciudad</th>\n",
       "      <th>pais</th>\n",
       "      <th>comida_x1_rest</th>\n",
       "      <th>comida_x2_rest</th>\n",
       "      <th>menu_mcdonals</th>\n",
       "      <th>cerveza_nac_rest_0.5cl</th>\n",
       "      <th>cerveza_imp_rest_0.33cl</th>\n",
       "      <th>capuccino_rest</th>\n",
       "      <th>coke_rest_0.33cl</th>\n",
       "      <th>agua_rest_0.33cl</th>\n",
       "      <th>leche_1l</th>\n",
       "      <th>barra_pan</th>\n",
       "      <th>arroz_1kg</th>\n",
       "      <th>huevos_12ud</th>\n",
       "      <th>queso_1kg</th>\n",
       "      <th>pollo_1kg</th>\n",
       "      <th>ternera_1kg</th>\n",
       "      <th>manzanas_1kg</th>\n",
       "      <th>platanos_1kg</th>\n",
       "      <th>orange_1kg</th>\n",
       "      <th>tomates_1kg</th>\n",
       "      <th>patatas_1kg</th>\n",
       "      <th>cebollas_1kg</th>\n",
       "      <th>lechuga</th>\n",
       "      <th>agua_super_1.5l</th>\n",
       "      <th>botella_vino_super</th>\n",
       "      <th>cerveza_nac_super_0.5cl</th>\n",
       "      <th>cerveza_imp_super_0.33cl</th>\n",
       "      <th>tabaco_paq_20ud</th>\n",
       "      <th>billete_transporte_pub</th>\n",
       "      <th>abono_transporte_pub</th>\n",
       "      <th>taxi_start</th>\n",
       "      <th>taxi_1km</th>\n",
       "      <th>taxi_1h</th>\n",
       "      <th>gasolina_1l</th>\n",
       "      <th>volkswagen_coche_nuevo</th>\n",
       "      <th>toyota_coche_nuevo</th>\n",
       "      <th>gastos_basicos_apartamento</th>\n",
       "      <th>precio_movil_1min</th>\n",
       "      <th>internet_mensual</th>\n",
       "      <th>cuota_gym</th>\n",
       "      <th>alq_pista_tenis</th>\n",
       "      <th>entrada_cine</th>\n",
       "      <th>guarderia_mensual</th>\n",
       "      <th>colegio_anual</th>\n",
       "      <th>vaqueros_levis</th>\n",
       "      <th>vestido_verano</th>\n",
       "      <th>deportivas_nike</th>\n",
       "      <th>zapatos_cuero_homb</th>\n",
       "      <th>apart_1hab_centro</th>\n",
       "      <th>apart_1hab_periferia</th>\n",
       "      <th>apart_3hab_centro</th>\n",
       "      <th>apart_3hab_periferia</th>\n",
       "      <th>m2_centro</th>\n",
       "      <th>m2_periferias</th>\n",
       "      <th>media_pond_salario_neto</th>\n",
       "      <th>interes_hipoteca</th>\n",
       "      <th>data_quality</th>\n",
       "    </tr>\n",
       "  </thead>\n",
       "  <tbody>\n",
       "    <tr>\n",
       "      <th>0</th>\n",
       "      <td>0</td>\n",
       "      <td>Delhi</td>\n",
       "      <td>India</td>\n",
       "      <td>4.90</td>\n",
       "      <td>22.04</td>\n",
       "      <td>4.28</td>\n",
       "      <td>1.84</td>\n",
       "      <td>3.67</td>\n",
       "      <td>1.78</td>\n",
       "      <td>0.48</td>\n",
       "      <td>0.19</td>\n",
       "      <td>0.73</td>\n",
       "      <td>0.51</td>\n",
       "      <td>0.88</td>\n",
       "      <td>1.01</td>\n",
       "      <td>4.32</td>\n",
       "      <td>3.79</td>\n",
       "      <td>5.57</td>\n",
       "      <td>1.80</td>\n",
       "      <td>0.75</td>\n",
       "      <td>1.01</td>\n",
       "      <td>0.60</td>\n",
       "      <td>0.36</td>\n",
       "      <td>0.41</td>\n",
       "      <td>0.70</td>\n",
       "      <td>0.36</td>\n",
       "      <td>9.79</td>\n",
       "      <td>1.53</td>\n",
       "      <td>2.51</td>\n",
       "      <td>4.28</td>\n",
       "      <td>0.49</td>\n",
       "      <td>11.63</td>\n",
       "      <td>0.61</td>\n",
       "      <td>0.22</td>\n",
       "      <td>1.22</td>\n",
       "      <td>1.25</td>\n",
       "      <td>12242.64</td>\n",
       "      <td>22972.31</td>\n",
       "      <td>57.37</td>\n",
       "      <td>0.01</td>\n",
       "      <td>7.96</td>\n",
       "      <td>21.07</td>\n",
       "      <td>8.47</td>\n",
       "      <td>4.90</td>\n",
       "      <td>73.76</td>\n",
       "      <td>1985.70</td>\n",
       "      <td>32.05</td>\n",
       "      <td>33.34</td>\n",
       "      <td>49.35</td>\n",
       "      <td>36.26</td>\n",
       "      <td>223.87</td>\n",
       "      <td>133.38</td>\n",
       "      <td>596.16</td>\n",
       "      <td>325.82</td>\n",
       "      <td>2619.46</td>\n",
       "      <td>1068.90</td>\n",
       "      <td>586.35</td>\n",
       "      <td>7.96</td>\n",
       "      <td>1</td>\n",
       "    </tr>\n",
       "    <tr>\n",
       "      <th>1</th>\n",
       "      <td>1</td>\n",
       "      <td>Shanghai</td>\n",
       "      <td>China</td>\n",
       "      <td>5.59</td>\n",
       "      <td>40.51</td>\n",
       "      <td>5.59</td>\n",
       "      <td>1.12</td>\n",
       "      <td>4.19</td>\n",
       "      <td>3.96</td>\n",
       "      <td>0.52</td>\n",
       "      <td>0.32</td>\n",
       "      <td>2.68</td>\n",
       "      <td>2.57</td>\n",
       "      <td>1.18</td>\n",
       "      <td>2.17</td>\n",
       "      <td>18.01</td>\n",
       "      <td>4.67</td>\n",
       "      <td>12.79</td>\n",
       "      <td>2.22</td>\n",
       "      <td>1.55</td>\n",
       "      <td>2.11</td>\n",
       "      <td>1.47</td>\n",
       "      <td>0.82</td>\n",
       "      <td>1.02</td>\n",
       "      <td>0.82</td>\n",
       "      <td>0.62</td>\n",
       "      <td>13.97</td>\n",
       "      <td>0.91</td>\n",
       "      <td>1.93</td>\n",
       "      <td>3.49</td>\n",
       "      <td>0.56</td>\n",
       "      <td>27.94</td>\n",
       "      <td>2.10</td>\n",
       "      <td>0.42</td>\n",
       "      <td>8.38</td>\n",
       "      <td>1.17</td>\n",
       "      <td>19554.98</td>\n",
       "      <td>20360.82</td>\n",
       "      <td>64.76</td>\n",
       "      <td>0.03</td>\n",
       "      <td>16.74</td>\n",
       "      <td>63.23</td>\n",
       "      <td>14.67</td>\n",
       "      <td>8.38</td>\n",
       "      <td>1356.63</td>\n",
       "      <td>25883.49</td>\n",
       "      <td>69.17</td>\n",
       "      <td>34.26</td>\n",
       "      <td>86.55</td>\n",
       "      <td>121.19</td>\n",
       "      <td>1080.07</td>\n",
       "      <td>564.30</td>\n",
       "      <td>2972.57</td>\n",
       "      <td>1532.23</td>\n",
       "      <td>17333.09</td>\n",
       "      <td>9174.88</td>\n",
       "      <td>1382.83</td>\n",
       "      <td>5.01</td>\n",
       "      <td>1</td>\n",
       "    </tr>\n",
       "    <tr>\n",
       "      <th>2</th>\n",
       "      <td>2</td>\n",
       "      <td>Jakarta</td>\n",
       "      <td>Indonesia</td>\n",
       "      <td>2.54</td>\n",
       "      <td>22.25</td>\n",
       "      <td>3.50</td>\n",
       "      <td>2.02</td>\n",
       "      <td>3.18</td>\n",
       "      <td>2.19</td>\n",
       "      <td>0.59</td>\n",
       "      <td>0.27</td>\n",
       "      <td>1.28</td>\n",
       "      <td>1.21</td>\n",
       "      <td>0.83</td>\n",
       "      <td>1.70</td>\n",
       "      <td>6.66</td>\n",
       "      <td>3.46</td>\n",
       "      <td>8.32</td>\n",
       "      <td>2.80</td>\n",
       "      <td>1.52</td>\n",
       "      <td>2.08</td>\n",
       "      <td>1.24</td>\n",
       "      <td>1.35</td>\n",
       "      <td>2.10</td>\n",
       "      <td>1.13</td>\n",
       "      <td>0.42</td>\n",
       "      <td>20.66</td>\n",
       "      <td>2.06</td>\n",
       "      <td>3.18</td>\n",
       "      <td>2.22</td>\n",
       "      <td>0.22</td>\n",
       "      <td>9.53</td>\n",
       "      <td>0.41</td>\n",
       "      <td>0.29</td>\n",
       "      <td>2.86</td>\n",
       "      <td>0.79</td>\n",
       "      <td>25489.74</td>\n",
       "      <td>27978.73</td>\n",
       "      <td>80.12</td>\n",
       "      <td>0.11</td>\n",
       "      <td>30.45</td>\n",
       "      <td>30.86</td>\n",
       "      <td>11.71</td>\n",
       "      <td>3.18</td>\n",
       "      <td>132.74</td>\n",
       "      <td>9934.37</td>\n",
       "      <td>38.87</td>\n",
       "      <td>25.95</td>\n",
       "      <td>72.89</td>\n",
       "      <td>80.32</td>\n",
       "      <td>482.85</td>\n",
       "      <td>270.15</td>\n",
       "      <td>1117.69</td>\n",
       "      <td>584.37</td>\n",
       "      <td>2694.05</td>\n",
       "      <td>1269.44</td>\n",
       "      <td>483.19</td>\n",
       "      <td>9.15</td>\n",
       "      <td>1</td>\n",
       "    </tr>\n",
       "    <tr>\n",
       "      <th>3</th>\n",
       "      <td>3</td>\n",
       "      <td>Manila</td>\n",
       "      <td>Philippines</td>\n",
       "      <td>3.54</td>\n",
       "      <td>27.40</td>\n",
       "      <td>3.54</td>\n",
       "      <td>1.24</td>\n",
       "      <td>1.90</td>\n",
       "      <td>2.91</td>\n",
       "      <td>0.93</td>\n",
       "      <td>0.51</td>\n",
       "      <td>1.63</td>\n",
       "      <td>1.19</td>\n",
       "      <td>0.89</td>\n",
       "      <td>1.73</td>\n",
       "      <td>5.06</td>\n",
       "      <td>4.19</td>\n",
       "      <td>6.64</td>\n",
       "      <td>2.66</td>\n",
       "      <td>1.42</td>\n",
       "      <td>2.95</td>\n",
       "      <td>1.42</td>\n",
       "      <td>1.76</td>\n",
       "      <td>1.75</td>\n",
       "      <td>1.36</td>\n",
       "      <td>0.65</td>\n",
       "      <td>8.84</td>\n",
       "      <td>1.15</td>\n",
       "      <td>1.55</td>\n",
       "      <td>2.65</td>\n",
       "      <td>0.53</td>\n",
       "      <td>11.86</td>\n",
       "      <td>0.71</td>\n",
       "      <td>0.24</td>\n",
       "      <td>2.12</td>\n",
       "      <td>1.38</td>\n",
       "      <td>22984.03</td>\n",
       "      <td>18200.60</td>\n",
       "      <td>97.45</td>\n",
       "      <td>0.15</td>\n",
       "      <td>38.02</td>\n",
       "      <td>48.09</td>\n",
       "      <td>5.85</td>\n",
       "      <td>5.48</td>\n",
       "      <td>254.89</td>\n",
       "      <td>10860.59</td>\n",
       "      <td>38.45</td>\n",
       "      <td>26.96</td>\n",
       "      <td>69.47</td>\n",
       "      <td>61.82</td>\n",
       "      <td>559.52</td>\n",
       "      <td>281.78</td>\n",
       "      <td>1754.40</td>\n",
       "      <td>684.81</td>\n",
       "      <td>3536.04</td>\n",
       "      <td>2596.44</td>\n",
       "      <td>419.02</td>\n",
       "      <td>7.80</td>\n",
       "      <td>1</td>\n",
       "    </tr>\n",
       "    <tr>\n",
       "      <th>4</th>\n",
       "      <td>4</td>\n",
       "      <td>Seoul</td>\n",
       "      <td>South Korea</td>\n",
       "      <td>7.16</td>\n",
       "      <td>52.77</td>\n",
       "      <td>6.03</td>\n",
       "      <td>3.02</td>\n",
       "      <td>4.52</td>\n",
       "      <td>3.86</td>\n",
       "      <td>1.46</td>\n",
       "      <td>0.78</td>\n",
       "      <td>2.13</td>\n",
       "      <td>2.78</td>\n",
       "      <td>3.66</td>\n",
       "      <td>4.02</td>\n",
       "      <td>11.13</td>\n",
       "      <td>10.62</td>\n",
       "      <td>40.41</td>\n",
       "      <td>6.79</td>\n",
       "      <td>3.70</td>\n",
       "      <td>6.40</td>\n",
       "      <td>6.36</td>\n",
       "      <td>3.86</td>\n",
       "      <td>2.81</td>\n",
       "      <td>2.40</td>\n",
       "      <td>1.06</td>\n",
       "      <td>15.08</td>\n",
       "      <td>2.10</td>\n",
       "      <td>2.49</td>\n",
       "      <td>3.39</td>\n",
       "      <td>0.98</td>\n",
       "      <td>41.47</td>\n",
       "      <td>2.86</td>\n",
       "      <td>0.90</td>\n",
       "      <td>9.05</td>\n",
       "      <td>1.41</td>\n",
       "      <td>28648.67</td>\n",
       "      <td>26851.06</td>\n",
       "      <td>176.24</td>\n",
       "      <td>0.16</td>\n",
       "      <td>22.06</td>\n",
       "      <td>54.84</td>\n",
       "      <td>17.99</td>\n",
       "      <td>9.42</td>\n",
       "      <td>384.01</td>\n",
       "      <td>18283.99</td>\n",
       "      <td>56.99</td>\n",
       "      <td>45.49</td>\n",
       "      <td>70.21</td>\n",
       "      <td>108.30</td>\n",
       "      <td>809.83</td>\n",
       "      <td>583.60</td>\n",
       "      <td>2621.05</td>\n",
       "      <td>1683.74</td>\n",
       "      <td>21847.94</td>\n",
       "      <td>10832.90</td>\n",
       "      <td>2672.23</td>\n",
       "      <td>3.47</td>\n",
       "      <td>1</td>\n",
       "    </tr>\n",
       "  </tbody>\n",
       "</table>\n",
       "</div>"
      ],
      "text/plain": [
       "   indice    ciudad         pais  comida_x1_rest  comida_x2_rest  \\\n",
       "0       0     Delhi        India            4.90           22.04   \n",
       "1       1  Shanghai        China            5.59           40.51   \n",
       "2       2   Jakarta    Indonesia            2.54           22.25   \n",
       "3       3    Manila  Philippines            3.54           27.40   \n",
       "4       4     Seoul  South Korea            7.16           52.77   \n",
       "\n",
       "   menu_mcdonals  cerveza_nac_rest_0.5cl  cerveza_imp_rest_0.33cl  \\\n",
       "0           4.28                    1.84                     3.67   \n",
       "1           5.59                    1.12                     4.19   \n",
       "2           3.50                    2.02                     3.18   \n",
       "3           3.54                    1.24                     1.90   \n",
       "4           6.03                    3.02                     4.52   \n",
       "\n",
       "   capuccino_rest  coke_rest_0.33cl  agua_rest_0.33cl  leche_1l  barra_pan  \\\n",
       "0            1.78              0.48              0.19      0.73       0.51   \n",
       "1            3.96              0.52              0.32      2.68       2.57   \n",
       "2            2.19              0.59              0.27      1.28       1.21   \n",
       "3            2.91              0.93              0.51      1.63       1.19   \n",
       "4            3.86              1.46              0.78      2.13       2.78   \n",
       "\n",
       "   arroz_1kg  huevos_12ud  queso_1kg  pollo_1kg  ternera_1kg  manzanas_1kg  \\\n",
       "0       0.88         1.01       4.32       3.79         5.57          1.80   \n",
       "1       1.18         2.17      18.01       4.67        12.79          2.22   \n",
       "2       0.83         1.70       6.66       3.46         8.32          2.80   \n",
       "3       0.89         1.73       5.06       4.19         6.64          2.66   \n",
       "4       3.66         4.02      11.13      10.62        40.41          6.79   \n",
       "\n",
       "   platanos_1kg  orange_1kg  tomates_1kg  patatas_1kg  cebollas_1kg  lechuga  \\\n",
       "0          0.75        1.01         0.60         0.36          0.41     0.70   \n",
       "1          1.55        2.11         1.47         0.82          1.02     0.82   \n",
       "2          1.52        2.08         1.24         1.35          2.10     1.13   \n",
       "3          1.42        2.95         1.42         1.76          1.75     1.36   \n",
       "4          3.70        6.40         6.36         3.86          2.81     2.40   \n",
       "\n",
       "   agua_super_1.5l  botella_vino_super  cerveza_nac_super_0.5cl  \\\n",
       "0             0.36                9.79                     1.53   \n",
       "1             0.62               13.97                     0.91   \n",
       "2             0.42               20.66                     2.06   \n",
       "3             0.65                8.84                     1.15   \n",
       "4             1.06               15.08                     2.10   \n",
       "\n",
       "   cerveza_imp_super_0.33cl  tabaco_paq_20ud  billete_transporte_pub  \\\n",
       "0                      2.51             4.28                    0.49   \n",
       "1                      1.93             3.49                    0.56   \n",
       "2                      3.18             2.22                    0.22   \n",
       "3                      1.55             2.65                    0.53   \n",
       "4                      2.49             3.39                    0.98   \n",
       "\n",
       "   abono_transporte_pub  taxi_start  taxi_1km  taxi_1h  gasolina_1l  \\\n",
       "0                 11.63        0.61      0.22     1.22         1.25   \n",
       "1                 27.94        2.10      0.42     8.38         1.17   \n",
       "2                  9.53        0.41      0.29     2.86         0.79   \n",
       "3                 11.86        0.71      0.24     2.12         1.38   \n",
       "4                 41.47        2.86      0.90     9.05         1.41   \n",
       "\n",
       "   volkswagen_coche_nuevo  toyota_coche_nuevo  gastos_basicos_apartamento  \\\n",
       "0                12242.64            22972.31                       57.37   \n",
       "1                19554.98            20360.82                       64.76   \n",
       "2                25489.74            27978.73                       80.12   \n",
       "3                22984.03            18200.60                       97.45   \n",
       "4                28648.67            26851.06                      176.24   \n",
       "\n",
       "   precio_movil_1min  internet_mensual  cuota_gym  alq_pista_tenis  \\\n",
       "0               0.01              7.96      21.07             8.47   \n",
       "1               0.03             16.74      63.23            14.67   \n",
       "2               0.11             30.45      30.86            11.71   \n",
       "3               0.15             38.02      48.09             5.85   \n",
       "4               0.16             22.06      54.84            17.99   \n",
       "\n",
       "   entrada_cine  guarderia_mensual  colegio_anual  vaqueros_levis  \\\n",
       "0          4.90              73.76        1985.70           32.05   \n",
       "1          8.38            1356.63       25883.49           69.17   \n",
       "2          3.18             132.74        9934.37           38.87   \n",
       "3          5.48             254.89       10860.59           38.45   \n",
       "4          9.42             384.01       18283.99           56.99   \n",
       "\n",
       "   vestido_verano  deportivas_nike  zapatos_cuero_homb  apart_1hab_centro  \\\n",
       "0           33.34            49.35               36.26             223.87   \n",
       "1           34.26            86.55              121.19            1080.07   \n",
       "2           25.95            72.89               80.32             482.85   \n",
       "3           26.96            69.47               61.82             559.52   \n",
       "4           45.49            70.21              108.30             809.83   \n",
       "\n",
       "   apart_1hab_periferia  apart_3hab_centro  apart_3hab_periferia  m2_centro  \\\n",
       "0                133.38             596.16                325.82    2619.46   \n",
       "1                564.30            2972.57               1532.23   17333.09   \n",
       "2                270.15            1117.69                584.37    2694.05   \n",
       "3                281.78            1754.40                684.81    3536.04   \n",
       "4                583.60            2621.05               1683.74   21847.94   \n",
       "\n",
       "   m2_periferias  media_pond_salario_neto  interes_hipoteca  data_quality  \n",
       "0        1068.90                   586.35              7.96             1  \n",
       "1        9174.88                  1382.83              5.01             1  \n",
       "2        1269.44                   483.19              9.15             1  \n",
       "3        2596.44                   419.02              7.80             1  \n",
       "4       10832.90                  2672.23              3.47             1  "
      ]
     },
     "execution_count": 8,
     "metadata": {},
     "output_type": "execute_result"
    }
   ],
   "source": [
    "df.head()"
   ]
  },
  {
   "cell_type": "code",
   "execution_count": 9,
   "metadata": {},
   "outputs": [
    {
     "data": {
      "text/plain": [
       "' Las filas y las columnas que tiene el dataframe son (4874, 59)'"
      ]
     },
     "execution_count": 9,
     "metadata": {},
     "output_type": "execute_result"
    }
   ],
   "source": [
    "# Forma del dataframe\n",
    "\n",
    "df.shape\n",
    "f' Las filas y las columnas que tiene el dataframe son {df.shape}'\n"
   ]
  },
  {
   "cell_type": "code",
   "execution_count": 10,
   "metadata": {},
   "outputs": [
    {
     "data": {
      "text/plain": [
       "287566"
      ]
     },
     "execution_count": 10,
     "metadata": {},
     "output_type": "execute_result"
    }
   ],
   "source": [
    "# Tamaño/ número de entradas\n",
    "\n",
    "df.size"
   ]
  },
  {
   "cell_type": "code",
   "execution_count": 11,
   "metadata": {},
   "outputs": [
    {
     "name": "stdout",
     "output_type": "stream",
     "text": [
      "<class 'pandas.core.frame.DataFrame'>\n",
      "RangeIndex: 4874 entries, 0 to 4873\n",
      "Data columns (total 59 columns):\n",
      " #   Column                      Non-Null Count  Dtype  \n",
      "---  ------                      --------------  -----  \n",
      " 0   indice                      4874 non-null   int64  \n",
      " 1   ciudad                      4874 non-null   object \n",
      " 2   pais                        4874 non-null   object \n",
      " 3   comida_x1_rest              4449 non-null   float64\n",
      " 4   comida_x2_rest              4432 non-null   float64\n",
      " 5   menu_mcdonals               4552 non-null   float64\n",
      " 6   cerveza_nac_rest_0.5cl      4385 non-null   float64\n",
      " 7   cerveza_imp_rest_0.33cl     4445 non-null   float64\n",
      " 8   capuccino_rest              4540 non-null   float64\n",
      " 9   coke_rest_0.33cl            4438 non-null   float64\n",
      " 10  agua_rest_0.33cl            4571 non-null   float64\n",
      " 11  leche_1l                    4494 non-null   float64\n",
      " 12  barra_pan                   4457 non-null   float64\n",
      " 13  arroz_1kg                   4538 non-null   float64\n",
      " 14  huevos_12ud                 4369 non-null   float64\n",
      " 15  queso_1kg                   4393 non-null   float64\n",
      " 16  pollo_1kg                   4318 non-null   float64\n",
      " 17  ternera_1kg                 4312 non-null   float64\n",
      " 18  manzanas_1kg                4509 non-null   float64\n",
      " 19  platanos_1kg                4499 non-null   float64\n",
      " 20  orange_1kg                  4439 non-null   float64\n",
      " 21  tomates_1kg                 4410 non-null   float64\n",
      " 22  patatas_1kg                 4444 non-null   float64\n",
      " 23  cebollas_1kg                4447 non-null   float64\n",
      " 24  lechuga                     4379 non-null   float64\n",
      " 25  agua_super_1.5l             4490 non-null   float64\n",
      " 26  botella_vino_super          4414 non-null   float64\n",
      " 27  cerveza_nac_super_0.5cl     4149 non-null   float64\n",
      " 28  cerveza_imp_super_0.33cl    4223 non-null   float64\n",
      " 29  tabaco_paq_20ud             4389 non-null   float64\n",
      " 30  billete_transporte_pub      3401 non-null   float64\n",
      " 31  abono_transporte_pub        2750 non-null   float64\n",
      " 32  taxi_start                  4013 non-null   float64\n",
      " 33  taxi_1km                    3869 non-null   float64\n",
      " 34  taxi_1h                     3506 non-null   float64\n",
      " 35  gasolina_1l                 4296 non-null   float64\n",
      " 36  volkswagen_coche_nuevo      3839 non-null   float64\n",
      " 37  toyota_coche_nuevo          3904 non-null   float64\n",
      " 38  gastos_basicos_apartamento  4400 non-null   float64\n",
      " 39  precio_movil_1min           3702 non-null   float64\n",
      " 40  internet_mensual            4534 non-null   float64\n",
      " 41  cuota_gym                   3523 non-null   float64\n",
      " 42  alq_pista_tenis             2508 non-null   float64\n",
      " 43  entrada_cine                4405 non-null   float64\n",
      " 44  guarderia_mensual           3761 non-null   float64\n",
      " 45  colegio_anual               3230 non-null   float64\n",
      " 46  vaqueros_levis              4413 non-null   float64\n",
      " 47  vestido_verano              4273 non-null   float64\n",
      " 48  deportivas_nike             4388 non-null   float64\n",
      " 49  zapatos_cuero_homb          4337 non-null   float64\n",
      " 50  apart_1hab_centro           3533 non-null   float64\n",
      " 51  apart_1hab_periferia        3465 non-null   float64\n",
      " 52  apart_3hab_centro           3418 non-null   float64\n",
      " 53  apart_3hab_periferia        3385 non-null   float64\n",
      " 54  m2_centro                   2681 non-null   float64\n",
      " 55  m2_periferias               2609 non-null   float64\n",
      " 56  media_pond_salario_neto     3459 non-null   float64\n",
      " 57  interes_hipoteca            3894 non-null   float64\n",
      " 58  data_quality                4874 non-null   int64  \n",
      "dtypes: float64(55), int64(2), object(2)\n",
      "memory usage: 2.2+ MB\n"
     ]
    }
   ],
   "source": [
    "# Información general del dataframe\n",
    "\n",
    "df.info()\n"
   ]
  },
  {
   "cell_type": "code",
   "execution_count": 12,
   "metadata": {},
   "outputs": [
    {
     "data": {
      "text/html": [
       "<div>\n",
       "<style scoped>\n",
       "    .dataframe tbody tr th:only-of-type {\n",
       "        vertical-align: middle;\n",
       "    }\n",
       "\n",
       "    .dataframe tbody tr th {\n",
       "        vertical-align: top;\n",
       "    }\n",
       "\n",
       "    .dataframe thead th {\n",
       "        text-align: right;\n",
       "    }\n",
       "</style>\n",
       "<table border=\"1\" class=\"dataframe\">\n",
       "  <thead>\n",
       "    <tr style=\"text-align: right;\">\n",
       "      <th></th>\n",
       "      <th>count</th>\n",
       "      <th>mean</th>\n",
       "      <th>std</th>\n",
       "      <th>min</th>\n",
       "      <th>25%</th>\n",
       "      <th>50%</th>\n",
       "      <th>75%</th>\n",
       "      <th>max</th>\n",
       "    </tr>\n",
       "  </thead>\n",
       "  <tbody>\n",
       "    <tr>\n",
       "      <th>indice</th>\n",
       "      <td>4874.0</td>\n",
       "      <td>2436.500000</td>\n",
       "      <td>1407.146936</td>\n",
       "      <td>0.00</td>\n",
       "      <td>1218.2500</td>\n",
       "      <td>2436.500</td>\n",
       "      <td>3654.7500</td>\n",
       "      <td>4873.00</td>\n",
       "    </tr>\n",
       "    <tr>\n",
       "      <th>comida_x1_rest</th>\n",
       "      <td>4449.0</td>\n",
       "      <td>10.321643</td>\n",
       "      <td>7.165507</td>\n",
       "      <td>0.45</td>\n",
       "      <td>4.3100</td>\n",
       "      <td>9.830</td>\n",
       "      <td>15.0000</td>\n",
       "      <td>56.98</td>\n",
       "    </tr>\n",
       "    <tr>\n",
       "      <th>comida_x2_rest</th>\n",
       "      <td>4432.0</td>\n",
       "      <td>43.213592</td>\n",
       "      <td>25.365827</td>\n",
       "      <td>3.25</td>\n",
       "      <td>22.3500</td>\n",
       "      <td>40.000</td>\n",
       "      <td>60.0000</td>\n",
       "      <td>211.35</td>\n",
       "    </tr>\n",
       "    <tr>\n",
       "      <th>menu_mcdonals</th>\n",
       "      <td>4552.0</td>\n",
       "      <td>6.875426</td>\n",
       "      <td>2.669017</td>\n",
       "      <td>1.06</td>\n",
       "      <td>4.9100</td>\n",
       "      <td>6.960</td>\n",
       "      <td>8.5000</td>\n",
       "      <td>21.81</td>\n",
       "    </tr>\n",
       "    <tr>\n",
       "      <th>cerveza_nac_rest_0.5cl</th>\n",
       "      <td>4385.0</td>\n",
       "      <td>3.376732</td>\n",
       "      <td>2.080606</td>\n",
       "      <td>0.32</td>\n",
       "      <td>1.5900</td>\n",
       "      <td>3.000</td>\n",
       "      <td>5.0000</td>\n",
       "      <td>15.00</td>\n",
       "    </tr>\n",
       "    <tr>\n",
       "      <th>cerveza_imp_rest_0.33cl</th>\n",
       "      <td>4445.0</td>\n",
       "      <td>3.937287</td>\n",
       "      <td>2.088773</td>\n",
       "      <td>0.31</td>\n",
       "      <td>2.2200</td>\n",
       "      <td>3.640</td>\n",
       "      <td>5.1900</td>\n",
       "      <td>17.50</td>\n",
       "    </tr>\n",
       "    <tr>\n",
       "      <th>capuccino_rest</th>\n",
       "      <td>4540.0</td>\n",
       "      <td>2.742822</td>\n",
       "      <td>1.353734</td>\n",
       "      <td>0.22</td>\n",
       "      <td>1.5600</td>\n",
       "      <td>2.630</td>\n",
       "      <td>3.7225</td>\n",
       "      <td>10.00</td>\n",
       "    </tr>\n",
       "    <tr>\n",
       "      <th>coke_rest_0.33cl</th>\n",
       "      <td>4438.0</td>\n",
       "      <td>1.513053</td>\n",
       "      <td>0.905525</td>\n",
       "      <td>0.11</td>\n",
       "      <td>0.7500</td>\n",
       "      <td>1.450</td>\n",
       "      <td>2.0800</td>\n",
       "      <td>8.00</td>\n",
       "    </tr>\n",
       "    <tr>\n",
       "      <th>agua_rest_0.33cl</th>\n",
       "      <td>4571.0</td>\n",
       "      <td>1.110768</td>\n",
       "      <td>0.749957</td>\n",
       "      <td>0.07</td>\n",
       "      <td>0.4700</td>\n",
       "      <td>1.040</td>\n",
       "      <td>1.5700</td>\n",
       "      <td>5.77</td>\n",
       "    </tr>\n",
       "    <tr>\n",
       "      <th>leche_1l</th>\n",
       "      <td>4494.0</td>\n",
       "      <td>1.139455</td>\n",
       "      <td>0.513458</td>\n",
       "      <td>0.26</td>\n",
       "      <td>0.8200</td>\n",
       "      <td>1.040</td>\n",
       "      <td>1.3000</td>\n",
       "      <td>6.81</td>\n",
       "    </tr>\n",
       "    <tr>\n",
       "      <th>barra_pan</th>\n",
       "      <td>4457.0</td>\n",
       "      <td>1.605277</td>\n",
       "      <td>1.079458</td>\n",
       "      <td>0.05</td>\n",
       "      <td>0.7900</td>\n",
       "      <td>1.310</td>\n",
       "      <td>2.2000</td>\n",
       "      <td>8.81</td>\n",
       "    </tr>\n",
       "    <tr>\n",
       "      <th>arroz_1kg</th>\n",
       "      <td>4538.0</td>\n",
       "      <td>2.182243</td>\n",
       "      <td>1.637878</td>\n",
       "      <td>0.24</td>\n",
       "      <td>1.0400</td>\n",
       "      <td>1.680</td>\n",
       "      <td>2.7500</td>\n",
       "      <td>15.43</td>\n",
       "    </tr>\n",
       "    <tr>\n",
       "      <th>huevos_12ud</th>\n",
       "      <td>4369.0</td>\n",
       "      <td>2.330382</td>\n",
       "      <td>1.066676</td>\n",
       "      <td>0.10</td>\n",
       "      <td>1.5600</td>\n",
       "      <td>2.130</td>\n",
       "      <td>2.9600</td>\n",
       "      <td>9.65</td>\n",
       "    </tr>\n",
       "    <tr>\n",
       "      <th>queso_1kg</th>\n",
       "      <td>4393.0</td>\n",
       "      <td>9.448532</td>\n",
       "      <td>4.895459</td>\n",
       "      <td>0.90</td>\n",
       "      <td>6.1500</td>\n",
       "      <td>8.770</td>\n",
       "      <td>11.7900</td>\n",
       "      <td>48.47</td>\n",
       "    </tr>\n",
       "    <tr>\n",
       "      <th>pollo_1kg</th>\n",
       "      <td>4318.0</td>\n",
       "      <td>7.138745</td>\n",
       "      <td>4.461518</td>\n",
       "      <td>1.17</td>\n",
       "      <td>4.0000</td>\n",
       "      <td>6.065</td>\n",
       "      <td>9.1700</td>\n",
       "      <td>44.09</td>\n",
       "    </tr>\n",
       "    <tr>\n",
       "      <th>ternera_1kg</th>\n",
       "      <td>4312.0</td>\n",
       "      <td>11.656018</td>\n",
       "      <td>7.203071</td>\n",
       "      <td>1.43</td>\n",
       "      <td>7.2050</td>\n",
       "      <td>10.240</td>\n",
       "      <td>14.2800</td>\n",
       "      <td>95.11</td>\n",
       "    </tr>\n",
       "    <tr>\n",
       "      <th>manzanas_1kg</th>\n",
       "      <td>4509.0</td>\n",
       "      <td>2.747809</td>\n",
       "      <td>1.870736</td>\n",
       "      <td>0.27</td>\n",
       "      <td>1.4600</td>\n",
       "      <td>2.280</td>\n",
       "      <td>3.6100</td>\n",
       "      <td>22.74</td>\n",
       "    </tr>\n",
       "    <tr>\n",
       "      <th>platanos_1kg</th>\n",
       "      <td>4499.0</td>\n",
       "      <td>1.543952</td>\n",
       "      <td>0.826588</td>\n",
       "      <td>0.22</td>\n",
       "      <td>1.0900</td>\n",
       "      <td>1.410</td>\n",
       "      <td>1.8100</td>\n",
       "      <td>20.12</td>\n",
       "    </tr>\n",
       "    <tr>\n",
       "      <th>orange_1kg</th>\n",
       "      <td>4439.0</td>\n",
       "      <td>2.351935</td>\n",
       "      <td>1.694907</td>\n",
       "      <td>0.20</td>\n",
       "      <td>1.2000</td>\n",
       "      <td>1.870</td>\n",
       "      <td>3.0500</td>\n",
       "      <td>15.08</td>\n",
       "    </tr>\n",
       "    <tr>\n",
       "      <th>tomates_1kg</th>\n",
       "      <td>4410.0</td>\n",
       "      <td>2.547399</td>\n",
       "      <td>1.810451</td>\n",
       "      <td>0.12</td>\n",
       "      <td>1.1800</td>\n",
       "      <td>2.120</td>\n",
       "      <td>3.5600</td>\n",
       "      <td>17.64</td>\n",
       "    </tr>\n",
       "    <tr>\n",
       "      <th>patatas_1kg</th>\n",
       "      <td>4444.0</td>\n",
       "      <td>1.568906</td>\n",
       "      <td>1.233074</td>\n",
       "      <td>0.11</td>\n",
       "      <td>0.7300</td>\n",
       "      <td>1.200</td>\n",
       "      <td>2.0800</td>\n",
       "      <td>15.87</td>\n",
       "    </tr>\n",
       "    <tr>\n",
       "      <th>cebollas_1kg</th>\n",
       "      <td>4447.0</td>\n",
       "      <td>1.516267</td>\n",
       "      <td>1.113866</td>\n",
       "      <td>0.11</td>\n",
       "      <td>0.7400</td>\n",
       "      <td>1.190</td>\n",
       "      <td>2.0800</td>\n",
       "      <td>12.22</td>\n",
       "    </tr>\n",
       "    <tr>\n",
       "      <th>lechuga</th>\n",
       "      <td>4379.0</td>\n",
       "      <td>1.219847</td>\n",
       "      <td>0.729826</td>\n",
       "      <td>0.08</td>\n",
       "      <td>0.7100</td>\n",
       "      <td>1.040</td>\n",
       "      <td>1.6400</td>\n",
       "      <td>9.25</td>\n",
       "    </tr>\n",
       "    <tr>\n",
       "      <th>agua_super_1.5l</th>\n",
       "      <td>4490.0</td>\n",
       "      <td>0.986062</td>\n",
       "      <td>0.679048</td>\n",
       "      <td>0.11</td>\n",
       "      <td>0.4900</td>\n",
       "      <td>0.750</td>\n",
       "      <td>1.3900</td>\n",
       "      <td>5.00</td>\n",
       "    </tr>\n",
       "    <tr>\n",
       "      <th>botella_vino_super</th>\n",
       "      <td>4414.0</td>\n",
       "      <td>8.645111</td>\n",
       "      <td>4.620889</td>\n",
       "      <td>0.36</td>\n",
       "      <td>5.1900</td>\n",
       "      <td>7.810</td>\n",
       "      <td>11.4300</td>\n",
       "      <td>51.94</td>\n",
       "    </tr>\n",
       "    <tr>\n",
       "      <th>cerveza_nac_super_0.5cl</th>\n",
       "      <td>4149.0</td>\n",
       "      <td>1.657585</td>\n",
       "      <td>0.912849</td>\n",
       "      <td>0.25</td>\n",
       "      <td>0.9900</td>\n",
       "      <td>1.430</td>\n",
       "      <td>2.1400</td>\n",
       "      <td>7.67</td>\n",
       "    </tr>\n",
       "    <tr>\n",
       "      <th>cerveza_imp_super_0.33cl</th>\n",
       "      <td>4223.0</td>\n",
       "      <td>2.308425</td>\n",
       "      <td>1.192877</td>\n",
       "      <td>0.35</td>\n",
       "      <td>1.4900</td>\n",
       "      <td>2.100</td>\n",
       "      <td>2.8900</td>\n",
       "      <td>15.67</td>\n",
       "    </tr>\n",
       "    <tr>\n",
       "      <th>tabaco_paq_20ud</th>\n",
       "      <td>4389.0</td>\n",
       "      <td>6.253698</td>\n",
       "      <td>4.431934</td>\n",
       "      <td>0.45</td>\n",
       "      <td>3.0400</td>\n",
       "      <td>5.190</td>\n",
       "      <td>8.3100</td>\n",
       "      <td>56.98</td>\n",
       "    </tr>\n",
       "    <tr>\n",
       "      <th>billete_transporte_pub</th>\n",
       "      <td>3401.0</td>\n",
       "      <td>1.510700</td>\n",
       "      <td>1.316234</td>\n",
       "      <td>0.00</td>\n",
       "      <td>0.4800</td>\n",
       "      <td>1.170</td>\n",
       "      <td>2.1800</td>\n",
       "      <td>13.00</td>\n",
       "    </tr>\n",
       "    <tr>\n",
       "      <th>abono_transporte_pub</th>\n",
       "      <td>2750.0</td>\n",
       "      <td>43.832596</td>\n",
       "      <td>36.519276</td>\n",
       "      <td>0.00</td>\n",
       "      <td>17.9150</td>\n",
       "      <td>35.320</td>\n",
       "      <td>60.0600</td>\n",
       "      <td>364.58</td>\n",
       "    </tr>\n",
       "    <tr>\n",
       "      <th>taxi_start</th>\n",
       "      <td>4013.0</td>\n",
       "      <td>2.758074</td>\n",
       "      <td>2.209629</td>\n",
       "      <td>0.14</td>\n",
       "      <td>1.0800</td>\n",
       "      <td>2.500</td>\n",
       "      <td>3.6400</td>\n",
       "      <td>50.00</td>\n",
       "    </tr>\n",
       "    <tr>\n",
       "      <th>taxi_1km</th>\n",
       "      <td>3869.0</td>\n",
       "      <td>1.217227</td>\n",
       "      <td>0.835750</td>\n",
       "      <td>0.10</td>\n",
       "      <td>0.5200</td>\n",
       "      <td>1.120</td>\n",
       "      <td>1.7100</td>\n",
       "      <td>5.99</td>\n",
       "    </tr>\n",
       "    <tr>\n",
       "      <th>taxi_1h</th>\n",
       "      <td>3506.0</td>\n",
       "      <td>17.124361</td>\n",
       "      <td>15.576644</td>\n",
       "      <td>0.16</td>\n",
       "      <td>4.6600</td>\n",
       "      <td>12.790</td>\n",
       "      <td>25.8550</td>\n",
       "      <td>158.52</td>\n",
       "    </tr>\n",
       "    <tr>\n",
       "      <th>gasolina_1l</th>\n",
       "      <td>4296.0</td>\n",
       "      <td>1.344767</td>\n",
       "      <td>0.485552</td>\n",
       "      <td>0.03</td>\n",
       "      <td>1.0800</td>\n",
       "      <td>1.260</td>\n",
       "      <td>1.6900</td>\n",
       "      <td>3.70</td>\n",
       "    </tr>\n",
       "    <tr>\n",
       "      <th>volkswagen_coche_nuevo</th>\n",
       "      <td>3839.0</td>\n",
       "      <td>23575.324819</td>\n",
       "      <td>8989.808446</td>\n",
       "      <td>0.00</td>\n",
       "      <td>18488.2050</td>\n",
       "      <td>22631.130</td>\n",
       "      <td>26486.7600</td>\n",
       "      <td>118750.74</td>\n",
       "    </tr>\n",
       "    <tr>\n",
       "      <th>toyota_coche_nuevo</th>\n",
       "      <td>3904.0</td>\n",
       "      <td>23674.483617</td>\n",
       "      <td>8704.083758</td>\n",
       "      <td>3166.97</td>\n",
       "      <td>19288.8275</td>\n",
       "      <td>22426.730</td>\n",
       "      <td>26659.8800</td>\n",
       "      <td>164539.61</td>\n",
       "    </tr>\n",
       "    <tr>\n",
       "      <th>gastos_basicos_apartamento</th>\n",
       "      <td>4400.0</td>\n",
       "      <td>133.652845</td>\n",
       "      <td>83.129661</td>\n",
       "      <td>6.08</td>\n",
       "      <td>67.5200</td>\n",
       "      <td>126.250</td>\n",
       "      <td>181.3250</td>\n",
       "      <td>1063.63</td>\n",
       "    </tr>\n",
       "    <tr>\n",
       "      <th>precio_movil_1min</th>\n",
       "      <td>3702.0</td>\n",
       "      <td>0.133371</td>\n",
       "      <td>0.120924</td>\n",
       "      <td>0.00</td>\n",
       "      <td>0.0500</td>\n",
       "      <td>0.100</td>\n",
       "      <td>0.1900</td>\n",
       "      <td>1.08</td>\n",
       "    </tr>\n",
       "    <tr>\n",
       "      <th>internet_mensual</th>\n",
       "      <td>4534.0</td>\n",
       "      <td>147.808304</td>\n",
       "      <td>7222.936739</td>\n",
       "      <td>1.35</td>\n",
       "      <td>18.6300</td>\n",
       "      <td>34.050</td>\n",
       "      <td>57.9825</td>\n",
       "      <td>486391.79</td>\n",
       "    </tr>\n",
       "    <tr>\n",
       "      <th>cuota_gym</th>\n",
       "      <td>3523.0</td>\n",
       "      <td>36.673032</td>\n",
       "      <td>22.996847</td>\n",
       "      <td>0.00</td>\n",
       "      <td>22.5000</td>\n",
       "      <td>32.880</td>\n",
       "      <td>44.6900</td>\n",
       "      <td>545.32</td>\n",
       "    </tr>\n",
       "    <tr>\n",
       "      <th>alq_pista_tenis</th>\n",
       "      <td>2508.0</td>\n",
       "      <td>15.681116</td>\n",
       "      <td>11.112880</td>\n",
       "      <td>0.00</td>\n",
       "      <td>7.9350</td>\n",
       "      <td>13.450</td>\n",
       "      <td>20.7700</td>\n",
       "      <td>102.93</td>\n",
       "    </tr>\n",
       "    <tr>\n",
       "      <th>entrada_cine</th>\n",
       "      <td>4405.0</td>\n",
       "      <td>8.337280</td>\n",
       "      <td>4.108129</td>\n",
       "      <td>0.68</td>\n",
       "      <td>4.8900</td>\n",
       "      <td>8.310</td>\n",
       "      <td>11.7500</td>\n",
       "      <td>39.92</td>\n",
       "    </tr>\n",
       "    <tr>\n",
       "      <th>guarderia_mensual</th>\n",
       "      <td>3761.0</td>\n",
       "      <td>488.987812</td>\n",
       "      <td>514.976064</td>\n",
       "      <td>4.07</td>\n",
       "      <td>135.3800</td>\n",
       "      <td>301.220</td>\n",
       "      <td>683.3300</td>\n",
       "      <td>4250.00</td>\n",
       "    </tr>\n",
       "    <tr>\n",
       "      <th>colegio_anual</th>\n",
       "      <td>3230.0</td>\n",
       "      <td>8684.306341</td>\n",
       "      <td>7879.403518</td>\n",
       "      <td>0.00</td>\n",
       "      <td>3243.0475</td>\n",
       "      <td>6280.000</td>\n",
       "      <td>11931.5400</td>\n",
       "      <td>75000.00</td>\n",
       "    </tr>\n",
       "    <tr>\n",
       "      <th>vaqueros_levis</th>\n",
       "      <td>4413.0</td>\n",
       "      <td>52.112579</td>\n",
       "      <td>25.016556</td>\n",
       "      <td>4.07</td>\n",
       "      <td>35.0000</td>\n",
       "      <td>48.000</td>\n",
       "      <td>68.1300</td>\n",
       "      <td>196.51</td>\n",
       "    </tr>\n",
       "    <tr>\n",
       "      <th>vestido_verano</th>\n",
       "      <td>4273.0</td>\n",
       "      <td>34.733440</td>\n",
       "      <td>14.984759</td>\n",
       "      <td>0.00</td>\n",
       "      <td>25.9700</td>\n",
       "      <td>32.850</td>\n",
       "      <td>41.2500</td>\n",
       "      <td>217.06</td>\n",
       "    </tr>\n",
       "    <tr>\n",
       "      <th>deportivas_nike</th>\n",
       "      <td>4388.0</td>\n",
       "      <td>76.389164</td>\n",
       "      <td>33.281138</td>\n",
       "      <td>7.92</td>\n",
       "      <td>61.5500</td>\n",
       "      <td>74.525</td>\n",
       "      <td>88.2225</td>\n",
       "      <td>923.12</td>\n",
       "    </tr>\n",
       "    <tr>\n",
       "      <th>zapatos_cuero_homb</th>\n",
       "      <td>4337.0</td>\n",
       "      <td>85.420108</td>\n",
       "      <td>40.328050</td>\n",
       "      <td>7.57</td>\n",
       "      <td>57.6200</td>\n",
       "      <td>83.100</td>\n",
       "      <td>106.6700</td>\n",
       "      <td>542.74</td>\n",
       "    </tr>\n",
       "    <tr>\n",
       "      <th>apart_1hab_centro</th>\n",
       "      <td>3533.0</td>\n",
       "      <td>710.696156</td>\n",
       "      <td>650.404203</td>\n",
       "      <td>21.69</td>\n",
       "      <td>254.4400</td>\n",
       "      <td>519.350</td>\n",
       "      <td>986.7600</td>\n",
       "      <td>12608.83</td>\n",
       "    </tr>\n",
       "    <tr>\n",
       "      <th>apart_1hab_periferia</th>\n",
       "      <td>3465.0</td>\n",
       "      <td>559.472898</td>\n",
       "      <td>529.592777</td>\n",
       "      <td>12.20</td>\n",
       "      <td>168.9700</td>\n",
       "      <td>400.000</td>\n",
       "      <td>791.6700</td>\n",
       "      <td>8989.37</td>\n",
       "    </tr>\n",
       "    <tr>\n",
       "      <th>apart_3hab_centro</th>\n",
       "      <td>3418.0</td>\n",
       "      <td>1252.427627</td>\n",
       "      <td>1222.803640</td>\n",
       "      <td>61.20</td>\n",
       "      <td>465.7200</td>\n",
       "      <td>934.000</td>\n",
       "      <td>1700.0000</td>\n",
       "      <td>27006.11</td>\n",
       "    </tr>\n",
       "    <tr>\n",
       "      <th>apart_3hab_periferia</th>\n",
       "      <td>3385.0</td>\n",
       "      <td>973.603867</td>\n",
       "      <td>926.552107</td>\n",
       "      <td>27.11</td>\n",
       "      <td>325.9200</td>\n",
       "      <td>720.710</td>\n",
       "      <td>1367.3300</td>\n",
       "      <td>17868.18</td>\n",
       "    </tr>\n",
       "    <tr>\n",
       "      <th>m2_centro</th>\n",
       "      <td>2681.0</td>\n",
       "      <td>3207.173025</td>\n",
       "      <td>6222.564176</td>\n",
       "      <td>109.53</td>\n",
       "      <td>1118.0300</td>\n",
       "      <td>2077.390</td>\n",
       "      <td>3782.8200</td>\n",
       "      <td>237522.54</td>\n",
       "    </tr>\n",
       "    <tr>\n",
       "      <th>m2_periferias</th>\n",
       "      <td>2609.0</td>\n",
       "      <td>2323.089766</td>\n",
       "      <td>3536.720519</td>\n",
       "      <td>48.01</td>\n",
       "      <td>778.8900</td>\n",
       "      <td>1558.040</td>\n",
       "      <td>2796.5000</td>\n",
       "      <td>79174.18</td>\n",
       "    </tr>\n",
       "    <tr>\n",
       "      <th>media_pond_salario_neto</th>\n",
       "      <td>3459.0</td>\n",
       "      <td>1817.033501</td>\n",
       "      <td>1626.482870</td>\n",
       "      <td>18.00</td>\n",
       "      <td>478.2550</td>\n",
       "      <td>1298.370</td>\n",
       "      <td>2742.5000</td>\n",
       "      <td>12681.26</td>\n",
       "    </tr>\n",
       "    <tr>\n",
       "      <th>interes_hipoteca</th>\n",
       "      <td>3894.0</td>\n",
       "      <td>6.527214</td>\n",
       "      <td>5.423472</td>\n",
       "      <td>0.60</td>\n",
       "      <td>3.0000</td>\n",
       "      <td>5.210</td>\n",
       "      <td>8.4975</td>\n",
       "      <td>61.33</td>\n",
       "    </tr>\n",
       "    <tr>\n",
       "      <th>data_quality</th>\n",
       "      <td>4874.0</td>\n",
       "      <td>0.186705</td>\n",
       "      <td>0.389714</td>\n",
       "      <td>0.00</td>\n",
       "      <td>0.0000</td>\n",
       "      <td>0.000</td>\n",
       "      <td>0.0000</td>\n",
       "      <td>1.00</td>\n",
       "    </tr>\n",
       "  </tbody>\n",
       "</table>\n",
       "</div>"
      ],
      "text/plain": [
       "                             count          mean          std      min  \\\n",
       "indice                      4874.0   2436.500000  1407.146936     0.00   \n",
       "comida_x1_rest              4449.0     10.321643     7.165507     0.45   \n",
       "comida_x2_rest              4432.0     43.213592    25.365827     3.25   \n",
       "menu_mcdonals               4552.0      6.875426     2.669017     1.06   \n",
       "cerveza_nac_rest_0.5cl      4385.0      3.376732     2.080606     0.32   \n",
       "cerveza_imp_rest_0.33cl     4445.0      3.937287     2.088773     0.31   \n",
       "capuccino_rest              4540.0      2.742822     1.353734     0.22   \n",
       "coke_rest_0.33cl            4438.0      1.513053     0.905525     0.11   \n",
       "agua_rest_0.33cl            4571.0      1.110768     0.749957     0.07   \n",
       "leche_1l                    4494.0      1.139455     0.513458     0.26   \n",
       "barra_pan                   4457.0      1.605277     1.079458     0.05   \n",
       "arroz_1kg                   4538.0      2.182243     1.637878     0.24   \n",
       "huevos_12ud                 4369.0      2.330382     1.066676     0.10   \n",
       "queso_1kg                   4393.0      9.448532     4.895459     0.90   \n",
       "pollo_1kg                   4318.0      7.138745     4.461518     1.17   \n",
       "ternera_1kg                 4312.0     11.656018     7.203071     1.43   \n",
       "manzanas_1kg                4509.0      2.747809     1.870736     0.27   \n",
       "platanos_1kg                4499.0      1.543952     0.826588     0.22   \n",
       "orange_1kg                  4439.0      2.351935     1.694907     0.20   \n",
       "tomates_1kg                 4410.0      2.547399     1.810451     0.12   \n",
       "patatas_1kg                 4444.0      1.568906     1.233074     0.11   \n",
       "cebollas_1kg                4447.0      1.516267     1.113866     0.11   \n",
       "lechuga                     4379.0      1.219847     0.729826     0.08   \n",
       "agua_super_1.5l             4490.0      0.986062     0.679048     0.11   \n",
       "botella_vino_super          4414.0      8.645111     4.620889     0.36   \n",
       "cerveza_nac_super_0.5cl     4149.0      1.657585     0.912849     0.25   \n",
       "cerveza_imp_super_0.33cl    4223.0      2.308425     1.192877     0.35   \n",
       "tabaco_paq_20ud             4389.0      6.253698     4.431934     0.45   \n",
       "billete_transporte_pub      3401.0      1.510700     1.316234     0.00   \n",
       "abono_transporte_pub        2750.0     43.832596    36.519276     0.00   \n",
       "taxi_start                  4013.0      2.758074     2.209629     0.14   \n",
       "taxi_1km                    3869.0      1.217227     0.835750     0.10   \n",
       "taxi_1h                     3506.0     17.124361    15.576644     0.16   \n",
       "gasolina_1l                 4296.0      1.344767     0.485552     0.03   \n",
       "volkswagen_coche_nuevo      3839.0  23575.324819  8989.808446     0.00   \n",
       "toyota_coche_nuevo          3904.0  23674.483617  8704.083758  3166.97   \n",
       "gastos_basicos_apartamento  4400.0    133.652845    83.129661     6.08   \n",
       "precio_movil_1min           3702.0      0.133371     0.120924     0.00   \n",
       "internet_mensual            4534.0    147.808304  7222.936739     1.35   \n",
       "cuota_gym                   3523.0     36.673032    22.996847     0.00   \n",
       "alq_pista_tenis             2508.0     15.681116    11.112880     0.00   \n",
       "entrada_cine                4405.0      8.337280     4.108129     0.68   \n",
       "guarderia_mensual           3761.0    488.987812   514.976064     4.07   \n",
       "colegio_anual               3230.0   8684.306341  7879.403518     0.00   \n",
       "vaqueros_levis              4413.0     52.112579    25.016556     4.07   \n",
       "vestido_verano              4273.0     34.733440    14.984759     0.00   \n",
       "deportivas_nike             4388.0     76.389164    33.281138     7.92   \n",
       "zapatos_cuero_homb          4337.0     85.420108    40.328050     7.57   \n",
       "apart_1hab_centro           3533.0    710.696156   650.404203    21.69   \n",
       "apart_1hab_periferia        3465.0    559.472898   529.592777    12.20   \n",
       "apart_3hab_centro           3418.0   1252.427627  1222.803640    61.20   \n",
       "apart_3hab_periferia        3385.0    973.603867   926.552107    27.11   \n",
       "m2_centro                   2681.0   3207.173025  6222.564176   109.53   \n",
       "m2_periferias               2609.0   2323.089766  3536.720519    48.01   \n",
       "media_pond_salario_neto     3459.0   1817.033501  1626.482870    18.00   \n",
       "interes_hipoteca            3894.0      6.527214     5.423472     0.60   \n",
       "data_quality                4874.0      0.186705     0.389714     0.00   \n",
       "\n",
       "                                   25%        50%         75%        max  \n",
       "indice                       1218.2500   2436.500   3654.7500    4873.00  \n",
       "comida_x1_rest                  4.3100      9.830     15.0000      56.98  \n",
       "comida_x2_rest                 22.3500     40.000     60.0000     211.35  \n",
       "menu_mcdonals                   4.9100      6.960      8.5000      21.81  \n",
       "cerveza_nac_rest_0.5cl          1.5900      3.000      5.0000      15.00  \n",
       "cerveza_imp_rest_0.33cl         2.2200      3.640      5.1900      17.50  \n",
       "capuccino_rest                  1.5600      2.630      3.7225      10.00  \n",
       "coke_rest_0.33cl                0.7500      1.450      2.0800       8.00  \n",
       "agua_rest_0.33cl                0.4700      1.040      1.5700       5.77  \n",
       "leche_1l                        0.8200      1.040      1.3000       6.81  \n",
       "barra_pan                       0.7900      1.310      2.2000       8.81  \n",
       "arroz_1kg                       1.0400      1.680      2.7500      15.43  \n",
       "huevos_12ud                     1.5600      2.130      2.9600       9.65  \n",
       "queso_1kg                       6.1500      8.770     11.7900      48.47  \n",
       "pollo_1kg                       4.0000      6.065      9.1700      44.09  \n",
       "ternera_1kg                     7.2050     10.240     14.2800      95.11  \n",
       "manzanas_1kg                    1.4600      2.280      3.6100      22.74  \n",
       "platanos_1kg                    1.0900      1.410      1.8100      20.12  \n",
       "orange_1kg                      1.2000      1.870      3.0500      15.08  \n",
       "tomates_1kg                     1.1800      2.120      3.5600      17.64  \n",
       "patatas_1kg                     0.7300      1.200      2.0800      15.87  \n",
       "cebollas_1kg                    0.7400      1.190      2.0800      12.22  \n",
       "lechuga                         0.7100      1.040      1.6400       9.25  \n",
       "agua_super_1.5l                 0.4900      0.750      1.3900       5.00  \n",
       "botella_vino_super              5.1900      7.810     11.4300      51.94  \n",
       "cerveza_nac_super_0.5cl         0.9900      1.430      2.1400       7.67  \n",
       "cerveza_imp_super_0.33cl        1.4900      2.100      2.8900      15.67  \n",
       "tabaco_paq_20ud                 3.0400      5.190      8.3100      56.98  \n",
       "billete_transporte_pub          0.4800      1.170      2.1800      13.00  \n",
       "abono_transporte_pub           17.9150     35.320     60.0600     364.58  \n",
       "taxi_start                      1.0800      2.500      3.6400      50.00  \n",
       "taxi_1km                        0.5200      1.120      1.7100       5.99  \n",
       "taxi_1h                         4.6600     12.790     25.8550     158.52  \n",
       "gasolina_1l                     1.0800      1.260      1.6900       3.70  \n",
       "volkswagen_coche_nuevo      18488.2050  22631.130  26486.7600  118750.74  \n",
       "toyota_coche_nuevo          19288.8275  22426.730  26659.8800  164539.61  \n",
       "gastos_basicos_apartamento     67.5200    126.250    181.3250    1063.63  \n",
       "precio_movil_1min               0.0500      0.100      0.1900       1.08  \n",
       "internet_mensual               18.6300     34.050     57.9825  486391.79  \n",
       "cuota_gym                      22.5000     32.880     44.6900     545.32  \n",
       "alq_pista_tenis                 7.9350     13.450     20.7700     102.93  \n",
       "entrada_cine                    4.8900      8.310     11.7500      39.92  \n",
       "guarderia_mensual             135.3800    301.220    683.3300    4250.00  \n",
       "colegio_anual                3243.0475   6280.000  11931.5400   75000.00  \n",
       "vaqueros_levis                 35.0000     48.000     68.1300     196.51  \n",
       "vestido_verano                 25.9700     32.850     41.2500     217.06  \n",
       "deportivas_nike                61.5500     74.525     88.2225     923.12  \n",
       "zapatos_cuero_homb             57.6200     83.100    106.6700     542.74  \n",
       "apart_1hab_centro             254.4400    519.350    986.7600   12608.83  \n",
       "apart_1hab_periferia          168.9700    400.000    791.6700    8989.37  \n",
       "apart_3hab_centro             465.7200    934.000   1700.0000   27006.11  \n",
       "apart_3hab_periferia          325.9200    720.710   1367.3300   17868.18  \n",
       "m2_centro                    1118.0300   2077.390   3782.8200  237522.54  \n",
       "m2_periferias                 778.8900   1558.040   2796.5000   79174.18  \n",
       "media_pond_salario_neto       478.2550   1298.370   2742.5000   12681.26  \n",
       "interes_hipoteca                3.0000      5.210      8.4975      61.33  \n",
       "data_quality                    0.0000      0.000      0.0000       1.00  "
      ]
     },
     "execution_count": 12,
     "metadata": {},
     "output_type": "execute_result"
    }
   ],
   "source": [
    "# Variables numéricas\n",
    "\n",
    "df.describe().T\n"
   ]
  },
  {
   "cell_type": "code",
   "execution_count": 13,
   "metadata": {},
   "outputs": [
    {
     "data": {
      "text/html": [
       "<div>\n",
       "<style scoped>\n",
       "    .dataframe tbody tr th:only-of-type {\n",
       "        vertical-align: middle;\n",
       "    }\n",
       "\n",
       "    .dataframe tbody tr th {\n",
       "        vertical-align: top;\n",
       "    }\n",
       "\n",
       "    .dataframe thead th {\n",
       "        text-align: right;\n",
       "    }\n",
       "</style>\n",
       "<table border=\"1\" class=\"dataframe\">\n",
       "  <thead>\n",
       "    <tr style=\"text-align: right;\">\n",
       "      <th></th>\n",
       "      <th>ciudad</th>\n",
       "      <th>pais</th>\n",
       "    </tr>\n",
       "  </thead>\n",
       "  <tbody>\n",
       "    <tr>\n",
       "      <th>count</th>\n",
       "      <td>4874</td>\n",
       "      <td>4874</td>\n",
       "    </tr>\n",
       "    <tr>\n",
       "      <th>unique</th>\n",
       "      <td>4816</td>\n",
       "      <td>204</td>\n",
       "    </tr>\n",
       "    <tr>\n",
       "      <th>top</th>\n",
       "      <td>Victoria</td>\n",
       "      <td>United States</td>\n",
       "    </tr>\n",
       "    <tr>\n",
       "      <th>freq</th>\n",
       "      <td>4</td>\n",
       "      <td>1074</td>\n",
       "    </tr>\n",
       "  </tbody>\n",
       "</table>\n",
       "</div>"
      ],
      "text/plain": [
       "          ciudad           pais\n",
       "count       4874           4874\n",
       "unique      4816            204\n",
       "top     Victoria  United States\n",
       "freq           4           1074"
      ]
     },
     "execution_count": 13,
     "metadata": {},
     "output_type": "execute_result"
    }
   ],
   "source": [
    "# Variables categóricas\n",
    "\n",
    "df.describe(include=\"object\")\n"
   ]
  },
  {
   "cell_type": "code",
   "execution_count": 14,
   "metadata": {},
   "outputs": [
    {
     "data": {
      "text/plain": [
       "0"
      ]
     },
     "execution_count": 14,
     "metadata": {},
     "output_type": "execute_result"
    }
   ],
   "source": [
    "# Comprobamos si hay duplicados\n",
    "\n",
    "df.duplicated().sum()\n"
   ]
  },
  {
   "cell_type": "code",
   "execution_count": 15,
   "metadata": {},
   "outputs": [
    {
     "data": {
      "text/plain": [
       "indice                         0.000000\n",
       "ciudad                         0.000000\n",
       "pais                           0.000000\n",
       "comida_x1_rest                 8.719737\n",
       "comida_x2_rest                 9.068527\n",
       "menu_mcdonals                  6.606483\n",
       "cerveza_nac_rest_0.5cl        10.032827\n",
       "cerveza_imp_rest_0.33cl        8.801805\n",
       "capuccino_rest                 6.852688\n",
       "coke_rest_0.33cl               8.945425\n",
       "agua_rest_0.33cl               6.216660\n",
       "leche_1l                       7.796471\n",
       "barra_pan                      8.555601\n",
       "arroz_1kg                      6.893722\n",
       "huevos_12ud                   10.361100\n",
       "queso_1kg                      9.868691\n",
       "pollo_1kg                     11.407468\n",
       "ternera_1kg                   11.530570\n",
       "manzanas_1kg                   7.488716\n",
       "platanos_1kg                   7.693886\n",
       "orange_1kg                     8.924908\n",
       "tomates_1kg                    9.519902\n",
       "patatas_1kg                    8.822323\n",
       "cebollas_1kg                   8.760771\n",
       "lechuga                       10.155929\n",
       "agua_super_1.5l                7.878539\n",
       "botella_vino_super             9.437833\n",
       "cerveza_nac_super_0.5cl       14.874846\n",
       "cerveza_imp_super_0.33cl      13.356586\n",
       "tabaco_paq_20ud                9.950759\n",
       "billete_transporte_pub        30.221584\n",
       "abono_transporte_pub          43.578170\n",
       "taxi_start                    17.665162\n",
       "taxi_1km                      20.619614\n",
       "taxi_1h                       28.067296\n",
       "gasolina_1l                   11.858843\n",
       "volkswagen_coche_nuevo        21.235125\n",
       "toyota_coche_nuevo            19.901518\n",
       "gastos_basicos_apartamento     9.725072\n",
       "precio_movil_1min             24.045958\n",
       "internet_mensual               6.975790\n",
       "cuota_gym                     27.718506\n",
       "alq_pista_tenis               48.543291\n",
       "entrada_cine                   9.622487\n",
       "guarderia_mensual             22.835453\n",
       "colegio_anual                 33.729996\n",
       "vaqueros_levis                 9.458350\n",
       "vestido_verano                12.330735\n",
       "deportivas_nike                9.971276\n",
       "zapatos_cuero_homb            11.017645\n",
       "apart_1hab_centro             27.513336\n",
       "apart_1hab_periferia          28.908494\n",
       "apart_3hab_centro             29.872794\n",
       "apart_3hab_periferia          30.549856\n",
       "m2_centro                     44.993845\n",
       "m2_periferias                 46.471071\n",
       "media_pond_salario_neto       29.031596\n",
       "interes_hipoteca              20.106689\n",
       "data_quality                   0.000000\n",
       "dtype: float64"
      ]
     },
     "execution_count": 15,
     "metadata": {},
     "output_type": "execute_result"
    }
   ],
   "source": [
    "# Porcentaje de nulos de cada columna\n",
    "\n",
    "df.isnull().sum()/len(df)*100\n"
   ]
  },
  {
   "cell_type": "code",
   "execution_count": 16,
   "metadata": {},
   "outputs": [
    {
     "data": {
      "text/plain": [
       "array(['India', 'China', 'Indonesia', 'Philippines', 'South Korea',\n",
       "       'Thailand', 'Japan', 'Nigeria', 'Pakistan', 'Bangladesh', 'Brazil',\n",
       "       'Russia', 'Mexico', 'Egypt', 'United States', 'Turkey',\n",
       "       'Argentina', 'Iran', 'France', 'United Kingdom', 'Vietnam', 'Peru',\n",
       "       'Angola', 'Malaysia', 'Colombia', 'Tanzania', 'Chile', 'Hong Kong',\n",
       "       'Saudi Arabia', 'Iraq', 'Spain', 'Sudan', 'Kenya', 'Canada',\n",
       "       'Singapore', 'Myanmar', 'Australia', 'South Africa', 'Morocco',\n",
       "       'Afghanistan', 'Jordan', 'Germany', 'Algeria', 'Ethiopia',\n",
       "       'Kuwait', 'Yemen', 'Ukraine', 'Guatemala', 'Italy', 'Taiwan',\n",
       "       'Bolivia', 'Ecuador', 'North Korea', 'Madagascar',\n",
       "       'United Arab Emirates', 'Dominican Republic', 'Uzbekistan',\n",
       "       'Cameroon', 'Burkina Faso', 'Ghana', 'Azerbaijan', 'Zimbabwe',\n",
       "       'Cuba', 'Cambodia', 'Somalia', 'Belarus', 'Mali', 'Venezuela',\n",
       "       'Kazakhstan', 'Austria', 'Malawi', 'Syria', 'Romania', 'Poland',\n",
       "       'Zambia', 'Belgium', 'Hungary', 'Uganda', 'Guinea', 'Oman',\n",
       "       'Mongolia', 'New Zealand', 'Serbia', 'Uruguay', 'Bulgaria',\n",
       "       'Honduras', 'Mozambique', 'Qatar', 'Senegal', 'Rwanda', 'Libya',\n",
       "       'Georgia', 'Denmark', 'Chad', 'Armenia', 'Mauritania',\n",
       "       'Kyrgyzstan', 'Tunisia', 'Nepal', 'Nicaragua', 'Niger', 'Liberia',\n",
       "       'Haiti', 'Israel', 'Laos', 'Sweden', 'Croatia', 'Tajikistan',\n",
       "       'Sierra Leone', 'Eritrea', 'Netherlands', 'Sri Lanka', 'Panama',\n",
       "       'Gabon', 'Norway', 'Togo', 'Finland', 'Moldova', 'Benin', 'Latvia',\n",
       "       'Lithuania', 'Burundi', 'Greece', 'Slovakia', 'Ireland',\n",
       "       'Portugal', 'Lebanon', 'Paraguay', 'Estonia', 'Djibouti',\n",
       "       'Jamaica', 'Albania', 'South Sudan', 'Guinea-Bissau', 'Cyprus',\n",
       "       'Namibia', 'Slovenia', 'Lesotho', 'Papua New Guinea',\n",
       "       'Bosnia And Herzegovina', 'Botswana', 'Suriname', 'Timor-Leste',\n",
       "       'Guyana', 'Maldives', 'Gibraltar', 'Montenegro', 'Martinique',\n",
       "       'Switzerland', 'Bahrain', 'Reunion', 'French Polynesia', 'Iceland',\n",
       "       'Luxembourg', 'Equatorial Guinea', 'Barbados', 'Fiji',\n",
       "       'New Caledonia', 'Comoros', 'Bhutan', 'Solomon Islands', 'Monaco',\n",
       "       'Swaziland', 'French Guiana', 'Saint Lucia',\n",
       "       'Sao Tome And Principe', 'Vanuatu', 'Brunei', 'Bermuda',\n",
       "       'Trinidad And Tobago', 'Samoa', 'Isle Of Man', 'Aruba',\n",
       "       'Greenland', 'Turkmenistan', 'Jersey', 'Belize',\n",
       "       'Saint Kitts And Nevis', 'Marshall Islands', 'Seychelles',\n",
       "       'Faroe Islands', 'Tonga', 'Saint Vincent And The Grenadines',\n",
       "       'Antigua And Barbuda', 'Andorra', 'Malta', 'Dominica',\n",
       "       'American Samoa', 'Turks And Caicos Islands', 'Liechtenstein',\n",
       "       'Montserrat', 'San Marino', 'Tuvalu', 'Cook Islands',\n",
       "       'Vatican City', 'Nauru', 'Sint Maarten', 'British Virgin Islands',\n",
       "       'Anguilla', 'Mauritius', 'Puerto Rico', 'Guadeloupe',\n",
       "       'El Salvador', 'Costa Rica'], dtype=object)"
      ]
     },
     "execution_count": 16,
     "metadata": {},
     "output_type": "execute_result"
    }
   ],
   "source": [
    "df['pais'].unique()"
   ]
  },
  {
   "attachments": {},
   "cell_type": "markdown",
   "metadata": {},
   "source": [
    "---"
   ]
  },
  {
   "attachments": {},
   "cell_type": "markdown",
   "metadata": {},
   "source": [
    "**EJERCICIO 2**\n",
    "\n",
    "Extraer los siguentes estadísiticos del conjunto de datos para varias de las variables disponibles:"
   ]
  },
  {
   "attachments": {},
   "cell_type": "markdown",
   "metadata": {},
   "source": [
    "- Media"
   ]
  },
  {
   "cell_type": "code",
   "execution_count": 17,
   "metadata": {},
   "outputs": [
    {
     "data": {
      "text/plain": [
       "1.1107678844891709"
      ]
     },
     "execution_count": 17,
     "metadata": {},
     "output_type": "execute_result"
    }
   ],
   "source": [
    "# Media Agua (botella 0.33 en restaurantes)\n",
    "media_agua1 = df['agua_rest_0.33cl'].mean()\n",
    "media_agua1"
   ]
  },
  {
   "cell_type": "code",
   "execution_count": 18,
   "metadata": {},
   "outputs": [
    {
     "data": {
      "text/plain": [
       "0.9860623608017818"
      ]
     },
     "execution_count": 18,
     "metadata": {},
     "output_type": "execute_result"
    }
   ],
   "source": [
    "# Media Agua (botella 1.5 en supermercados)\n",
    "media_agua2 = df['agua_super_1.5l'].mean()\n",
    "media_agua2"
   ]
  },
  {
   "cell_type": "code",
   "execution_count": 19,
   "metadata": {},
   "outputs": [
    {
     "data": {
      "text/plain": [
       "1.3447672253258844"
      ]
     },
     "execution_count": 19,
     "metadata": {},
     "output_type": "execute_result"
    }
   ],
   "source": [
    "# Media Gasolina (litro)\n",
    "media_gasolina = df['gasolina_1l'].mean()\n",
    "media_gasolina"
   ]
  },
  {
   "cell_type": "code",
   "execution_count": 20,
   "metadata": {},
   "outputs": [
    {
     "data": {
      "text/plain": [
       "147.80830392589328"
      ]
     },
     "execution_count": 20,
     "metadata": {},
     "output_type": "execute_result"
    }
   ],
   "source": [
    "# Media Internet\n",
    "media_internet = df['internet_mensual'].mean()\n",
    "media_internet"
   ]
  },
  {
   "cell_type": "code",
   "execution_count": 21,
   "metadata": {},
   "outputs": [
    {
     "data": {
      "text/plain": [
       "710.6961562411549"
      ]
     },
     "execution_count": 21,
     "metadata": {},
     "output_type": "execute_result"
    }
   ],
   "source": [
    "# Media Apartamento (1 habitación en el centro)\n",
    "media_apart1 = df['apart_1hab_centro'].mean()\n",
    "media_apart1"
   ]
  },
  {
   "cell_type": "code",
   "execution_count": 22,
   "metadata": {},
   "outputs": [
    {
     "data": {
      "text/plain": [
       "559.4728975468975"
      ]
     },
     "execution_count": 22,
     "metadata": {},
     "output_type": "execute_result"
    }
   ],
   "source": [
    "# Media Apartamento (1 habitación fuera del centro)\n",
    "media_apart2 = df['apart_1hab_periferia'].mean()\n",
    "media_apart2"
   ]
  },
  {
   "cell_type": "code",
   "execution_count": 23,
   "metadata": {},
   "outputs": [
    {
     "data": {
      "text/plain": [
       "1252.4276272674078"
      ]
     },
     "execution_count": 23,
     "metadata": {},
     "output_type": "execute_result"
    }
   ],
   "source": [
    "# Media Apartamento (3 habitaciónes en el centro)\n",
    "media_apart3 = df['apart_3hab_centro'].mean()\n",
    "media_apart3"
   ]
  },
  {
   "cell_type": "code",
   "execution_count": 24,
   "metadata": {},
   "outputs": [
    {
     "data": {
      "text/plain": [
       "973.6038670605612"
      ]
     },
     "execution_count": 24,
     "metadata": {},
     "output_type": "execute_result"
    }
   ],
   "source": [
    "# Media Apartamento (3 habitaciónes fuera del centro)\n",
    "media_apart4 = df['apart_3hab_periferia'].mean()\n",
    "media_apart4"
   ]
  },
  {
   "cell_type": "code",
   "execution_count": 25,
   "metadata": {},
   "outputs": [
    {
     "data": {
      "text/plain": [
       "1817.033501011853"
      ]
     },
     "execution_count": 25,
     "metadata": {},
     "output_type": "execute_result"
    }
   ],
   "source": [
    "# Media Sueldo neto mensual (datos originales de la media ponderada- average)\n",
    "media_salario = df['media_pond_salario_neto'].mean()\n",
    "media_salario"
   ]
  },
  {
   "attachments": {},
   "cell_type": "markdown",
   "metadata": {},
   "source": [
    "### Cálculo de estádisticos del agua "
   ]
  },
  {
   "attachments": {},
   "cell_type": "markdown",
   "metadata": {},
   "source": [
    "- Desviación con respecto de la media"
   ]
  },
  {
   "cell_type": "code",
   "execution_count": 26,
   "metadata": {},
   "outputs": [
    {
     "data": {
      "text/plain": [
       "0       0.626062\n",
       "1       0.366062\n",
       "2       0.566062\n",
       "3       0.336062\n",
       "4       0.073938\n",
       "          ...   \n",
       "4869         NaN\n",
       "4870         NaN\n",
       "4871    0.206062\n",
       "4872    3.043938\n",
       "4873         NaN\n",
       "Name: agua_super_1.5l, Length: 4874, dtype: float64"
      ]
     },
     "execution_count": 26,
     "metadata": {},
     "output_type": "execute_result"
    }
   ],
   "source": [
    "media_agua2\n",
    "diferencias = df['agua_super_1.5l'] - media_agua2\n",
    "desv_med_agua2 = np.abs(diferencias)\n",
    "desv_med_agua2"
   ]
  },
  {
   "attachments": {},
   "cell_type": "markdown",
   "metadata": {},
   "source": [
    "- Varianza"
   ]
  },
  {
   "cell_type": "code",
   "execution_count": 27,
   "metadata": {},
   "outputs": [
    {
     "data": {
      "text/plain": [
       "0.46110572121607496"
      ]
     },
     "execution_count": 27,
     "metadata": {},
     "output_type": "execute_result"
    }
   ],
   "source": [
    "var_agua2 = df['agua_super_1.5l'] .var()\n",
    "var_agua2"
   ]
  },
  {
   "attachments": {},
   "cell_type": "markdown",
   "metadata": {},
   "source": [
    "- Desviación típica"
   ]
  },
  {
   "cell_type": "code",
   "execution_count": 28,
   "metadata": {},
   "outputs": [
    {
     "data": {
      "text/plain": [
       "0.6790476575440599"
      ]
     },
     "execution_count": 28,
     "metadata": {},
     "output_type": "execute_result"
    }
   ],
   "source": [
    "desv_tipica_agua2 = df['agua_super_1.5l'].std()\n",
    "desv_tipica_agua2"
   ]
  },
  {
   "attachments": {},
   "cell_type": "markdown",
   "metadata": {},
   "source": [
    "- Moda"
   ]
  },
  {
   "cell_type": "code",
   "execution_count": 29,
   "metadata": {},
   "outputs": [
    {
     "data": {
      "text/plain": [
       "0    2.0\n",
       "Name: agua_super_1.5l, dtype: float64"
      ]
     },
     "execution_count": 29,
     "metadata": {},
     "output_type": "execute_result"
    }
   ],
   "source": [
    "moda_agua2 = df['agua_super_1.5l'].mode()\n",
    "moda_agua2"
   ]
  },
  {
   "attachments": {},
   "cell_type": "markdown",
   "metadata": {},
   "source": [
    "- Mediana"
   ]
  },
  {
   "cell_type": "code",
   "execution_count": 30,
   "metadata": {},
   "outputs": [
    {
     "data": {
      "text/plain": [
       "0.75"
      ]
     },
     "execution_count": 30,
     "metadata": {},
     "output_type": "execute_result"
    }
   ],
   "source": [
    "mediana_agua2 = df['agua_super_1.5l'].median()\n",
    "mediana_agua2"
   ]
  },
  {
   "attachments": {},
   "cell_type": "markdown",
   "metadata": {},
   "source": [
    "- Media ponderada"
   ]
  },
  {
   "cell_type": "code",
   "execution_count": 31,
   "metadata": {},
   "outputs": [
    {
     "name": "stdout",
     "output_type": "stream",
     "text": [
      "nan\n"
     ]
    }
   ],
   "source": [
    "w = np.random.randint(0,100, df.shape[0])\n",
    "media_pond_agua2 = np.average(df[\"agua_super_1.5l\"], weights=w)\n",
    "print(media_pond_agua2)\n",
    "# no es capaz de calcular el average por tener nulos\n"
   ]
  },
  {
   "cell_type": "code",
   "execution_count": 32,
   "metadata": {},
   "outputs": [
    {
     "data": {
      "text/html": [
       "<div>\n",
       "<style scoped>\n",
       "    .dataframe tbody tr th:only-of-type {\n",
       "        vertical-align: middle;\n",
       "    }\n",
       "\n",
       "    .dataframe tbody tr th {\n",
       "        vertical-align: top;\n",
       "    }\n",
       "\n",
       "    .dataframe thead th {\n",
       "        text-align: right;\n",
       "    }\n",
       "</style>\n",
       "<table border=\"1\" class=\"dataframe\">\n",
       "  <thead>\n",
       "    <tr style=\"text-align: right;\">\n",
       "      <th></th>\n",
       "      <th>index</th>\n",
       "      <th>agua_super_1.5l</th>\n",
       "    </tr>\n",
       "  </thead>\n",
       "  <tbody>\n",
       "    <tr>\n",
       "      <th>0</th>\n",
       "      <td>0</td>\n",
       "      <td>0.36</td>\n",
       "    </tr>\n",
       "    <tr>\n",
       "      <th>1</th>\n",
       "      <td>1</td>\n",
       "      <td>0.62</td>\n",
       "    </tr>\n",
       "    <tr>\n",
       "      <th>2</th>\n",
       "      <td>2</td>\n",
       "      <td>0.42</td>\n",
       "    </tr>\n",
       "    <tr>\n",
       "      <th>3</th>\n",
       "      <td>3</td>\n",
       "      <td>0.65</td>\n",
       "    </tr>\n",
       "    <tr>\n",
       "      <th>4</th>\n",
       "      <td>4</td>\n",
       "      <td>1.06</td>\n",
       "    </tr>\n",
       "  </tbody>\n",
       "</table>\n",
       "</div>"
      ],
      "text/plain": [
       "   index  agua_super_1.5l\n",
       "0      0             0.36\n",
       "1      1             0.62\n",
       "2      2             0.42\n",
       "3      3             0.65\n",
       "4      4             1.06"
      ]
     },
     "execution_count": 32,
     "metadata": {},
     "output_type": "execute_result"
    }
   ],
   "source": [
    "# Hacemos una copia del df original con la columna de la cual queremos la media ponderada para eliminar \n",
    "# los valor nulos y poder hacer el calculo\n",
    "\n",
    "df_ag = df['agua_super_1.5l'].copy()\n",
    "df_agua = df_ag.reset_index()\n",
    "df_agua.head()"
   ]
  },
  {
   "cell_type": "code",
   "execution_count": 33,
   "metadata": {},
   "outputs": [
    {
     "data": {
      "text/html": [
       "<div>\n",
       "<style scoped>\n",
       "    .dataframe tbody tr th:only-of-type {\n",
       "        vertical-align: middle;\n",
       "    }\n",
       "\n",
       "    .dataframe tbody tr th {\n",
       "        vertical-align: top;\n",
       "    }\n",
       "\n",
       "    .dataframe thead th {\n",
       "        text-align: right;\n",
       "    }\n",
       "</style>\n",
       "<table border=\"1\" class=\"dataframe\">\n",
       "  <thead>\n",
       "    <tr style=\"text-align: right;\">\n",
       "      <th></th>\n",
       "      <th>index</th>\n",
       "      <th>agua_super_1.5l</th>\n",
       "    </tr>\n",
       "  </thead>\n",
       "  <tbody>\n",
       "    <tr>\n",
       "      <th>0</th>\n",
       "      <td>0</td>\n",
       "      <td>0.36</td>\n",
       "    </tr>\n",
       "    <tr>\n",
       "      <th>1</th>\n",
       "      <td>1</td>\n",
       "      <td>0.62</td>\n",
       "    </tr>\n",
       "    <tr>\n",
       "      <th>2</th>\n",
       "      <td>2</td>\n",
       "      <td>0.42</td>\n",
       "    </tr>\n",
       "    <tr>\n",
       "      <th>3</th>\n",
       "      <td>3</td>\n",
       "      <td>0.65</td>\n",
       "    </tr>\n",
       "    <tr>\n",
       "      <th>4</th>\n",
       "      <td>4</td>\n",
       "      <td>1.06</td>\n",
       "    </tr>\n",
       "    <tr>\n",
       "      <th>...</th>\n",
       "      <td>...</td>\n",
       "      <td>...</td>\n",
       "    </tr>\n",
       "    <tr>\n",
       "      <th>4864</th>\n",
       "      <td>4864</td>\n",
       "      <td>4.69</td>\n",
       "    </tr>\n",
       "    <tr>\n",
       "      <th>4865</th>\n",
       "      <td>4865</td>\n",
       "      <td>1.61</td>\n",
       "    </tr>\n",
       "    <tr>\n",
       "      <th>4867</th>\n",
       "      <td>4867</td>\n",
       "      <td>2.12</td>\n",
       "    </tr>\n",
       "    <tr>\n",
       "      <th>4871</th>\n",
       "      <td>4871</td>\n",
       "      <td>0.78</td>\n",
       "    </tr>\n",
       "    <tr>\n",
       "      <th>4872</th>\n",
       "      <td>4872</td>\n",
       "      <td>4.03</td>\n",
       "    </tr>\n",
       "  </tbody>\n",
       "</table>\n",
       "<p>4490 rows × 2 columns</p>\n",
       "</div>"
      ],
      "text/plain": [
       "      index  agua_super_1.5l\n",
       "0         0             0.36\n",
       "1         1             0.62\n",
       "2         2             0.42\n",
       "3         3             0.65\n",
       "4         4             1.06\n",
       "...     ...              ...\n",
       "4864   4864             4.69\n",
       "4865   4865             1.61\n",
       "4867   4867             2.12\n",
       "4871   4871             0.78\n",
       "4872   4872             4.03\n",
       "\n",
       "[4490 rows x 2 columns]"
      ]
     },
     "execution_count": 33,
     "metadata": {},
     "output_type": "execute_result"
    }
   ],
   "source": [
    "df_agua2 = df_agua.dropna(axis=0, how=\"any\", inplace=False)\n",
    "df_agua2"
   ]
  },
  {
   "cell_type": "code",
   "execution_count": 34,
   "metadata": {},
   "outputs": [
    {
     "data": {
      "text/plain": [
       "index              0\n",
       "agua_super_1.5l    0\n",
       "dtype: int64"
      ]
     },
     "execution_count": 34,
     "metadata": {},
     "output_type": "execute_result"
    }
   ],
   "source": [
    "df_agua2.isnull().sum()"
   ]
  },
  {
   "cell_type": "code",
   "execution_count": 35,
   "metadata": {},
   "outputs": [
    {
     "name": "stdout",
     "output_type": "stream",
     "text": [
      "0.9849829938093866\n"
     ]
    }
   ],
   "source": [
    "w = np.random.randint(0,100, df_agua2.shape[0])\n",
    "media_pond_agua_notnull = np.average(df_agua2[\"agua_super_1.5l\"], weights=w)\n",
    "print(media_pond_agua_notnull)"
   ]
  },
  {
   "attachments": {},
   "cell_type": "markdown",
   "metadata": {},
   "source": [
    "- Robustez"
   ]
  },
  {
   "cell_type": "code",
   "execution_count": 36,
   "metadata": {},
   "outputs": [
    {
     "data": {
      "text/plain": [
       "0.0002051702913418137"
      ]
     },
     "execution_count": 36,
     "metadata": {},
     "output_type": "execute_result"
    }
   ],
   "source": [
    "\n",
    "robustez = 1 / df.shape[0]\n",
    "robustez\n"
   ]
  },
  {
   "cell_type": "code",
   "execution_count": 37,
   "metadata": {},
   "outputs": [
    {
     "data": {
      "text/plain": [
       "0.00010258514567090685"
      ]
     },
     "execution_count": 37,
     "metadata": {},
     "output_type": "execute_result"
    }
   ],
   "source": [
    "n_agua = df_agua.size\n",
    "rob_agua = 1 / n_agua\n",
    "rob_agua"
   ]
  },
  {
   "attachments": {},
   "cell_type": "markdown",
   "metadata": {},
   "source": [
    "- Coeficiente de variación"
   ]
  },
  {
   "cell_type": "code",
   "execution_count": 38,
   "metadata": {},
   "outputs": [
    {
     "data": {
      "text/plain": [
       "1.4521254139482858"
      ]
     },
     "execution_count": 38,
     "metadata": {},
     "output_type": "execute_result"
    }
   ],
   "source": [
    "coef_var_agua2 = media_agua2 / desv_tipica_agua2\n",
    "coef_var_agua2"
   ]
  },
  {
   "attachments": {},
   "cell_type": "markdown",
   "metadata": {},
   "source": [
    "### Cálculo de estadísticos del salario"
   ]
  },
  {
   "attachments": {},
   "cell_type": "markdown",
   "metadata": {},
   "source": [
    "- Media\n"
   ]
  },
  {
   "cell_type": "code",
   "execution_count": 39,
   "metadata": {},
   "outputs": [
    {
     "data": {
      "text/plain": [
       "1817.033501011853"
      ]
     },
     "execution_count": 39,
     "metadata": {},
     "output_type": "execute_result"
    }
   ],
   "source": [
    "# Media Salario neto mensual (datos originales de la media ponderada- average)\n",
    "media_salario"
   ]
  },
  {
   "attachments": {},
   "cell_type": "markdown",
   "metadata": {},
   "source": [
    "- Desviación con respecto de la media\n"
   ]
  },
  {
   "cell_type": "code",
   "execution_count": 40,
   "metadata": {},
   "outputs": [
    {
     "data": {
      "text/plain": [
       "0       1230.683501\n",
       "1        434.203501\n",
       "2       1333.843501\n",
       "3       1398.013501\n",
       "4        855.196499\n",
       "           ...     \n",
       "4869            NaN\n",
       "4870            NaN\n",
       "4871            NaN\n",
       "4872            NaN\n",
       "4873            NaN\n",
       "Name: media_pond_salario_neto, Length: 4874, dtype: float64"
      ]
     },
     "execution_count": 40,
     "metadata": {},
     "output_type": "execute_result"
    }
   ],
   "source": [
    "media_salario\n",
    "diferencias2 = df['media_pond_salario_neto'] - media_salario\n",
    "desv_salario = np.abs(diferencias2)\n",
    "desv_salario"
   ]
  },
  {
   "attachments": {},
   "cell_type": "markdown",
   "metadata": {},
   "source": [
    "- Varianza\n"
   ]
  },
  {
   "cell_type": "code",
   "execution_count": 41,
   "metadata": {},
   "outputs": [
    {
     "data": {
      "text/plain": [
       "2645446.5269653266"
      ]
     },
     "execution_count": 41,
     "metadata": {},
     "output_type": "execute_result"
    }
   ],
   "source": [
    "var_salario = df['media_pond_salario_neto'] .var()\n",
    "var_salario"
   ]
  },
  {
   "attachments": {},
   "cell_type": "markdown",
   "metadata": {},
   "source": [
    "- Desviación típica\n"
   ]
  },
  {
   "cell_type": "code",
   "execution_count": 42,
   "metadata": {},
   "outputs": [
    {
     "data": {
      "text/plain": [
       "1626.4828701727315"
      ]
     },
     "execution_count": 42,
     "metadata": {},
     "output_type": "execute_result"
    }
   ],
   "source": [
    "desv_tipica_salario = df['media_pond_salario_neto'].std()\n",
    "desv_tipica_salario"
   ]
  },
  {
   "attachments": {},
   "cell_type": "markdown",
   "metadata": {},
   "source": [
    "- Moda\n"
   ]
  },
  {
   "cell_type": "code",
   "execution_count": 43,
   "metadata": {},
   "outputs": [
    {
     "data": {
      "text/plain": [
       "0    2077.39\n",
       "Name: media_pond_salario_neto, dtype: float64"
      ]
     },
     "execution_count": 43,
     "metadata": {},
     "output_type": "execute_result"
    }
   ],
   "source": [
    "moda_salario = df['media_pond_salario_neto'].mode()\n",
    "moda_salario"
   ]
  },
  {
   "attachments": {},
   "cell_type": "markdown",
   "metadata": {},
   "source": [
    "- Mediana\n"
   ]
  },
  {
   "cell_type": "code",
   "execution_count": 44,
   "metadata": {},
   "outputs": [
    {
     "data": {
      "text/plain": [
       "1298.37"
      ]
     },
     "execution_count": 44,
     "metadata": {},
     "output_type": "execute_result"
    }
   ],
   "source": [
    "mediana_salario = df['media_pond_salario_neto'].median()\n",
    "mediana_salario"
   ]
  },
  {
   "attachments": {},
   "cell_type": "markdown",
   "metadata": {},
   "source": [
    "- Media ponderada\n"
   ]
  },
  {
   "cell_type": "code",
   "execution_count": 45,
   "metadata": {},
   "outputs": [
    {
     "name": "stdout",
     "output_type": "stream",
     "text": [
      "nan\n"
     ]
    }
   ],
   "source": [
    "w = np.random.randint(0,100, df.shape[0])\n",
    "media_pond_salario = np.average(df[\"media_pond_salario_neto\"], weights=w)\n",
    "print(media_pond_salario)\n",
    "# no es capaz de calcular el average por tener nulos"
   ]
  },
  {
   "cell_type": "code",
   "execution_count": 46,
   "metadata": {},
   "outputs": [
    {
     "data": {
      "text/html": [
       "<div>\n",
       "<style scoped>\n",
       "    .dataframe tbody tr th:only-of-type {\n",
       "        vertical-align: middle;\n",
       "    }\n",
       "\n",
       "    .dataframe tbody tr th {\n",
       "        vertical-align: top;\n",
       "    }\n",
       "\n",
       "    .dataframe thead th {\n",
       "        text-align: right;\n",
       "    }\n",
       "</style>\n",
       "<table border=\"1\" class=\"dataframe\">\n",
       "  <thead>\n",
       "    <tr style=\"text-align: right;\">\n",
       "      <th></th>\n",
       "      <th>index</th>\n",
       "      <th>media_pond_salario_neto</th>\n",
       "    </tr>\n",
       "  </thead>\n",
       "  <tbody>\n",
       "    <tr>\n",
       "      <th>0</th>\n",
       "      <td>0</td>\n",
       "      <td>586.35</td>\n",
       "    </tr>\n",
       "    <tr>\n",
       "      <th>1</th>\n",
       "      <td>1</td>\n",
       "      <td>1382.83</td>\n",
       "    </tr>\n",
       "    <tr>\n",
       "      <th>2</th>\n",
       "      <td>2</td>\n",
       "      <td>483.19</td>\n",
       "    </tr>\n",
       "    <tr>\n",
       "      <th>3</th>\n",
       "      <td>3</td>\n",
       "      <td>419.02</td>\n",
       "    </tr>\n",
       "    <tr>\n",
       "      <th>4</th>\n",
       "      <td>4</td>\n",
       "      <td>2672.23</td>\n",
       "    </tr>\n",
       "  </tbody>\n",
       "</table>\n",
       "</div>"
      ],
      "text/plain": [
       "   index  media_pond_salario_neto\n",
       "0      0                   586.35\n",
       "1      1                  1382.83\n",
       "2      2                   483.19\n",
       "3      3                   419.02\n",
       "4      4                  2672.23"
      ]
     },
     "execution_count": 46,
     "metadata": {},
     "output_type": "execute_result"
    }
   ],
   "source": [
    "# Hacemos una copia del df original con la columna de la cual queremos la media ponderada para eliminar \n",
    "# los valor nulos y poder hacer el calculo\n",
    "\n",
    "df_sal = df['media_pond_salario_neto'].copy()\n",
    "df_salario = df_sal.reset_index()\n",
    "df_salario.head()"
   ]
  },
  {
   "cell_type": "code",
   "execution_count": 47,
   "metadata": {},
   "outputs": [
    {
     "data": {
      "text/html": [
       "<div>\n",
       "<style scoped>\n",
       "    .dataframe tbody tr th:only-of-type {\n",
       "        vertical-align: middle;\n",
       "    }\n",
       "\n",
       "    .dataframe tbody tr th {\n",
       "        vertical-align: top;\n",
       "    }\n",
       "\n",
       "    .dataframe thead th {\n",
       "        text-align: right;\n",
       "    }\n",
       "</style>\n",
       "<table border=\"1\" class=\"dataframe\">\n",
       "  <thead>\n",
       "    <tr style=\"text-align: right;\">\n",
       "      <th></th>\n",
       "      <th>index</th>\n",
       "      <th>media_pond_salario_neto</th>\n",
       "    </tr>\n",
       "  </thead>\n",
       "  <tbody>\n",
       "    <tr>\n",
       "      <th>0</th>\n",
       "      <td>0</td>\n",
       "      <td>586.35</td>\n",
       "    </tr>\n",
       "    <tr>\n",
       "      <th>1</th>\n",
       "      <td>1</td>\n",
       "      <td>1382.83</td>\n",
       "    </tr>\n",
       "    <tr>\n",
       "      <th>2</th>\n",
       "      <td>2</td>\n",
       "      <td>483.19</td>\n",
       "    </tr>\n",
       "    <tr>\n",
       "      <th>3</th>\n",
       "      <td>3</td>\n",
       "      <td>419.02</td>\n",
       "    </tr>\n",
       "    <tr>\n",
       "      <th>4</th>\n",
       "      <td>4</td>\n",
       "      <td>2672.23</td>\n",
       "    </tr>\n",
       "    <tr>\n",
       "      <th>...</th>\n",
       "      <td>...</td>\n",
       "      <td>...</td>\n",
       "    </tr>\n",
       "    <tr>\n",
       "      <th>4863</th>\n",
       "      <td>4863</td>\n",
       "      <td>612.13</td>\n",
       "    </tr>\n",
       "    <tr>\n",
       "      <th>4864</th>\n",
       "      <td>4864</td>\n",
       "      <td>5867.96</td>\n",
       "    </tr>\n",
       "    <tr>\n",
       "      <th>4865</th>\n",
       "      <td>4865</td>\n",
       "      <td>3435.18</td>\n",
       "    </tr>\n",
       "    <tr>\n",
       "      <th>4867</th>\n",
       "      <td>4867</td>\n",
       "      <td>2471.40</td>\n",
       "    </tr>\n",
       "    <tr>\n",
       "      <th>4868</th>\n",
       "      <td>4868</td>\n",
       "      <td>5588.53</td>\n",
       "    </tr>\n",
       "  </tbody>\n",
       "</table>\n",
       "<p>3459 rows × 2 columns</p>\n",
       "</div>"
      ],
      "text/plain": [
       "      index  media_pond_salario_neto\n",
       "0         0                   586.35\n",
       "1         1                  1382.83\n",
       "2         2                   483.19\n",
       "3         3                   419.02\n",
       "4         4                  2672.23\n",
       "...     ...                      ...\n",
       "4863   4863                   612.13\n",
       "4864   4864                  5867.96\n",
       "4865   4865                  3435.18\n",
       "4867   4867                  2471.40\n",
       "4868   4868                  5588.53\n",
       "\n",
       "[3459 rows x 2 columns]"
      ]
     },
     "execution_count": 47,
     "metadata": {},
     "output_type": "execute_result"
    }
   ],
   "source": [
    "df_salario2 = df_salario.dropna(axis=0, how=\"any\", inplace=False)\n",
    "df_salario2"
   ]
  },
  {
   "cell_type": "code",
   "execution_count": 48,
   "metadata": {},
   "outputs": [
    {
     "name": "stdout",
     "output_type": "stream",
     "text": [
      "1806.2087730768776\n"
     ]
    }
   ],
   "source": [
    "w = np.random.randint(0,100, df_salario2.shape[0])\n",
    "media_pond_salario_notnull = np.average(df_salario2[\"media_pond_salario_neto\"], weights=w)\n",
    "print(media_pond_salario_notnull)"
   ]
  },
  {
   "attachments": {},
   "cell_type": "markdown",
   "metadata": {},
   "source": [
    "- Robustez"
   ]
  },
  {
   "cell_type": "code",
   "execution_count": 49,
   "metadata": {},
   "outputs": [
    {
     "data": {
      "text/plain": [
       "0.0002051702913418137"
      ]
     },
     "execution_count": 49,
     "metadata": {},
     "output_type": "execute_result"
    }
   ],
   "source": [
    "robustez2 = 1 / df.shape[0]\n",
    "robustez2"
   ]
  },
  {
   "attachments": {},
   "cell_type": "markdown",
   "metadata": {},
   "source": [
    "- Coeficiente de variación"
   ]
  },
  {
   "cell_type": "code",
   "execution_count": 50,
   "metadata": {},
   "outputs": [
    {
     "data": {
      "text/plain": [
       "1.1171550185578563"
      ]
     },
     "execution_count": 50,
     "metadata": {},
     "output_type": "execute_result"
    }
   ],
   "source": [
    "coef_var_salario = media_salario / desv_tipica_salario\n",
    "coef_var_salario"
   ]
  },
  {
   "attachments": {},
   "cell_type": "markdown",
   "metadata": {},
   "source": [
    "---"
   ]
  },
  {
   "attachments": {},
   "cell_type": "markdown",
   "metadata": {},
   "source": [
    "**EJERCICIO 3**\n",
    "\n",
    "Interpretación de los resultados.\n",
    "\n",
    "- Ahora interpreta los resultados obtenidos de los diferentes estadísticos estudiados haciendo hincapié en aspectos interesantes de tus datos y explica lo mejor posible la naturaleza de los mismos."
   ]
  },
  {
   "attachments": {},
   "cell_type": "markdown",
   "metadata": {},
   "source": [
    "\n",
    "Trabajamos con datos sobre el **coste de la vida** en diferentes ciudades del mundo, primero exploramos el archivo observando que los datos se basan en **4816 ciudades** de **204 países** \n",
    "diferentes, con **54 artículos/variables** y sus correspondientes precios, con un **total de 287566 entradas**.\n",
    "\n",
    "Elegimos dos variables para obtener los diferentes estadísticos de las mismas, la columna **'agua_super_1,5l'** entendido como bien básico y la columna **'media_pond_salario_neto'**  \n",
    "entendido como medio vital necesario, en la segunda columna las cifras del salario no vienen dados de la media sino de la media ponderada por lo que tiene mayor peso.\n",
    "\n",
    "- Obtenemos de la columna de agua embotellada de 1.5 litros comprada en el supermercado las siguientes estadísticas:\n",
    "\n",
    "    - Media: 0.9860623608017818\n",
    "    - Varianza: 0.46110572121607496\n",
    "    - Desviación típica: 0.6790476575440599\n",
    "    - Moda: 2.0\n",
    "    - Mediana: 0.75\n",
    "    - Media ponderada: 0.9924516424916594\n",
    "    - Robustez: 0.0002051702913418137\n",
    "    - Coeficiente de variación: 1.4521254139482858\n",
    "\n",
    "\n",
    "\n",
    "- Obtenemos de la columna media ponderada de salario neto las siguientes estadísticas:\n",
    "\n",
    "    - Media: 1817.033501011853\n",
    "    - Varianza: 2645446.5269653266\n",
    "    - Desviación típica: 1626.4828701727315\n",
    "    - Moda: 2077.39\n",
    "    - Mediana: 1298.37\n",
    "    - Media ponderada: 1807.98536619965\n",
    "    - Robustez: 0.0002051702913418137\n",
    "    - Coeficiente de variación: 1.1171550185578563\n",
    "\n",
    "\n"
   ]
  },
  {
   "attachments": {},
   "cell_type": "markdown",
   "metadata": {},
   "source": [
    "Con los datos del salario, teniendo en cuenta que los datos obtenidos incialmente venian dados de una media ponderada con su peso y robustez, podemos ver que la media y la media ponderada obtenida de los cálculos estadísticos no son tan diferentes aunque la media ponderada se ajusta hacia abajo si tenemos en cuenta la cifra tan baja de los sueldos en los países donde hay más pobreza."
   ]
  },
  {
   "attachments": {},
   "cell_type": "markdown",
   "metadata": {},
   "source": [
    "Por otra parte, la moda o cantidad más frecuente ronda los 2077.39, estando por encima de la media, apuntando a que gran cantidad de países tienen sueldos medios-altos, viendo tambíen que la desviación típica es bastante alta, debido a la gran diferencia de sueldos en los países mas y menos ricos."
   ]
  },
  {
   "attachments": {},
   "cell_type": "markdown",
   "metadata": {},
   "source": [
    "Con la elevada cantidad de la varianza podemos intuir que hay sueldos muy altos y que con el coeficiente de variación bastante homogéneo esa variación es solo para una pequeña parte de la población mundial."
   ]
  },
  {
   "attachments": {},
   "cell_type": "markdown",
   "metadata": {},
   "source": [
    "---"
   ]
  },
  {
   "cell_type": "code",
   "execution_count": 51,
   "metadata": {},
   "outputs": [],
   "source": [
    "# Guardamos el archivo con las modificaciones\n",
    "\n",
    "df.to_csv('cost_of_living2.csv')"
   ]
  }
 ],
 "metadata": {
  "kernelspec": {
   "display_name": "base",
   "language": "python",
   "name": "python3"
  },
  "language_info": {
   "codemirror_mode": {
    "name": "ipython",
    "version": 3
   },
   "file_extension": ".py",
   "mimetype": "text/x-python",
   "name": "python",
   "nbconvert_exporter": "python",
   "pygments_lexer": "ipython3",
   "version": "3.9.7"
  },
  "orig_nbformat": 4,
  "vscode": {
   "interpreter": {
    "hash": "819a5c43c1fad9e35c5b1180124e231b422fc24c453463d400a90e0aae1b9c8c"
   }
  }
 },
 "nbformat": 4,
 "nbformat_minor": 2
}
