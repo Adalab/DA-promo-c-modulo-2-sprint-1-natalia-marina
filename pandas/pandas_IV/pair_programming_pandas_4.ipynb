{
 "cells": [
  {
   "attachments": {},
   "cell_type": "markdown",
   "metadata": {},
   "source": [
    "## PAIR PROGRAMMING PANDAS IV\n",
    "---"
   ]
  },
  {
   "cell_type": "code",
   "execution_count": 1,
   "metadata": {},
   "outputs": [],
   "source": [
    "import pandas as pd\n",
    "import numpy as np\n",
    "import random "
   ]
  },
  {
   "attachments": {},
   "cell_type": "markdown",
   "metadata": {},
   "source": [
    "**EJERCICIO 1**\n",
    "\n",
    "Cargad el csv que guardasteis ayer.\n",
    "\n",
    "\n",
    "Antes de seguir con las preguntas, este DataFrame está terriblemente sucio. En las próximas sesiones lo iremos limpiando.\n",
    "\n",
    "\n",
    "Para evitar posibles errores con los nulos vamos a eliminar todos los nulos del DataFrame.\n",
    "\n",
    "\n",
    "Para ello vamos a utilizar el método .dropna() de pandas. Tendréis que ejecutar la siguiente línea de código para eliminar los nulos del DataFrame y poder seguir haciendo el resto de los ejercicios.\n"
   ]
  },
  {
   "cell_type": "code",
   "execution_count": 2,
   "metadata": {},
   "outputs": [],
   "source": [
    "# Cargamos el archivo\n",
    "df_csv = pd.read_csv(\"attacks2.csv\")"
   ]
  },
  {
   "cell_type": "code",
   "execution_count": 3,
   "metadata": {},
   "outputs": [
    {
     "data": {
      "text/plain": [
       "(6114, 14)"
      ]
     },
     "execution_count": 3,
     "metadata": {},
     "output_type": "execute_result"
    }
   ],
   "source": [
    "df_csv.shape"
   ]
  },
  {
   "cell_type": "code",
   "execution_count": 4,
   "metadata": {},
   "outputs": [],
   "source": [
    "# Eliminamos los nulos con el método .dropna\n",
    "\n",
    "df_csv.dropna(inplace = True)"
   ]
  },
  {
   "cell_type": "code",
   "execution_count": 5,
   "metadata": {},
   "outputs": [
    {
     "data": {
      "text/plain": [
       "(1502, 14)"
      ]
     },
     "execution_count": 5,
     "metadata": {},
     "output_type": "execute_result"
    }
   ],
   "source": [
    "df_csv.shape"
   ]
  },
  {
   "attachments": {},
   "cell_type": "markdown",
   "metadata": {},
   "source": [
    "- ¿Cuántas filas se han eliminado con esta línea de código?"
   ]
  },
  {
   "cell_type": "code",
   "execution_count": 6,
   "metadata": {},
   "outputs": [
    {
     "data": {
      "text/plain": [
       "'El numero de filas eliminadas es 4612'"
      ]
     },
     "execution_count": 6,
     "metadata": {},
     "output_type": "execute_result"
    }
   ],
   "source": [
    "filas_eliminadas = 6114 - 1502\n",
    "f'El numero de filas eliminadas es {filas_eliminadas}'"
   ]
  },
  {
   "cell_type": "code",
   "execution_count": 7,
   "metadata": {},
   "outputs": [
    {
     "data": {
      "text/plain": [
       "Index(['case_number', 'unnamed:_0', 'year', 'type', 'country', 'area',\n",
       "       'location', 'activity', 'name', 'sex_', 'age', 'time', 'species_',\n",
       "       'href'],\n",
       "      dtype='object')"
      ]
     },
     "execution_count": 7,
     "metadata": {},
     "output_type": "execute_result"
    }
   ],
   "source": [
    "df_csv.columns"
   ]
  },
  {
   "attachments": {},
   "cell_type": "markdown",
   "metadata": {},
   "source": [
    "-------"
   ]
  },
  {
   "attachments": {},
   "cell_type": "markdown",
   "metadata": {},
   "source": [
    "**EJERCICIO 2**\n",
    "\n",
    "¿Cuál es el número de ataques que se han producido en Estados Unidos?"
   ]
  },
  {
   "cell_type": "code",
   "execution_count": 40,
   "metadata": {},
   "outputs": [
    {
     "name": "stdout",
     "output_type": "stream",
     "text": [
      "El número de ataques en USA es 719\n"
     ]
    },
    {
     "data": {
      "text/html": [
       "<div>\n",
       "<style scoped>\n",
       "    .dataframe tbody tr th:only-of-type {\n",
       "        vertical-align: middle;\n",
       "    }\n",
       "\n",
       "    .dataframe tbody tr th {\n",
       "        vertical-align: top;\n",
       "    }\n",
       "\n",
       "    .dataframe thead th {\n",
       "        text-align: right;\n",
       "    }\n",
       "</style>\n",
       "<table border=\"1\" class=\"dataframe\">\n",
       "  <thead>\n",
       "    <tr style=\"text-align: right;\">\n",
       "      <th></th>\n",
       "      <th>case_number</th>\n",
       "      <th>unnamed:_0</th>\n",
       "      <th>year</th>\n",
       "      <th>type</th>\n",
       "      <th>country</th>\n",
       "      <th>area</th>\n",
       "      <th>location</th>\n",
       "      <th>activity</th>\n",
       "      <th>name</th>\n",
       "      <th>sex_</th>\n",
       "      <th>age</th>\n",
       "      <th>time</th>\n",
       "      <th>species_</th>\n",
       "      <th>href</th>\n",
       "      <th>siglo</th>\n",
       "    </tr>\n",
       "  </thead>\n",
       "  <tbody>\n",
       "    <tr>\n",
       "      <th>0</th>\n",
       "      <td>2018.06.25</td>\n",
       "      <td>0</td>\n",
       "      <td>2018.0</td>\n",
       "      <td>Boating</td>\n",
       "      <td>USA</td>\n",
       "      <td>California</td>\n",
       "      <td>Oceanside, San Diego County</td>\n",
       "      <td>Paddling</td>\n",
       "      <td>Julie Wolfe</td>\n",
       "      <td>F</td>\n",
       "      <td>57</td>\n",
       "      <td>18h00</td>\n",
       "      <td>White shark</td>\n",
       "      <td>http://sharkattackfile.net/spreadsheets/pdf_di...</td>\n",
       "      <td>siglo-XXI</td>\n",
       "    </tr>\n",
       "    <tr>\n",
       "      <th>8</th>\n",
       "      <td>2018.05.26.b</td>\n",
       "      <td>8</td>\n",
       "      <td>2018.0</td>\n",
       "      <td>Unprovoked</td>\n",
       "      <td>USA</td>\n",
       "      <td>Florida</td>\n",
       "      <td>Cocoa Beach, Brevard  County</td>\n",
       "      <td>Walking</td>\n",
       "      <td>Cody High</td>\n",
       "      <td>M</td>\n",
       "      <td>15</td>\n",
       "      <td>17h00</td>\n",
       "      <td>Bull shark, 6'</td>\n",
       "      <td>http://sharkattackfile.net/spreadsheets/pdf_di...</td>\n",
       "      <td>siglo-XXI</td>\n",
       "    </tr>\n",
       "  </tbody>\n",
       "</table>\n",
       "</div>"
      ],
      "text/plain": [
       "    case_number  unnamed:_0    year        type country        area  \\\n",
       "0    2018.06.25           0  2018.0     Boating     USA  California   \n",
       "8  2018.05.26.b           8  2018.0  Unprovoked     USA     Florida   \n",
       "\n",
       "                       location  activity         name sex_ age   time  \\\n",
       "0   Oceanside, San Diego County  Paddling  Julie Wolfe    F  57  18h00   \n",
       "8  Cocoa Beach, Brevard  County   Walking    Cody High    M  15  17h00   \n",
       "\n",
       "         species_                                               href  \\\n",
       "0     White shark  http://sharkattackfile.net/spreadsheets/pdf_di...   \n",
       "8  Bull shark, 6'  http://sharkattackfile.net/spreadsheets/pdf_di...   \n",
       "\n",
       "       siglo  \n",
       "0  siglo-XXI  \n",
       "8  siglo-XXI  "
      ]
     },
     "execution_count": 40,
     "metadata": {},
     "output_type": "execute_result"
    }
   ],
   "source": [
    "# Filtramos en base al valor de la columna Country con la condición de que este sea USA. \n",
    "# Lo almacenamos en un nuevo DF y utilizando el metodo .shape para ver el numero de ataques\n",
    "\n",
    "df_estados_unidos = df_csv[df_csv[\"country\"] == \"USA\"]\n",
    "print(f'El número de ataques en USA es {df_estados_unidos.shape[0]}')\n",
    "df_estados_unidos.head(2)"
   ]
  },
  {
   "attachments": {},
   "cell_type": "markdown",
   "metadata": {},
   "source": [
    "---"
   ]
  },
  {
   "attachments": {},
   "cell_type": "markdown",
   "metadata": {},
   "source": [
    "**EJERCICIO 3** \n",
    "\n",
    "¿Cuál es el número de ataques que se han producido en España?"
   ]
  },
  {
   "cell_type": "code",
   "execution_count": 32,
   "metadata": {},
   "outputs": [
    {
     "name": "stdout",
     "output_type": "stream",
     "text": [
      "El número de ataques en España es 5\n"
     ]
    },
    {
     "data": {
      "text/html": [
       "<div>\n",
       "<style scoped>\n",
       "    .dataframe tbody tr th:only-of-type {\n",
       "        vertical-align: middle;\n",
       "    }\n",
       "\n",
       "    .dataframe tbody tr th {\n",
       "        vertical-align: top;\n",
       "    }\n",
       "\n",
       "    .dataframe thead th {\n",
       "        text-align: right;\n",
       "    }\n",
       "</style>\n",
       "<table border=\"1\" class=\"dataframe\">\n",
       "  <thead>\n",
       "    <tr style=\"text-align: right;\">\n",
       "      <th></th>\n",
       "      <th>case_number</th>\n",
       "      <th>unnamed:_0</th>\n",
       "      <th>year</th>\n",
       "      <th>type</th>\n",
       "      <th>country</th>\n",
       "      <th>area</th>\n",
       "      <th>location</th>\n",
       "      <th>activity</th>\n",
       "      <th>name</th>\n",
       "      <th>sex_</th>\n",
       "      <th>age</th>\n",
       "      <th>time</th>\n",
       "      <th>species_</th>\n",
       "      <th>href</th>\n",
       "      <th>siglo</th>\n",
       "    </tr>\n",
       "  </thead>\n",
       "  <tbody>\n",
       "    <tr>\n",
       "      <th>98</th>\n",
       "      <td>2017.08.26.b</td>\n",
       "      <td>98</td>\n",
       "      <td>2017.0</td>\n",
       "      <td>Invalid</td>\n",
       "      <td>SPAIN</td>\n",
       "      <td>CastellÃ³n</td>\n",
       "      <td>Grao de Moncofa</td>\n",
       "      <td>Swimming</td>\n",
       "      <td>female</td>\n",
       "      <td>F</td>\n",
       "      <td>11</td>\n",
       "      <td>Midday</td>\n",
       "      <td>Shark involvement questionable</td>\n",
       "      <td>http://sharkattackfile.net/spreadsheets/pdf_di...</td>\n",
       "      <td>siglo-XXI</td>\n",
       "    </tr>\n",
       "    <tr>\n",
       "      <th>233</th>\n",
       "      <td>2016.07.29</td>\n",
       "      <td>234</td>\n",
       "      <td>2016.0</td>\n",
       "      <td>Unprovoked</td>\n",
       "      <td>SPAIN</td>\n",
       "      <td>Alicante Province</td>\n",
       "      <td>Arenales del Sol</td>\n",
       "      <td>Swimming</td>\n",
       "      <td>male</td>\n",
       "      <td>M</td>\n",
       "      <td>40</td>\n",
       "      <td>11h30</td>\n",
       "      <td>Blue shark</td>\n",
       "      <td>http://sharkattackfile.net/spreadsheets/pdf_di...</td>\n",
       "      <td>siglo-XXI</td>\n",
       "    </tr>\n",
       "  </tbody>\n",
       "</table>\n",
       "</div>"
      ],
      "text/plain": [
       "      case_number  unnamed:_0    year        type country               area  \\\n",
       "98   2017.08.26.b          98  2017.0     Invalid   SPAIN         CastellÃ³n   \n",
       "233    2016.07.29         234  2016.0  Unprovoked   SPAIN  Alicante Province   \n",
       "\n",
       "             location  activity    name sex_ age    time  \\\n",
       "98    Grao de Moncofa  Swimming  female    F  11  Midday   \n",
       "233  Arenales del Sol  Swimming    male    M  40   11h30   \n",
       "\n",
       "                           species_  \\\n",
       "98   Shark involvement questionable   \n",
       "233                      Blue shark   \n",
       "\n",
       "                                                  href      siglo  \n",
       "98   http://sharkattackfile.net/spreadsheets/pdf_di...  siglo-XXI  \n",
       "233  http://sharkattackfile.net/spreadsheets/pdf_di...  siglo-XXI  "
      ]
     },
     "execution_count": 32,
     "metadata": {},
     "output_type": "execute_result"
    }
   ],
   "source": [
    "# Filtramos en base al valor de la columna Country con la condición de que este sea SPAIN. \n",
    "# Lo almacenamos en un nuevo DF y utilizando el metodo .shape para ver el numero de ataques\n",
    "\n",
    "df_españa = df_csv[df_csv[\"country\"] == \"SPAIN\"]\n",
    "print(f'El número de ataques en España es {df_españa.shape[0]}')\n",
    "df_españa.head(2)\n",
    "\n"
   ]
  },
  {
   "attachments": {},
   "cell_type": "markdown",
   "metadata": {},
   "source": [
    "- ¿En qué regiones se han producido los ataques (columna location) ?"
   ]
  },
  {
   "cell_type": "code",
   "execution_count": 10,
   "metadata": {},
   "outputs": [
    {
     "data": {
      "text/plain": [
       "98                     Grao de Moncofa\n",
       "233                   Arenales del Sol\n",
       "377           Poniente Beach, Benidorm\n",
       "1007        Sardina del Norte, GÃ¡ldar\n",
       "2469    Playa de las Arenas, Valencia \n",
       "Name: location, dtype: object"
      ]
     },
     "execution_count": 10,
     "metadata": {},
     "output_type": "execute_result"
    }
   ],
   "source": [
    "# Filtramos por columna location en el DF previamente almacenado con los resultados de España\n",
    "\n",
    "ataques_location = df_españa[\"location\"]\n",
    "ataques_location"
   ]
  },
  {
   "attachments": {},
   "cell_type": "markdown",
   "metadata": {},
   "source": [
    "- ¿Cuántos ataques se han producido en cada área (columna area?"
   ]
  },
  {
   "cell_type": "code",
   "execution_count": 11,
   "metadata": {},
   "outputs": [
    {
     "data": {
      "text/plain": [
       "CastellÃ³n             1\n",
       "Alicante Province      1\n",
       "Alicante               1\n",
       "Grand Canary Island    1\n",
       "Costa Blanca           1\n",
       "Name: area, dtype: int64"
      ]
     },
     "execution_count": 11,
     "metadata": {},
     "output_type": "execute_result"
    }
   ],
   "source": [
    "ataques_area = df_españa[\"area\"].value_counts()\n",
    "ataques_area"
   ]
  },
  {
   "attachments": {},
   "cell_type": "markdown",
   "metadata": {},
   "source": [
    "-----"
   ]
  },
  {
   "attachments": {},
   "cell_type": "markdown",
   "metadata": {},
   "source": [
    "**EJERCICIO 4**\n",
    "\n",
    "Extraed un DataFrame nuevo con los ataques que se han producido en Australia y Estados Unidos.\n",
    "\n",
    "📌 Nota Este ejercicio se puede resolver usando dos condiciones de filtrado o usando el método \n",
    "isin(). Hacedlo con ambas herramientas."
   ]
  },
  {
   "cell_type": "code",
   "execution_count": 12,
   "metadata": {},
   "outputs": [
    {
     "data": {
      "text/html": [
       "<div>\n",
       "<style scoped>\n",
       "    .dataframe tbody tr th:only-of-type {\n",
       "        vertical-align: middle;\n",
       "    }\n",
       "\n",
       "    .dataframe tbody tr th {\n",
       "        vertical-align: top;\n",
       "    }\n",
       "\n",
       "    .dataframe thead th {\n",
       "        text-align: right;\n",
       "    }\n",
       "</style>\n",
       "<table border=\"1\" class=\"dataframe\">\n",
       "  <thead>\n",
       "    <tr style=\"text-align: right;\">\n",
       "      <th></th>\n",
       "      <th>case_number</th>\n",
       "      <th>unnamed:_0</th>\n",
       "      <th>year</th>\n",
       "      <th>type</th>\n",
       "      <th>country</th>\n",
       "      <th>area</th>\n",
       "      <th>location</th>\n",
       "      <th>activity</th>\n",
       "      <th>name</th>\n",
       "      <th>sex_</th>\n",
       "      <th>age</th>\n",
       "      <th>time</th>\n",
       "      <th>species_</th>\n",
       "      <th>href</th>\n",
       "    </tr>\n",
       "  </thead>\n",
       "  <tbody>\n",
       "    <tr>\n",
       "      <th>0</th>\n",
       "      <td>2018.06.25</td>\n",
       "      <td>0</td>\n",
       "      <td>2018.0</td>\n",
       "      <td>Boating</td>\n",
       "      <td>USA</td>\n",
       "      <td>California</td>\n",
       "      <td>Oceanside, San Diego County</td>\n",
       "      <td>Paddling</td>\n",
       "      <td>Julie Wolfe</td>\n",
       "      <td>F</td>\n",
       "      <td>57</td>\n",
       "      <td>18h00</td>\n",
       "      <td>White shark</td>\n",
       "      <td>http://sharkattackfile.net/spreadsheets/pdf_di...</td>\n",
       "    </tr>\n",
       "    <tr>\n",
       "      <th>8</th>\n",
       "      <td>2018.05.26.b</td>\n",
       "      <td>8</td>\n",
       "      <td>2018.0</td>\n",
       "      <td>Unprovoked</td>\n",
       "      <td>USA</td>\n",
       "      <td>Florida</td>\n",
       "      <td>Cocoa Beach, Brevard  County</td>\n",
       "      <td>Walking</td>\n",
       "      <td>Cody High</td>\n",
       "      <td>M</td>\n",
       "      <td>15</td>\n",
       "      <td>17h00</td>\n",
       "      <td>Bull shark, 6'</td>\n",
       "      <td>http://sharkattackfile.net/spreadsheets/pdf_di...</td>\n",
       "    </tr>\n",
       "  </tbody>\n",
       "</table>\n",
       "</div>"
      ],
      "text/plain": [
       "    case_number  unnamed:_0    year        type country        area  \\\n",
       "0    2018.06.25           0  2018.0     Boating     USA  California   \n",
       "8  2018.05.26.b           8  2018.0  Unprovoked     USA     Florida   \n",
       "\n",
       "                       location  activity         name sex_ age   time  \\\n",
       "0   Oceanside, San Diego County  Paddling  Julie Wolfe    F  57  18h00   \n",
       "8  Cocoa Beach, Brevard  County   Walking    Cody High    M  15  17h00   \n",
       "\n",
       "         species_                                               href  \n",
       "0     White shark  http://sharkattackfile.net/spreadsheets/pdf_di...  \n",
       "8  Bull shark, 6'  http://sharkattackfile.net/spreadsheets/pdf_di...  "
      ]
     },
     "execution_count": 12,
     "metadata": {},
     "output_type": "execute_result"
    }
   ],
   "source": [
    "# Extraemos el DF filtrando en base al valor de una columna, pero pidiendo que se cumplan dos \n",
    "# condiciones distintas utilizando el operador OR | , ya que en este caso las condiciones no \n",
    "# se pueden cumplir a la vez \n",
    "\n",
    "ataques_aus_usa = df_csv[(df_csv[\"country\"] == \"AUSTRALIA\") | (df_csv[\"country\"] == \"USA\")]\n",
    "ataques_aus_usa.head(2)"
   ]
  },
  {
   "cell_type": "code",
   "execution_count": 13,
   "metadata": {},
   "outputs": [
    {
     "data": {
      "text/html": [
       "<div>\n",
       "<style scoped>\n",
       "    .dataframe tbody tr th:only-of-type {\n",
       "        vertical-align: middle;\n",
       "    }\n",
       "\n",
       "    .dataframe tbody tr th {\n",
       "        vertical-align: top;\n",
       "    }\n",
       "\n",
       "    .dataframe thead th {\n",
       "        text-align: right;\n",
       "    }\n",
       "</style>\n",
       "<table border=\"1\" class=\"dataframe\">\n",
       "  <thead>\n",
       "    <tr style=\"text-align: right;\">\n",
       "      <th></th>\n",
       "      <th>case_number</th>\n",
       "      <th>unnamed:_0</th>\n",
       "      <th>year</th>\n",
       "      <th>type</th>\n",
       "      <th>country</th>\n",
       "      <th>area</th>\n",
       "      <th>location</th>\n",
       "      <th>activity</th>\n",
       "      <th>name</th>\n",
       "      <th>sex_</th>\n",
       "      <th>age</th>\n",
       "      <th>time</th>\n",
       "      <th>species_</th>\n",
       "      <th>href</th>\n",
       "    </tr>\n",
       "  </thead>\n",
       "  <tbody>\n",
       "    <tr>\n",
       "      <th>0</th>\n",
       "      <td>2018.06.25</td>\n",
       "      <td>0</td>\n",
       "      <td>2018.0</td>\n",
       "      <td>Boating</td>\n",
       "      <td>USA</td>\n",
       "      <td>California</td>\n",
       "      <td>Oceanside, San Diego County</td>\n",
       "      <td>Paddling</td>\n",
       "      <td>Julie Wolfe</td>\n",
       "      <td>F</td>\n",
       "      <td>57</td>\n",
       "      <td>18h00</td>\n",
       "      <td>White shark</td>\n",
       "      <td>http://sharkattackfile.net/spreadsheets/pdf_di...</td>\n",
       "    </tr>\n",
       "    <tr>\n",
       "      <th>8</th>\n",
       "      <td>2018.05.26.b</td>\n",
       "      <td>8</td>\n",
       "      <td>2018.0</td>\n",
       "      <td>Unprovoked</td>\n",
       "      <td>USA</td>\n",
       "      <td>Florida</td>\n",
       "      <td>Cocoa Beach, Brevard  County</td>\n",
       "      <td>Walking</td>\n",
       "      <td>Cody High</td>\n",
       "      <td>M</td>\n",
       "      <td>15</td>\n",
       "      <td>17h00</td>\n",
       "      <td>Bull shark, 6'</td>\n",
       "      <td>http://sharkattackfile.net/spreadsheets/pdf_di...</td>\n",
       "    </tr>\n",
       "  </tbody>\n",
       "</table>\n",
       "</div>"
      ],
      "text/plain": [
       "    case_number  unnamed:_0    year        type country        area  \\\n",
       "0    2018.06.25           0  2018.0     Boating     USA  California   \n",
       "8  2018.05.26.b           8  2018.0  Unprovoked     USA     Florida   \n",
       "\n",
       "                       location  activity         name sex_ age   time  \\\n",
       "0   Oceanside, San Diego County  Paddling  Julie Wolfe    F  57  18h00   \n",
       "8  Cocoa Beach, Brevard  County   Walking    Cody High    M  15  17h00   \n",
       "\n",
       "         species_                                               href  \n",
       "0     White shark  http://sharkattackfile.net/spreadsheets/pdf_di...  \n",
       "8  Bull shark, 6'  http://sharkattackfile.net/spreadsheets/pdf_di...  "
      ]
     },
     "execution_count": 13,
     "metadata": {},
     "output_type": "execute_result"
    }
   ],
   "source": [
    "# Extraemos el DF con el metodo isin() de pandas\n",
    "\n",
    "ataques_isin = df_csv[df_csv[\"country\"].isin([\"USA\",\"AUSTRALIA\"])]\n",
    "ataques_isin.head(2)"
   ]
  },
  {
   "attachments": {},
   "cell_type": "markdown",
   "metadata": {},
   "source": [
    "- ¿Cuántos ataques se han producido en cada país?"
   ]
  },
  {
   "cell_type": "code",
   "execution_count": 14,
   "metadata": {},
   "outputs": [
    {
     "data": {
      "text/plain": [
       "USA          719\n",
       "AUSTRALIA    324\n",
       "Name: country, dtype: int64"
      ]
     },
     "execution_count": 14,
     "metadata": {},
     "output_type": "execute_result"
    }
   ],
   "source": [
    "ataques_isin['country'].value_counts()"
   ]
  },
  {
   "attachments": {},
   "cell_type": "markdown",
   "metadata": {},
   "source": [
    "- ¿Ha habido ataques en Australia a gente que estuviera remando (lo encontrareis como Paddling en el DataFrame en la columna activity)?"
   ]
  },
  {
   "cell_type": "code",
   "execution_count": 15,
   "metadata": {},
   "outputs": [
    {
     "data": {
      "text/html": [
       "<div>\n",
       "<style scoped>\n",
       "    .dataframe tbody tr th:only-of-type {\n",
       "        vertical-align: middle;\n",
       "    }\n",
       "\n",
       "    .dataframe tbody tr th {\n",
       "        vertical-align: top;\n",
       "    }\n",
       "\n",
       "    .dataframe thead th {\n",
       "        text-align: right;\n",
       "    }\n",
       "</style>\n",
       "<table border=\"1\" class=\"dataframe\">\n",
       "  <thead>\n",
       "    <tr style=\"text-align: right;\">\n",
       "      <th></th>\n",
       "      <th>case_number</th>\n",
       "      <th>unnamed:_0</th>\n",
       "      <th>year</th>\n",
       "      <th>type</th>\n",
       "      <th>country</th>\n",
       "      <th>area</th>\n",
       "      <th>location</th>\n",
       "      <th>activity</th>\n",
       "      <th>name</th>\n",
       "      <th>sex_</th>\n",
       "      <th>age</th>\n",
       "      <th>time</th>\n",
       "      <th>species_</th>\n",
       "      <th>href</th>\n",
       "    </tr>\n",
       "  </thead>\n",
       "  <tbody>\n",
       "  </tbody>\n",
       "</table>\n",
       "</div>"
      ],
      "text/plain": [
       "Empty DataFrame\n",
       "Columns: [case_number, unnamed:_0, year, type, country, area, location, activity, name, sex_, age, time, species_, href]\n",
       "Index: []"
      ]
     },
     "execution_count": 15,
     "metadata": {},
     "output_type": "execute_result"
    }
   ],
   "source": [
    "ataques_paddling = df_csv[(df_csv[\"activity\"] == \"Paddling\") & (df_csv[\"country\"] == \"AUSTRALIA\")]\n",
    "ataques_paddling\n",
    "# No devuelve ataques que cumplan las dos condiciones"
   ]
  },
  {
   "attachments": {},
   "cell_type": "markdown",
   "metadata": {},
   "source": [
    "-  ¿Cuántos ataques se han producido en Australia antes del 2000?"
   ]
  },
  {
   "cell_type": "code",
   "execution_count": 34,
   "metadata": {},
   "outputs": [
    {
     "name": "stdout",
     "output_type": "stream",
     "text": [
      "El número de ataques en Autralia antes del 2000 es 157\n"
     ]
    },
    {
     "data": {
      "text/html": [
       "<div>\n",
       "<style scoped>\n",
       "    .dataframe tbody tr th:only-of-type {\n",
       "        vertical-align: middle;\n",
       "    }\n",
       "\n",
       "    .dataframe tbody tr th {\n",
       "        vertical-align: top;\n",
       "    }\n",
       "\n",
       "    .dataframe thead th {\n",
       "        text-align: right;\n",
       "    }\n",
       "</style>\n",
       "<table border=\"1\" class=\"dataframe\">\n",
       "  <thead>\n",
       "    <tr style=\"text-align: right;\">\n",
       "      <th></th>\n",
       "      <th>case_number</th>\n",
       "      <th>unnamed:_0</th>\n",
       "      <th>year</th>\n",
       "      <th>type</th>\n",
       "      <th>country</th>\n",
       "      <th>area</th>\n",
       "      <th>location</th>\n",
       "      <th>activity</th>\n",
       "      <th>name</th>\n",
       "      <th>sex_</th>\n",
       "      <th>age</th>\n",
       "      <th>time</th>\n",
       "      <th>species_</th>\n",
       "      <th>href</th>\n",
       "      <th>siglo</th>\n",
       "    </tr>\n",
       "  </thead>\n",
       "  <tbody>\n",
       "    <tr>\n",
       "      <th>1979</th>\n",
       "      <td>2000.12.03</td>\n",
       "      <td>1986</td>\n",
       "      <td>2000.0</td>\n",
       "      <td>Unprovoked</td>\n",
       "      <td>AUSTRALIA</td>\n",
       "      <td>Queensland</td>\n",
       "      <td>Sykes Reef, Great Barrier Reef</td>\n",
       "      <td>Spearfishing</td>\n",
       "      <td>Chris Hogan</td>\n",
       "      <td>M</td>\n",
       "      <td>38</td>\n",
       "      <td>09h30</td>\n",
       "      <td>Bronze whaler shark, 2.5 m [8.25']</td>\n",
       "      <td>http://sharkattackfile.net/spreadsheets/pdf_di...</td>\n",
       "      <td>siglo-XXI</td>\n",
       "    </tr>\n",
       "    <tr>\n",
       "      <th>1985</th>\n",
       "      <td>2000.11.06.b</td>\n",
       "      <td>1992</td>\n",
       "      <td>2000.0</td>\n",
       "      <td>Unprovoked</td>\n",
       "      <td>AUSTRALIA</td>\n",
       "      <td>Western Australia</td>\n",
       "      <td>Cottesloe Beach, Perth</td>\n",
       "      <td>Swimming</td>\n",
       "      <td>Dirk Avery</td>\n",
       "      <td>M</td>\n",
       "      <td>52</td>\n",
       "      <td>06h30</td>\n",
       "      <td>White shark, 4.9 m [16']</td>\n",
       "      <td>http://sharkattackfile.net/spreadsheets/pdf_di...</td>\n",
       "      <td>siglo-XXI</td>\n",
       "    </tr>\n",
       "  </tbody>\n",
       "</table>\n",
       "</div>"
      ],
      "text/plain": [
       "       case_number  unnamed:_0    year        type    country  \\\n",
       "1979    2000.12.03        1986  2000.0  Unprovoked  AUSTRALIA   \n",
       "1985  2000.11.06.b        1992  2000.0  Unprovoked  AUSTRALIA   \n",
       "\n",
       "                   area                        location      activity  \\\n",
       "1979         Queensland  Sykes Reef, Great Barrier Reef  Spearfishing   \n",
       "1985  Western Australia          Cottesloe Beach, Perth      Swimming   \n",
       "\n",
       "             name sex_ age   time                             species_  \\\n",
       "1979  Chris Hogan    M  38  09h30  Bronze whaler shark, 2.5 m [8.25']    \n",
       "1985   Dirk Avery    M  52  06h30            White shark, 4.9 m [16']    \n",
       "\n",
       "                                                   href      siglo  \n",
       "1979  http://sharkattackfile.net/spreadsheets/pdf_di...  siglo-XXI  \n",
       "1985  http://sharkattackfile.net/spreadsheets/pdf_di...  siglo-XXI  "
      ]
     },
     "execution_count": 34,
     "metadata": {},
     "output_type": "execute_result"
    }
   ],
   "source": [
    "df_ataques_fecha = df_csv[(df_csv[\"year\"] <= 2000.0) & (df_csv[\"country\"] == \"AUSTRALIA\")]\n",
    "print(f'El número de ataques en Autralia antes del 2000 es {df_ataques_fecha.shape[0]}')\n",
    "df_ataques_fecha.head(2)\n"
   ]
  },
  {
   "attachments": {},
   "cell_type": "markdown",
   "metadata": {},
   "source": [
    "-  ¿Y después del 2000?"
   ]
  },
  {
   "cell_type": "code",
   "execution_count": 35,
   "metadata": {},
   "outputs": [
    {
     "name": "stdout",
     "output_type": "stream",
     "text": [
      "El número de ataques en Autralia después del 2000 es 167\n"
     ]
    },
    {
     "data": {
      "text/html": [
       "<div>\n",
       "<style scoped>\n",
       "    .dataframe tbody tr th:only-of-type {\n",
       "        vertical-align: middle;\n",
       "    }\n",
       "\n",
       "    .dataframe tbody tr th {\n",
       "        vertical-align: top;\n",
       "    }\n",
       "\n",
       "    .dataframe thead th {\n",
       "        text-align: right;\n",
       "    }\n",
       "</style>\n",
       "<table border=\"1\" class=\"dataframe\">\n",
       "  <thead>\n",
       "    <tr style=\"text-align: right;\">\n",
       "      <th></th>\n",
       "      <th>case_number</th>\n",
       "      <th>unnamed:_0</th>\n",
       "      <th>year</th>\n",
       "      <th>type</th>\n",
       "      <th>country</th>\n",
       "      <th>area</th>\n",
       "      <th>location</th>\n",
       "      <th>activity</th>\n",
       "      <th>name</th>\n",
       "      <th>sex_</th>\n",
       "      <th>age</th>\n",
       "      <th>time</th>\n",
       "      <th>species_</th>\n",
       "      <th>href</th>\n",
       "      <th>siglo</th>\n",
       "    </tr>\n",
       "  </thead>\n",
       "  <tbody>\n",
       "    <tr>\n",
       "      <th>10</th>\n",
       "      <td>2018.05.24</td>\n",
       "      <td>10</td>\n",
       "      <td>2018.0</td>\n",
       "      <td>Provoked</td>\n",
       "      <td>AUSTRALIA</td>\n",
       "      <td>Queensland</td>\n",
       "      <td>Cairns Aquarium</td>\n",
       "      <td>Feeding sharks</td>\n",
       "      <td>male</td>\n",
       "      <td>M</td>\n",
       "      <td>32</td>\n",
       "      <td>Morning</td>\n",
       "      <td>Grey reef shark</td>\n",
       "      <td>http://sharkattackfile.net/spreadsheets/pdf_di...</td>\n",
       "      <td>siglo-XXI</td>\n",
       "    </tr>\n",
       "    <tr>\n",
       "      <th>21</th>\n",
       "      <td>2018.04.25.a</td>\n",
       "      <td>21</td>\n",
       "      <td>2018.0</td>\n",
       "      <td>Unprovoked</td>\n",
       "      <td>AUSTRALIA</td>\n",
       "      <td>Western Australia</td>\n",
       "      <td>Surfers Point, Prevelly</td>\n",
       "      <td>Surfing</td>\n",
       "      <td>Rob Bruce</td>\n",
       "      <td>M</td>\n",
       "      <td>60</td>\n",
       "      <td>09h30</td>\n",
       "      <td>3 m shark</td>\n",
       "      <td>http://sharkattackfile.net/spreadsheets/pdf_di...</td>\n",
       "      <td>siglo-XXI</td>\n",
       "    </tr>\n",
       "  </tbody>\n",
       "</table>\n",
       "</div>"
      ],
      "text/plain": [
       "     case_number  unnamed:_0    year        type    country  \\\n",
       "10    2018.05.24          10  2018.0    Provoked  AUSTRALIA   \n",
       "21  2018.04.25.a          21  2018.0  Unprovoked  AUSTRALIA   \n",
       "\n",
       "                 area                 location        activity       name  \\\n",
       "10         Queensland          Cairns Aquarium  Feeding sharks       male   \n",
       "21  Western Australia  Surfers Point, Prevelly         Surfing  Rob Bruce   \n",
       "\n",
       "   sex_ age     time         species_  \\\n",
       "10    M  32  Morning  Grey reef shark   \n",
       "21    M  60    09h30        3 m shark   \n",
       "\n",
       "                                                 href      siglo  \n",
       "10  http://sharkattackfile.net/spreadsheets/pdf_di...  siglo-XXI  \n",
       "21  http://sharkattackfile.net/spreadsheets/pdf_di...  siglo-XXI  "
      ]
     },
     "execution_count": 35,
     "metadata": {},
     "output_type": "execute_result"
    }
   ],
   "source": [
    "df_ataques_fecha2 = df_csv[(df_csv[\"year\"] > 2000.0) & (df_csv[\"country\"] == \"AUSTRALIA\")]\n",
    "print(f'El número de ataques en Autralia después del 2000 es {df_ataques_fecha2.shape[0]}')\n",
    "df_ataques_fecha2.head(2)\n"
   ]
  },
  {
   "attachments": {},
   "cell_type": "markdown",
   "metadata": {},
   "source": [
    "------------"
   ]
  },
  {
   "attachments": {},
   "cell_type": "markdown",
   "metadata": {},
   "source": [
    "**EJERCICIO 5** \n",
    "\n",
    "Extraed unicamente los ataques a mujeres."
   ]
  },
  {
   "cell_type": "code",
   "execution_count": 36,
   "metadata": {},
   "outputs": [
    {
     "name": "stdout",
     "output_type": "stream",
     "text": [
      "El número de ataques en Autralia a mujeres es 31\n"
     ]
    },
    {
     "data": {
      "text/html": [
       "<div>\n",
       "<style scoped>\n",
       "    .dataframe tbody tr th:only-of-type {\n",
       "        vertical-align: middle;\n",
       "    }\n",
       "\n",
       "    .dataframe tbody tr th {\n",
       "        vertical-align: top;\n",
       "    }\n",
       "\n",
       "    .dataframe thead th {\n",
       "        text-align: right;\n",
       "    }\n",
       "</style>\n",
       "<table border=\"1\" class=\"dataframe\">\n",
       "  <thead>\n",
       "    <tr style=\"text-align: right;\">\n",
       "      <th></th>\n",
       "      <th>case_number</th>\n",
       "      <th>unnamed:_0</th>\n",
       "      <th>year</th>\n",
       "      <th>type</th>\n",
       "      <th>country</th>\n",
       "      <th>area</th>\n",
       "      <th>location</th>\n",
       "      <th>activity</th>\n",
       "      <th>name</th>\n",
       "      <th>sex_</th>\n",
       "      <th>age</th>\n",
       "      <th>time</th>\n",
       "      <th>species_</th>\n",
       "      <th>href</th>\n",
       "      <th>siglo</th>\n",
       "    </tr>\n",
       "  </thead>\n",
       "  <tbody>\n",
       "    <tr>\n",
       "      <th>40</th>\n",
       "      <td>2018.02.23</td>\n",
       "      <td>40</td>\n",
       "      <td>2018.0</td>\n",
       "      <td>Unprovoked</td>\n",
       "      <td>AUSTRALIA</td>\n",
       "      <td>New South Wales</td>\n",
       "      <td>Little Congwong Beach, La Perouse</td>\n",
       "      <td>Swimming</td>\n",
       "      <td>Anna Shurapey</td>\n",
       "      <td>F</td>\n",
       "      <td>55</td>\n",
       "      <td>19h00, Dusk</td>\n",
       "      <td>Juvenile white shark,  2.7 to 3.2 m</td>\n",
       "      <td>http://sharkattackfile.net/spreadsheets/pdf_di...</td>\n",
       "      <td>siglo-XXI</td>\n",
       "    </tr>\n",
       "    <tr>\n",
       "      <th>71</th>\n",
       "      <td>2017.10.22</td>\n",
       "      <td>71</td>\n",
       "      <td>2017.0</td>\n",
       "      <td>Unprovoked</td>\n",
       "      <td>AUSTRALIA</td>\n",
       "      <td>South Australia</td>\n",
       "      <td>Normanville</td>\n",
       "      <td>Kayaking / Fishing</td>\n",
       "      <td>Sarah Williams</td>\n",
       "      <td>F</td>\n",
       "      <td>15</td>\n",
       "      <td>Afternoon</td>\n",
       "      <td>White shark, 4.5 m</td>\n",
       "      <td>http://sharkattackfile.net/spreadsheets/pdf_di...</td>\n",
       "      <td>siglo-XXI</td>\n",
       "    </tr>\n",
       "  </tbody>\n",
       "</table>\n",
       "</div>"
      ],
      "text/plain": [
       "   case_number  unnamed:_0    year        type    country             area  \\\n",
       "40  2018.02.23          40  2018.0  Unprovoked  AUSTRALIA  New South Wales   \n",
       "71  2017.10.22          71  2017.0  Unprovoked  AUSTRALIA  South Australia   \n",
       "\n",
       "                              location            activity            name  \\\n",
       "40  Little Congwong Beach, La Perouse             Swimming  Anna Shurapey    \n",
       "71                         Normanville  Kayaking / Fishing  Sarah Williams   \n",
       "\n",
       "   sex_ age         time                             species_  \\\n",
       "40    F  55  19h00, Dusk  Juvenile white shark,  2.7 to 3.2 m   \n",
       "71    F  15    Afternoon                   White shark, 4.5 m   \n",
       "\n",
       "                                                 href      siglo  \n",
       "40  http://sharkattackfile.net/spreadsheets/pdf_di...  siglo-XXI  \n",
       "71  http://sharkattackfile.net/spreadsheets/pdf_di...  siglo-XXI  "
      ]
     },
     "execution_count": 36,
     "metadata": {},
     "output_type": "execute_result"
    }
   ],
   "source": [
    "df_ataques_mujeres = df_csv[(df_csv[\"sex_\"] == 'F') & (df_csv[\"country\"] == \"AUSTRALIA\")]\n",
    "print(f'El número de ataques en Autralia a mujeres es {df_ataques_mujeres.shape[0]}')\n",
    "df_ataques_mujeres.head(2)\n",
    "\n",
    "# 31 registros/ataques a mujeres en Australia"
   ]
  },
  {
   "attachments": {},
   "cell_type": "markdown",
   "metadata": {},
   "source": [
    "---------------"
   ]
  },
  {
   "attachments": {},
   "cell_type": "markdown",
   "metadata": {},
   "source": [
    "**EJERCICIO 6**\n",
    "\n",
    "¿Cuántas mujeres fueron atacadas en España?"
   ]
  },
  {
   "cell_type": "code",
   "execution_count": 37,
   "metadata": {},
   "outputs": [
    {
     "name": "stdout",
     "output_type": "stream",
     "text": [
      "El número de ataques en España a mujeres es 1\n"
     ]
    },
    {
     "data": {
      "text/html": [
       "<div>\n",
       "<style scoped>\n",
       "    .dataframe tbody tr th:only-of-type {\n",
       "        vertical-align: middle;\n",
       "    }\n",
       "\n",
       "    .dataframe tbody tr th {\n",
       "        vertical-align: top;\n",
       "    }\n",
       "\n",
       "    .dataframe thead th {\n",
       "        text-align: right;\n",
       "    }\n",
       "</style>\n",
       "<table border=\"1\" class=\"dataframe\">\n",
       "  <thead>\n",
       "    <tr style=\"text-align: right;\">\n",
       "      <th></th>\n",
       "      <th>case_number</th>\n",
       "      <th>unnamed:_0</th>\n",
       "      <th>year</th>\n",
       "      <th>type</th>\n",
       "      <th>country</th>\n",
       "      <th>area</th>\n",
       "      <th>location</th>\n",
       "      <th>activity</th>\n",
       "      <th>name</th>\n",
       "      <th>sex_</th>\n",
       "      <th>age</th>\n",
       "      <th>time</th>\n",
       "      <th>species_</th>\n",
       "      <th>href</th>\n",
       "      <th>siglo</th>\n",
       "    </tr>\n",
       "  </thead>\n",
       "  <tbody>\n",
       "    <tr>\n",
       "      <th>98</th>\n",
       "      <td>2017.08.26.b</td>\n",
       "      <td>98</td>\n",
       "      <td>2017.0</td>\n",
       "      <td>Invalid</td>\n",
       "      <td>SPAIN</td>\n",
       "      <td>CastellÃ³n</td>\n",
       "      <td>Grao de Moncofa</td>\n",
       "      <td>Swimming</td>\n",
       "      <td>female</td>\n",
       "      <td>F</td>\n",
       "      <td>11</td>\n",
       "      <td>Midday</td>\n",
       "      <td>Shark involvement questionable</td>\n",
       "      <td>http://sharkattackfile.net/spreadsheets/pdf_di...</td>\n",
       "      <td>siglo-XXI</td>\n",
       "    </tr>\n",
       "  </tbody>\n",
       "</table>\n",
       "</div>"
      ],
      "text/plain": [
       "     case_number  unnamed:_0    year     type country        area  \\\n",
       "98  2017.08.26.b          98  2017.0  Invalid   SPAIN  CastellÃ³n   \n",
       "\n",
       "           location  activity    name sex_ age    time  \\\n",
       "98  Grao de Moncofa  Swimming  female    F  11  Midday   \n",
       "\n",
       "                          species_  \\\n",
       "98  Shark involvement questionable   \n",
       "\n",
       "                                                 href      siglo  \n",
       "98  http://sharkattackfile.net/spreadsheets/pdf_di...  siglo-XXI  "
      ]
     },
     "execution_count": 37,
     "metadata": {},
     "output_type": "execute_result"
    }
   ],
   "source": [
    "df_ataques_mujeres2 = df_csv[(df_csv[\"sex_\"] == 'F') & (df_csv[\"country\"] == \"SPAIN\")]\n",
    "print(f'El número de ataques en España a mujeres es {df_ataques_mujeres2.shape[0]}')\n",
    "df_ataques_mujeres2.head(2)\n"
   ]
  },
  {
   "attachments": {},
   "cell_type": "markdown",
   "metadata": {},
   "source": [
    "----------------"
   ]
  },
  {
   "attachments": {},
   "cell_type": "markdown",
   "metadata": {},
   "source": [
    "**EJERCICIO 7** \n",
    "\n",
    "Extraed los ataques que se hayan producido en el año 2000, 1997 y 2006. Utilizad el método isin() para resolver este ejercicio."
   ]
  },
  {
   "cell_type": "code",
   "execution_count": 20,
   "metadata": {},
   "outputs": [
    {
     "data": {
      "text/plain": [
       "2006.0    40\n",
       "2000.0    33\n",
       "1997.0    19\n",
       "Name: year, dtype: int64"
      ]
     },
     "execution_count": 20,
     "metadata": {},
     "output_type": "execute_result"
    }
   ],
   "source": [
    "ataques_años= df_csv[df_csv['year'].isin([2000.0, 1997.0,2006.0])]\n",
    "ataques_años['year'].value_counts()"
   ]
  },
  {
   "attachments": {},
   "cell_type": "markdown",
   "metadata": {},
   "source": [
    "---"
   ]
  },
  {
   "attachments": {},
   "cell_type": "markdown",
   "metadata": {},
   "source": [
    "**EJERCICIO 8**\n",
    "\n",
    "Si extraemos los valores únicos de la columna species nos podemos dar cuenta que está un poco sucia y extraer informacion útil de la misma se puede convertir en algo difícil. En este ejercicio tendréis que extraer los ataques que han ocurrido por tiburón blanco (lo encontraremos en la columna species como algo que contenga white o White). Usad el método str.contains() para resolver este ejercicio."
   ]
  },
  {
   "cell_type": "code",
   "execution_count": 21,
   "metadata": {},
   "outputs": [],
   "source": [
    "#patron = '^w\\w+' #con este patron regex filtramos por palabras que empiecen por w y sigan con más letras"
   ]
  },
  {
   "cell_type": "code",
   "execution_count": 22,
   "metadata": {},
   "outputs": [],
   "source": [
    "patron2 = '.+white.+' #con este patrón regex filtramos por la palabra white"
   ]
  },
  {
   "cell_type": "code",
   "execution_count": 23,
   "metadata": {},
   "outputs": [
    {
     "data": {
      "text/plain": [
       "Index(['case_number', 'unnamed:_0', 'year', 'type', 'country', 'area',\n",
       "       'location', 'activity', 'name', 'sex_', 'age', 'time', 'species_',\n",
       "       'href'],\n",
       "      dtype='object')"
      ]
     },
     "execution_count": 23,
     "metadata": {},
     "output_type": "execute_result"
    }
   ],
   "source": [
    "df_csv.columns"
   ]
  },
  {
   "cell_type": "code",
   "execution_count": 38,
   "metadata": {},
   "outputs": [
    {
     "name": "stdout",
     "output_type": "stream",
     "text": [
      "El número de ataques por tiburon blanco es 140\n"
     ]
    },
    {
     "data": {
      "text/html": [
       "<div>\n",
       "<style scoped>\n",
       "    .dataframe tbody tr th:only-of-type {\n",
       "        vertical-align: middle;\n",
       "    }\n",
       "\n",
       "    .dataframe tbody tr th {\n",
       "        vertical-align: top;\n",
       "    }\n",
       "\n",
       "    .dataframe thead th {\n",
       "        text-align: right;\n",
       "    }\n",
       "</style>\n",
       "<table border=\"1\" class=\"dataframe\">\n",
       "  <thead>\n",
       "    <tr style=\"text-align: right;\">\n",
       "      <th></th>\n",
       "      <th>case_number</th>\n",
       "      <th>unnamed:_0</th>\n",
       "      <th>year</th>\n",
       "      <th>type</th>\n",
       "      <th>country</th>\n",
       "      <th>area</th>\n",
       "      <th>location</th>\n",
       "      <th>activity</th>\n",
       "      <th>name</th>\n",
       "      <th>sex_</th>\n",
       "      <th>age</th>\n",
       "      <th>time</th>\n",
       "      <th>species_</th>\n",
       "      <th>href</th>\n",
       "      <th>siglo</th>\n",
       "    </tr>\n",
       "  </thead>\n",
       "  <tbody>\n",
       "    <tr>\n",
       "      <th>40</th>\n",
       "      <td>2018.02.23</td>\n",
       "      <td>40</td>\n",
       "      <td>2018.0</td>\n",
       "      <td>Unprovoked</td>\n",
       "      <td>AUSTRALIA</td>\n",
       "      <td>New South Wales</td>\n",
       "      <td>Little Congwong Beach, La Perouse</td>\n",
       "      <td>Swimming</td>\n",
       "      <td>Anna Shurapey</td>\n",
       "      <td>F</td>\n",
       "      <td>55</td>\n",
       "      <td>19h00, Dusk</td>\n",
       "      <td>Juvenile white shark,  2.7 to 3.2 m</td>\n",
       "      <td>http://sharkattackfile.net/spreadsheets/pdf_di...</td>\n",
       "      <td>siglo-XXI</td>\n",
       "    </tr>\n",
       "    <tr>\n",
       "      <th>459</th>\n",
       "      <td>2015.01.06</td>\n",
       "      <td>460</td>\n",
       "      <td>2015.0</td>\n",
       "      <td>Unprovoked</td>\n",
       "      <td>BAHAMAS</td>\n",
       "      <td>Abaco Islands</td>\n",
       "      <td>Tahiti Beach, Elbow Cay</td>\n",
       "      <td>Snorkeling</td>\n",
       "      <td>Lacy Webb</td>\n",
       "      <td>F</td>\n",
       "      <td>34</td>\n",
       "      <td>16h00</td>\n",
       "      <td>White shark or oceanic whitetip shark</td>\n",
       "      <td>http://sharkattackfile.net/spreadsheets/pdf_di...</td>\n",
       "      <td>siglo-XXI</td>\n",
       "    </tr>\n",
       "  </tbody>\n",
       "</table>\n",
       "</div>"
      ],
      "text/plain": [
       "    case_number  unnamed:_0    year        type    country             area  \\\n",
       "40   2018.02.23          40  2018.0  Unprovoked  AUSTRALIA  New South Wales   \n",
       "459  2015.01.06         460  2015.0  Unprovoked    BAHAMAS    Abaco Islands   \n",
       "\n",
       "                               location    activity            name sex_ age  \\\n",
       "40   Little Congwong Beach, La Perouse     Swimming  Anna Shurapey     F  55   \n",
       "459             Tahiti Beach, Elbow Cay  Snorkeling       Lacy Webb    F  34   \n",
       "\n",
       "            time                               species_  \\\n",
       "40   19h00, Dusk    Juvenile white shark,  2.7 to 3.2 m   \n",
       "459        16h00  White shark or oceanic whitetip shark   \n",
       "\n",
       "                                                  href      siglo  \n",
       "40   http://sharkattackfile.net/spreadsheets/pdf_di...  siglo-XXI  \n",
       "459  http://sharkattackfile.net/spreadsheets/pdf_di...  siglo-XXI  "
      ]
     },
     "execution_count": 38,
     "metadata": {},
     "output_type": "execute_result"
    }
   ],
   "source": [
    "tiburon_blanco= df_csv[df_csv[\"species_\"].str.contains(patron2, case = False, regex=True)]\n",
    "print(f'El número de ataques por tiburon blanco es {tiburon_blanco.shape[0]}')\n",
    "tiburon_blanco.head(2)\n"
   ]
  },
  {
   "attachments": {},
   "cell_type": "markdown",
   "metadata": {},
   "source": [
    "---"
   ]
  },
  {
   "attachments": {},
   "cell_type": "markdown",
   "metadata": {},
   "source": [
    "**EJERCICIO 9** \n",
    "\n",
    "Extraed ahora los ataques por tiburón blanco o tigre. Utilizad el método str.contains() para resolver este ejercicio."
   ]
  },
  {
   "cell_type": "code",
   "execution_count": 25,
   "metadata": {},
   "outputs": [],
   "source": [
    "# patron3 = '^[w|t]\\w+' #con este patron regex filtramos por palabras que empiecen por w ó t \n",
    "#y sigan con más letras"
   ]
  },
  {
   "cell_type": "code",
   "execution_count": 26,
   "metadata": {},
   "outputs": [],
   "source": [
    "patron4 = '.+white.+|.+tiger.+'"
   ]
  },
  {
   "cell_type": "code",
   "execution_count": 39,
   "metadata": {},
   "outputs": [
    {
     "name": "stdout",
     "output_type": "stream",
     "text": [
      "El número de ataques por tiburon blanco y tiburon tigre es 159\n"
     ]
    },
    {
     "data": {
      "text/html": [
       "<div>\n",
       "<style scoped>\n",
       "    .dataframe tbody tr th:only-of-type {\n",
       "        vertical-align: middle;\n",
       "    }\n",
       "\n",
       "    .dataframe tbody tr th {\n",
       "        vertical-align: top;\n",
       "    }\n",
       "\n",
       "    .dataframe thead th {\n",
       "        text-align: right;\n",
       "    }\n",
       "</style>\n",
       "<table border=\"1\" class=\"dataframe\">\n",
       "  <thead>\n",
       "    <tr style=\"text-align: right;\">\n",
       "      <th></th>\n",
       "      <th>case_number</th>\n",
       "      <th>unnamed:_0</th>\n",
       "      <th>year</th>\n",
       "      <th>type</th>\n",
       "      <th>country</th>\n",
       "      <th>area</th>\n",
       "      <th>location</th>\n",
       "      <th>activity</th>\n",
       "      <th>name</th>\n",
       "      <th>sex_</th>\n",
       "      <th>age</th>\n",
       "      <th>time</th>\n",
       "      <th>species_</th>\n",
       "      <th>href</th>\n",
       "      <th>siglo</th>\n",
       "    </tr>\n",
       "  </thead>\n",
       "  <tbody>\n",
       "    <tr>\n",
       "      <th>40</th>\n",
       "      <td>2018.02.23</td>\n",
       "      <td>40</td>\n",
       "      <td>2018.0</td>\n",
       "      <td>Unprovoked</td>\n",
       "      <td>AUSTRALIA</td>\n",
       "      <td>New South Wales</td>\n",
       "      <td>Little Congwong Beach, La Perouse</td>\n",
       "      <td>Swimming</td>\n",
       "      <td>Anna Shurapey</td>\n",
       "      <td>F</td>\n",
       "      <td>55</td>\n",
       "      <td>19h00, Dusk</td>\n",
       "      <td>Juvenile white shark,  2.7 to 3.2 m</td>\n",
       "      <td>http://sharkattackfile.net/spreadsheets/pdf_di...</td>\n",
       "      <td>siglo-XXI</td>\n",
       "    </tr>\n",
       "    <tr>\n",
       "      <th>406</th>\n",
       "      <td>2015.06.24.b</td>\n",
       "      <td>407</td>\n",
       "      <td>2015.0</td>\n",
       "      <td>Unprovoked</td>\n",
       "      <td>USA</td>\n",
       "      <td>North Carolina</td>\n",
       "      <td>Surf City</td>\n",
       "      <td>Swimming</td>\n",
       "      <td>Brady Noyes</td>\n",
       "      <td>M</td>\n",
       "      <td>6</td>\n",
       "      <td>12h25</td>\n",
       "      <td>Sandtiger shark</td>\n",
       "      <td>http://sharkattackfile.net/spreadsheets/pdf_di...</td>\n",
       "      <td>siglo-XXI</td>\n",
       "    </tr>\n",
       "  </tbody>\n",
       "</table>\n",
       "</div>"
      ],
      "text/plain": [
       "      case_number  unnamed:_0    year        type    country             area  \\\n",
       "40     2018.02.23          40  2018.0  Unprovoked  AUSTRALIA  New South Wales   \n",
       "406  2015.06.24.b         407  2015.0  Unprovoked        USA   North Carolina   \n",
       "\n",
       "                               location  activity            name sex_ age  \\\n",
       "40   Little Congwong Beach, La Perouse   Swimming  Anna Shurapey     F  55   \n",
       "406                           Surf City  Swimming     Brady Noyes    M   6   \n",
       "\n",
       "            time                             species_  \\\n",
       "40   19h00, Dusk  Juvenile white shark,  2.7 to 3.2 m   \n",
       "406        12h25                      Sandtiger shark   \n",
       "\n",
       "                                                  href      siglo  \n",
       "40   http://sharkattackfile.net/spreadsheets/pdf_di...  siglo-XXI  \n",
       "406  http://sharkattackfile.net/spreadsheets/pdf_di...  siglo-XXI  "
      ]
     },
     "execution_count": 39,
     "metadata": {},
     "output_type": "execute_result"
    }
   ],
   "source": [
    "tiburones = df_csv[df_csv[\"species_\"].str.contains(patron4, case = False, regex=True)]\n",
    "print(f'El número de ataques por tiburon blanco y tiburon tigre es {tiburones.shape[0]}')\n",
    "tiburones.head(2)"
   ]
  },
  {
   "attachments": {},
   "cell_type": "markdown",
   "metadata": {},
   "source": [
    "---"
   ]
  },
  {
   "attachments": {},
   "cell_type": "markdown",
   "metadata": {},
   "source": [
    "** EJERCICIO 10** \n",
    "\n",
    "Utilizando la columna de year cread una nueva columna llamada siglo que tiene siglo-XX o siglo-XXI. Donde el año sea menor que 2000 pondremos siglo-XX y el resto de los años siglo-XXI."
   ]
  },
  {
   "cell_type": "code",
   "execution_count": 28,
   "metadata": {},
   "outputs": [
    {
     "data": {
      "text/html": [
       "<div>\n",
       "<style scoped>\n",
       "    .dataframe tbody tr th:only-of-type {\n",
       "        vertical-align: middle;\n",
       "    }\n",
       "\n",
       "    .dataframe tbody tr th {\n",
       "        vertical-align: top;\n",
       "    }\n",
       "\n",
       "    .dataframe thead th {\n",
       "        text-align: right;\n",
       "    }\n",
       "</style>\n",
       "<table border=\"1\" class=\"dataframe\">\n",
       "  <thead>\n",
       "    <tr style=\"text-align: right;\">\n",
       "      <th></th>\n",
       "      <th>case_number</th>\n",
       "      <th>unnamed:_0</th>\n",
       "      <th>year</th>\n",
       "      <th>type</th>\n",
       "      <th>country</th>\n",
       "      <th>area</th>\n",
       "      <th>location</th>\n",
       "      <th>activity</th>\n",
       "      <th>name</th>\n",
       "      <th>sex_</th>\n",
       "      <th>age</th>\n",
       "      <th>time</th>\n",
       "      <th>species_</th>\n",
       "      <th>href</th>\n",
       "      <th>siglo</th>\n",
       "    </tr>\n",
       "  </thead>\n",
       "  <tbody>\n",
       "    <tr>\n",
       "      <th>0</th>\n",
       "      <td>2018.06.25</td>\n",
       "      <td>0</td>\n",
       "      <td>2018.0</td>\n",
       "      <td>Boating</td>\n",
       "      <td>USA</td>\n",
       "      <td>California</td>\n",
       "      <td>Oceanside, San Diego County</td>\n",
       "      <td>Paddling</td>\n",
       "      <td>Julie Wolfe</td>\n",
       "      <td>F</td>\n",
       "      <td>57</td>\n",
       "      <td>18h00</td>\n",
       "      <td>White shark</td>\n",
       "      <td>http://sharkattackfile.net/spreadsheets/pdf_di...</td>\n",
       "      <td>siglo-XXI</td>\n",
       "    </tr>\n",
       "    <tr>\n",
       "      <th>6</th>\n",
       "      <td>2018.06.03.a</td>\n",
       "      <td>6</td>\n",
       "      <td>2018.0</td>\n",
       "      <td>Unprovoked</td>\n",
       "      <td>BRAZIL</td>\n",
       "      <td>Pernambuco</td>\n",
       "      <td>Piedade Beach, Recife</td>\n",
       "      <td>Swimming</td>\n",
       "      <td>Jose Ernesto da Silva</td>\n",
       "      <td>M</td>\n",
       "      <td>18</td>\n",
       "      <td>Late afternoon</td>\n",
       "      <td>Tiger shark</td>\n",
       "      <td>http://sharkattackfile.net/spreadsheets/pdf_di...</td>\n",
       "      <td>siglo-XXI</td>\n",
       "    </tr>\n",
       "    <tr>\n",
       "      <th>8</th>\n",
       "      <td>2018.05.26.b</td>\n",
       "      <td>8</td>\n",
       "      <td>2018.0</td>\n",
       "      <td>Unprovoked</td>\n",
       "      <td>USA</td>\n",
       "      <td>Florida</td>\n",
       "      <td>Cocoa Beach, Brevard  County</td>\n",
       "      <td>Walking</td>\n",
       "      <td>Cody High</td>\n",
       "      <td>M</td>\n",
       "      <td>15</td>\n",
       "      <td>17h00</td>\n",
       "      <td>Bull shark, 6'</td>\n",
       "      <td>http://sharkattackfile.net/spreadsheets/pdf_di...</td>\n",
       "      <td>siglo-XXI</td>\n",
       "    </tr>\n",
       "    <tr>\n",
       "      <th>10</th>\n",
       "      <td>2018.05.24</td>\n",
       "      <td>10</td>\n",
       "      <td>2018.0</td>\n",
       "      <td>Provoked</td>\n",
       "      <td>AUSTRALIA</td>\n",
       "      <td>Queensland</td>\n",
       "      <td>Cairns Aquarium</td>\n",
       "      <td>Feeding sharks</td>\n",
       "      <td>male</td>\n",
       "      <td>M</td>\n",
       "      <td>32</td>\n",
       "      <td>Morning</td>\n",
       "      <td>Grey reef shark</td>\n",
       "      <td>http://sharkattackfile.net/spreadsheets/pdf_di...</td>\n",
       "      <td>siglo-XXI</td>\n",
       "    </tr>\n",
       "    <tr>\n",
       "      <th>13</th>\n",
       "      <td>2018.05.13.a</td>\n",
       "      <td>13</td>\n",
       "      <td>2018.0</td>\n",
       "      <td>Invalid</td>\n",
       "      <td>ENGLAND</td>\n",
       "      <td>Cornwall</td>\n",
       "      <td>Off Land's End</td>\n",
       "      <td>Fishing</td>\n",
       "      <td>Max Berryman</td>\n",
       "      <td>M</td>\n",
       "      <td>21</td>\n",
       "      <td>08h15</td>\n",
       "      <td>Invalid incident</td>\n",
       "      <td>http://sharkattackfile.net/spreadsheets/pdf_di...</td>\n",
       "      <td>siglo-XXI</td>\n",
       "    </tr>\n",
       "  </tbody>\n",
       "</table>\n",
       "</div>"
      ],
      "text/plain": [
       "     case_number  unnamed:_0    year        type    country        area  \\\n",
       "0     2018.06.25           0  2018.0     Boating        USA  California   \n",
       "6   2018.06.03.a           6  2018.0  Unprovoked     BRAZIL  Pernambuco   \n",
       "8   2018.05.26.b           8  2018.0  Unprovoked        USA     Florida   \n",
       "10    2018.05.24          10  2018.0    Provoked  AUSTRALIA  Queensland   \n",
       "13  2018.05.13.a          13  2018.0     Invalid    ENGLAND    Cornwall   \n",
       "\n",
       "                        location        activity                    name sex_  \\\n",
       "0    Oceanside, San Diego County        Paddling             Julie Wolfe    F   \n",
       "6          Piedade Beach, Recife        Swimming  Jose Ernesto da Silva     M   \n",
       "8   Cocoa Beach, Brevard  County         Walking               Cody High    M   \n",
       "10               Cairns Aquarium  Feeding sharks                    male    M   \n",
       "13                Off Land's End         Fishing            Max Berryman    M   \n",
       "\n",
       "   age            time          species_  \\\n",
       "0   57           18h00       White shark   \n",
       "6   18  Late afternoon       Tiger shark   \n",
       "8   15           17h00    Bull shark, 6'   \n",
       "10  32         Morning   Grey reef shark   \n",
       "13  21           08h15  Invalid incident   \n",
       "\n",
       "                                                 href      siglo  \n",
       "0   http://sharkattackfile.net/spreadsheets/pdf_di...  siglo-XXI  \n",
       "6   http://sharkattackfile.net/spreadsheets/pdf_di...  siglo-XXI  \n",
       "8   http://sharkattackfile.net/spreadsheets/pdf_di...  siglo-XXI  \n",
       "10  http://sharkattackfile.net/spreadsheets/pdf_di...  siglo-XXI  \n",
       "13  http://sharkattackfile.net/spreadsheets/pdf_di...  siglo-XXI  "
      ]
     },
     "execution_count": 28,
     "metadata": {},
     "output_type": "execute_result"
    }
   ],
   "source": [
    "# Utilizamos el método np.select, pasando las condiciones para separar por los años y creando las \n",
    "# opciones con los siglos.\n",
    "\n",
    "años = [df_csv[\"year\"] < 2000.0, df_csv[\"year\"] >= 2000.0] \n",
    "siglos = [\"siglo-XX\", \"siglo-XXI\"] \n",
    "\n",
    "df_csv['siglo']= np.select(años, siglos)\n",
    "df_csv.head()"
   ]
  },
  {
   "attachments": {},
   "cell_type": "markdown",
   "metadata": {},
   "source": [
    "---"
   ]
  },
  {
   "attachments": {},
   "cell_type": "markdown",
   "metadata": {},
   "source": [
    "**EJERCICIO 11** \n",
    "\n",
    "Guardad como un archivo csv nuevo. Lo usaremos en el pair programming de mañana."
   ]
  },
  {
   "cell_type": "code",
   "execution_count": 29,
   "metadata": {},
   "outputs": [],
   "source": [
    "# Guardamos el archivo en la carpeta del pair de hoy\n",
    "\n",
    "df_csv.to_csv(\"attacks3.csv\") "
   ]
  },
  {
   "cell_type": "code",
   "execution_count": 30,
   "metadata": {},
   "outputs": [],
   "source": [
    "# Guardamos el archivo en la carpeta del pair de mañana\n",
    "\n",
    "df_csv.to_csv(\"../pandas_V/attacks3.csv\")"
   ]
  }
 ],
 "metadata": {
  "kernelspec": {
   "display_name": "base",
   "language": "python",
   "name": "python3"
  },
  "language_info": {
   "codemirror_mode": {
    "name": "ipython",
    "version": 3
   },
   "file_extension": ".py",
   "mimetype": "text/x-python",
   "name": "python",
   "nbconvert_exporter": "python",
   "pygments_lexer": "ipython3",
   "version": "3.9.7"
  },
  "orig_nbformat": 4,
  "vscode": {
   "interpreter": {
    "hash": "819a5c43c1fad9e35c5b1180124e231b422fc24c453463d400a90e0aae1b9c8c"
   }
  }
 },
 "nbformat": 4,
 "nbformat_minor": 2
}
